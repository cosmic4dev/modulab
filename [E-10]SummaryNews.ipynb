{
 "cells": [
  {
   "cell_type": "markdown",
   "id": "arctic-replication",
   "metadata": {},
   "source": [
    "# 뉴스 기사 요약해보기\n",
    "\n"
   ]
  },
  {
   "cell_type": "markdown",
   "id": "engaged-package",
   "metadata": {},
   "source": [
    "평가문항과 상세기준\n",
    "1. Abstractive 모델 구성을 위한 텍스트 전처리 단계가 체계적으로 진행되었다.\n",
    "분석단계, 정제단계, 정규화와 불용어 제거, 데이터셋 분리, 인코딩 과정이 빠짐없이 체계적으로 진행되었다.\n",
    "\n",
    "2. 텍스트 요약모델이 성공적으로 학습되었음을 확인하였다.\n",
    "모델학습이 안정적으로 수렴되었음을 그래프를 통해 확인하였으며, 실제 요약문과 유사한 요약문장을 얻을 수 있었다.\n",
    "\n",
    "3. Extractive 요약을 시도해 보고 Abstractive 요약 결과과 함께 비교해 보았다.\n",
    "두 요약 결과를 문법완성도 측면과 핵심단어 포함 측면으로 나누어 비교분석 결과를 제시하였다."
   ]
  },
  {
   "cell_type": "markdown",
   "id": "homeless-encyclopedia",
   "metadata": {},
   "source": [
    "## 1. 데이터 수집\n",
    "\n",
    "아래의 링크의 '뉴스 데이터'를 사용했다.  \n",
    "[링크]https://github.com/sunnysai12345/News_Summary "
   ]
  },
  {
   "cell_type": "code",
   "execution_count": 1,
   "id": "strategic-binding",
   "metadata": {},
   "outputs": [
    {
     "data": {
      "text/html": [
       "<div>\n",
       "<style scoped>\n",
       "    .dataframe tbody tr th:only-of-type {\n",
       "        vertical-align: middle;\n",
       "    }\n",
       "\n",
       "    .dataframe tbody tr th {\n",
       "        vertical-align: top;\n",
       "    }\n",
       "\n",
       "    .dataframe thead th {\n",
       "        text-align: right;\n",
       "    }\n",
       "</style>\n",
       "<table border=\"1\" class=\"dataframe\">\n",
       "  <thead>\n",
       "    <tr style=\"text-align: right;\">\n",
       "      <th></th>\n",
       "      <th>headlines</th>\n",
       "      <th>text</th>\n",
       "    </tr>\n",
       "  </thead>\n",
       "  <tbody>\n",
       "    <tr>\n",
       "      <th>61608</th>\n",
       "      <td>Imtiaz changed my life: Nargis on Rockstar com...</td>\n",
       "      <td>On the completion of six years of her Bollywoo...</td>\n",
       "    </tr>\n",
       "    <tr>\n",
       "      <th>11457</th>\n",
       "      <td>Is life worth one pic? Woman who fell 800ft in...</td>\n",
       "      <td>India's 30-year-old Meenakshi Moorthy, who die...</td>\n",
       "    </tr>\n",
       "    <tr>\n",
       "      <th>73040</th>\n",
       "      <td>Madhya Pradesh Vyapam scam whistleblower's fat...</td>\n",
       "      <td>Vyapam scam whistleblower Ashish Chaturvedi's ...</td>\n",
       "    </tr>\n",
       "    <tr>\n",
       "      <th>16803</th>\n",
       "      <td>Will pay Ã¢ÂÂ¹20L to BJP leader who agrees to...</td>\n",
       "      <td>Haryana Aam Aadmi Party chief Naveen Jaihind o...</td>\n",
       "    </tr>\n",
       "    <tr>\n",
       "      <th>82748</th>\n",
       "      <td>Kareena, Abhishek's debut film Refugee complet...</td>\n",
       "      <td>Kareena Kapoor and Abhishek Bachchan's debut f...</td>\n",
       "    </tr>\n",
       "    <tr>\n",
       "      <th>39502</th>\n",
       "      <td>Which startups has $100-bn SoftBank Vision Fun...</td>\n",
       "      <td>Masayoshi Son-led SoftBank's $100-billion Visi...</td>\n",
       "    </tr>\n",
       "    <tr>\n",
       "      <th>43824</th>\n",
       "      <td>Mauritius President refuses to resign over fin...</td>\n",
       "      <td>Vowing to fight allegations levelled against h...</td>\n",
       "    </tr>\n",
       "    <tr>\n",
       "      <th>95482</th>\n",
       "      <td>Punjab police arrests prime accused in Nabha j...</td>\n",
       "      <td>The Punjab police has arrested one of the prim...</td>\n",
       "    </tr>\n",
       "    <tr>\n",
       "      <th>6020</th>\n",
       "      <td>Indian-origin woman faked cancer, tricked fami...</td>\n",
       "      <td>Indian-origin woman Jasmin Mistry was sentence...</td>\n",
       "    </tr>\n",
       "    <tr>\n",
       "      <th>35374</th>\n",
       "      <td>Govt removes 44 districts from Naxal-affected ...</td>\n",
       "      <td>The government has removed 44 districts where ...</td>\n",
       "    </tr>\n",
       "  </tbody>\n",
       "</table>\n",
       "</div>"
      ],
      "text/plain": [
       "                                               headlines  \\\n",
       "61608  Imtiaz changed my life: Nargis on Rockstar com...   \n",
       "11457  Is life worth one pic? Woman who fell 800ft in...   \n",
       "73040  Madhya Pradesh Vyapam scam whistleblower's fat...   \n",
       "16803  Will pay Ã¢ÂÂ¹20L to BJP leader who agrees to...   \n",
       "82748  Kareena, Abhishek's debut film Refugee complet...   \n",
       "39502  Which startups has $100-bn SoftBank Vision Fun...   \n",
       "43824  Mauritius President refuses to resign over fin...   \n",
       "95482  Punjab police arrests prime accused in Nabha j...   \n",
       "6020   Indian-origin woman faked cancer, tricked fami...   \n",
       "35374  Govt removes 44 districts from Naxal-affected ...   \n",
       "\n",
       "                                                    text  \n",
       "61608  On the completion of six years of her Bollywoo...  \n",
       "11457  India's 30-year-old Meenakshi Moorthy, who die...  \n",
       "73040  Vyapam scam whistleblower Ashish Chaturvedi's ...  \n",
       "16803  Haryana Aam Aadmi Party chief Naveen Jaihind o...  \n",
       "82748  Kareena Kapoor and Abhishek Bachchan's debut f...  \n",
       "39502  Masayoshi Son-led SoftBank's $100-billion Visi...  \n",
       "43824  Vowing to fight allegations levelled against h...  \n",
       "95482  The Punjab police has arrested one of the prim...  \n",
       "6020   Indian-origin woman Jasmin Mistry was sentence...  \n",
       "35374  The government has removed 44 districts where ...  "
      ]
     },
     "execution_count": 1,
     "metadata": {},
     "output_type": "execute_result"
    }
   ],
   "source": [
    "# 다운로드\n",
    "import pandas as pd\n",
    "import urllib.request\n",
    "urllib.request.urlretrieve(\"https://raw.githubusercontent.com/sunnysai12345/News_Summary/master/news_summary_more.csv\", filename=\"news_summary_more.csv\")\n",
    "data = pd.read_csv('news_summary_more.csv', encoding='iso-8859-1')\n",
    "\n",
    "# 다운된 데이터 샘플 일부(10개) 확인\n",
    "\n",
    "data.sample(10)"
   ]
  },
  {
   "cell_type": "markdown",
   "id": "breathing-interval",
   "metadata": {},
   "source": [
    "## 2. 데이터 전처리하기\n",
    "실습에서 사용된 전처리를 참고하여 각자 필요하다고 생각하는 전처리를 추가 사용하여 텍스트를 정규화 또는 정제해 보세요. 만약, 불용어 제거를 선택한다면 상대적으로 길이가 짧은 요약 데이터에 대해서도 불용어를 제거하는 것이 좋을지 고민해 보세요."
   ]
  },
  {
   "cell_type": "code",
   "execution_count": 2,
   "id": "metropolitan-flash",
   "metadata": {},
   "outputs": [
    {
     "name": "stdout",
     "output_type": "stream",
     "text": [
      "text 열에서 중복을 배제한 유일한 샘플의 수 : 98360\n",
      "headline 열에서 중복을 배제한 유일한 샘플의 수 : 98280\n"
     ]
    }
   ],
   "source": [
    "# 중복 샘플과 NULL 값 체크 \n",
    "\n",
    "print('text 열에서 중복을 배제한 유일한 샘플의 수 :', data['text'].nunique())\n",
    "print('headline 열에서 중복을 배제한 유일한 샘플의 수 :', data['headlines'].nunique())"
   ]
  },
  {
   "cell_type": "code",
   "execution_count": 3,
   "id": "experienced-facial",
   "metadata": {},
   "outputs": [
    {
     "name": "stdout",
     "output_type": "stream",
     "text": [
      "전체 샘플수:  98360\n"
     ]
    }
   ],
   "source": [
    "# 중복 샘플 제거하기\n",
    "# inplace=True 를 설정하면 DataFrame 타입 값을 return 하지 않고 data 내부를 직접적으로 바꿉니다\n",
    "data.drop_duplicates(subset = ['text'], inplace = True)\n",
    "print('전체 샘플수: ', (len(data)))"
   ]
  },
  {
   "cell_type": "markdown",
   "id": "bizarre-triple",
   "metadata": {},
   "source": [
    "#### text의 중복이 없다."
   ]
  },
  {
   "cell_type": "code",
   "execution_count": 4,
   "id": "equivalent-sydney",
   "metadata": {},
   "outputs": [
    {
     "name": "stdout",
     "output_type": "stream",
     "text": [
      "headlines    0\n",
      "text         0\n",
      "dtype: int64\n"
     ]
    }
   ],
   "source": [
    "# NULL 샘플 총합\n",
    "print(data.isnull().sum())"
   ]
  },
  {
   "cell_type": "markdown",
   "id": "engaged-amendment",
   "metadata": {},
   "source": [
    "check result: headline과 text 열에 null값 없다. dropna 작업은 Pass"
   ]
  },
  {
   "cell_type": "code",
   "execution_count": 5,
   "id": "discrete-tours",
   "metadata": {},
   "outputs": [
    {
     "name": "stdout",
     "output_type": "stream",
     "text": [
      "정규화 사전의 수:  120\n"
     ]
    }
   ],
   "source": [
    "# text normalization을 통해 불용어 제거할 것임.\n",
    "\n",
    "contractions = {\"ain't\": \"is not\", \"aren't\": \"are not\",\"can't\": \"cannot\", \"'cause\": \"because\", \"could've\": \"could have\", \"couldn't\": \"could not\",\n",
    "                           \"didn't\": \"did not\",  \"doesn't\": \"does not\", \"don't\": \"do not\", \"hadn't\": \"had not\", \"hasn't\": \"has not\", \"haven't\": \"have not\",\n",
    "                           \"he'd\": \"he would\",\"he'll\": \"he will\", \"he's\": \"he is\", \"how'd\": \"how did\", \"how'd'y\": \"how do you\", \"how'll\": \"how will\", \"how's\": \"how is\",\n",
    "                           \"I'd\": \"I would\", \"I'd've\": \"I would have\", \"I'll\": \"I will\", \"I'll've\": \"I will have\",\"I'm\": \"I am\", \"I've\": \"I have\", \"i'd\": \"i would\",\n",
    "                           \"i'd've\": \"i would have\", \"i'll\": \"i will\",  \"i'll've\": \"i will have\",\"i'm\": \"i am\", \"i've\": \"i have\", \"isn't\": \"is not\", \"it'd\": \"it would\",\n",
    "                           \"it'd've\": \"it would have\", \"it'll\": \"it will\", \"it'll've\": \"it will have\",\"it's\": \"it is\", \"let's\": \"let us\", \"ma'am\": \"madam\",\n",
    "                           \"mayn't\": \"may not\", \"might've\": \"might have\",\"mightn't\": \"might not\",\"mightn't've\": \"might not have\", \"must've\": \"must have\",\n",
    "                           \"mustn't\": \"must not\", \"mustn't've\": \"must not have\", \"needn't\": \"need not\", \"needn't've\": \"need not have\",\"o'clock\": \"of the clock\",\n",
    "                           \"oughtn't\": \"ought not\", \"oughtn't've\": \"ought not have\", \"shan't\": \"shall not\", \"sha'n't\": \"shall not\", \"shan't've\": \"shall not have\",\n",
    "                           \"she'd\": \"she would\", \"she'd've\": \"she would have\", \"she'll\": \"she will\", \"she'll've\": \"she will have\", \"she's\": \"she is\",\n",
    "                           \"should've\": \"should have\", \"shouldn't\": \"should not\", \"shouldn't've\": \"should not have\", \"so've\": \"so have\",\"so's\": \"so as\",\n",
    "                           \"this's\": \"this is\",\"that'd\": \"that would\", \"that'd've\": \"that would have\", \"that's\": \"that is\", \"there'd\": \"there would\",\n",
    "                           \"there'd've\": \"there would have\", \"there's\": \"there is\", \"here's\": \"here is\",\"they'd\": \"they would\", \"they'd've\": \"they would have\",\n",
    "                           \"they'll\": \"they will\", \"they'll've\": \"they will have\", \"they're\": \"they are\", \"they've\": \"they have\", \"to've\": \"to have\",\n",
    "                           \"wasn't\": \"was not\", \"we'd\": \"we would\", \"we'd've\": \"we would have\", \"we'll\": \"we will\", \"we'll've\": \"we will have\", \"we're\": \"we are\",\n",
    "                           \"we've\": \"we have\", \"weren't\": \"were not\", \"what'll\": \"what will\", \"what'll've\": \"what will have\", \"what're\": \"what are\",\n",
    "                           \"what's\": \"what is\", \"what've\": \"what have\", \"when's\": \"when is\", \"when've\": \"when have\", \"where'd\": \"where did\", \"where's\": \"where is\",\n",
    "                           \"where've\": \"where have\", \"who'll\": \"who will\", \"who'll've\": \"who will have\", \"who's\": \"who is\", \"who've\": \"who have\",\n",
    "                           \"why's\": \"why is\", \"why've\": \"why have\", \"will've\": \"will have\", \"won't\": \"will not\", \"won't've\": \"will not have\",\n",
    "                           \"would've\": \"would have\", \"wouldn't\": \"would not\", \"wouldn't've\": \"would not have\", \"y'all\": \"you all\",\n",
    "                           \"y'all'd\": \"you all would\",\"y'all'd've\": \"you all would have\",\"y'all're\": \"you all are\",\"y'all've\": \"you all have\",\n",
    "                           \"you'd\": \"you would\", \"you'd've\": \"you would have\", \"you'll\": \"you will\", \"you'll've\": \"you will have\",\n",
    "                           \"you're\": \"you are\", \"you've\": \"you have\"}\n",
    "\n",
    "print(\"정규화 사전의 수: \", len(contractions))"
   ]
  },
  {
   "cell_type": "code",
   "execution_count": 6,
   "id": "average-collar",
   "metadata": {},
   "outputs": [
    {
     "name": "stdout",
     "output_type": "stream",
     "text": [
      "stopwords 개수 : 179\n",
      "['i', 'me', 'my', 'myself', 'we', 'our', 'ours', 'ourselves', 'you', \"you're\", \"you've\", \"you'll\", \"you'd\", 'your', 'yours', 'yourself', 'yourselves', 'he', 'him', 'his', 'himself', 'she', \"she's\", 'her', 'hers', 'herself', 'it', \"it's\", 'its', 'itself', 'they', 'them', 'their', 'theirs', 'themselves', 'what', 'which', 'who', 'whom', 'this', 'that', \"that'll\", 'these', 'those', 'am', 'is', 'are', 'was', 'were', 'be', 'been', 'being', 'have', 'has', 'had', 'having', 'do', 'does', 'did', 'doing', 'a', 'an', 'the', 'and', 'but', 'if', 'or', 'because', 'as', 'until', 'while', 'of', 'at', 'by', 'for', 'with', 'about', 'against', 'between', 'into', 'through', 'during', 'before', 'after', 'above', 'below', 'to', 'from', 'up', 'down', 'in', 'out', 'on', 'off', 'over', 'under', 'again', 'further', 'then', 'once', 'here', 'there', 'when', 'where', 'why', 'how', 'all', 'any', 'both', 'each', 'few', 'more', 'most', 'other', 'some', 'such', 'no', 'nor', 'not', 'only', 'own', 'same', 'so', 'than', 'too', 'very', 's', 't', 'can', 'will', 'just', 'don', \"don't\", 'should', \"should've\", 'now', 'd', 'll', 'm', 'o', 're', 've', 'y', 'ain', 'aren', \"aren't\", 'couldn', \"couldn't\", 'didn', \"didn't\", 'doesn', \"doesn't\", 'hadn', \"hadn't\", 'hasn', \"hasn't\", 'haven', \"haven't\", 'isn', \"isn't\", 'ma', 'mightn', \"mightn't\", 'mustn', \"mustn't\", 'needn', \"needn't\", 'shan', \"shan't\", 'shouldn', \"shouldn't\", 'wasn', \"wasn't\", 'weren', \"weren't\", 'won', \"won't\", 'wouldn', \"wouldn't\"]\n"
     ]
    },
    {
     "name": "stderr",
     "output_type": "stream",
     "text": [
      "[nltk_data] Downloading package stopwords to /aiffel/nltk_data...\n",
      "[nltk_data]   Package stopwords is already up-to-date!\n"
     ]
    }
   ],
   "source": [
    "# Check stopwords count(NLTK 사용, 영어)\n",
    "\n",
    "#NLTK패키지에서 stopwords 사전과 데이터 전처리를 위한 부분 다운로드\n",
    "import nltk\n",
    "nltk.download('stopwords')\n",
    "from nltk.corpus import stopwords\n",
    "\n",
    "print('stopwords 개수 :', len(stopwords.words('english') ))\n",
    "print(stopwords.words('english'))"
   ]
  },
  {
   "cell_type": "code",
   "execution_count": 7,
   "id": "rubber-shopping",
   "metadata": {},
   "outputs": [],
   "source": [
    "# 문장 전처리 메소드 정의\n",
    "from bs4 import BeautifulSoup \n",
    "import re\n",
    "\n",
    "def preprocess_sentence(sentence, remove_stopwords=True):\n",
    "    sentence = sentence.lower() # 텍스트 소문자화\n",
    "    sentence = BeautifulSoup(sentence, \"lxml\").text # <br />, <a href = ...> 등의 html 태그 제거\n",
    "    sentence = re.sub(r'\\([^)]*\\)', '', sentence) # 괄호로 닫힌 문자열 (...) 제거 Ex) my husband (and myself!) for => my husband for\n",
    "    sentence = re.sub('\"','', sentence) # 쌍따옴표 \" 제거\n",
    "    sentence = ' '.join([contractions[t] if t in contractions else t for t in sentence.split(\" \")]) # 약어 정규화\n",
    "    sentence = re.sub(r\"'s\\b\",\"\", sentence) # 소유격 제거. Ex) roland's -> roland\n",
    "    sentence = re.sub(\"[^a-zA-Z]\", \" \", sentence) # 영어 외 문자(숫자, 특수문자 등) 공백으로 변환\n",
    "    sentence = re.sub('[m]{2,}', 'mm', sentence) # m이 3개 이상이면 2개로 변경. Ex) ummmmmmm yeah -> umm yeah\n",
    "    \n",
    "    # 불용어 제거 (Text)\n",
    "    if remove_stopwords:\n",
    "        tokens = ' '.join(word for word in sentence.split() if not word in stopwords.words('english') if len(word) > 1)\n",
    "    # 불용어 미제거 (Summary)\n",
    "    else:\n",
    "        tokens = ' '.join(word for word in sentence.split() if len(word) > 1)\n",
    "    return tokens"
   ]
  },
  {
   "cell_type": "code",
   "execution_count": 8,
   "id": "cloudy-audit",
   "metadata": {},
   "outputs": [
    {
     "name": "stdout",
     "output_type": "stream",
     "text": [
      "everything bought great infact ordered twice third ordered wasfor mother father\n",
      "great way to start the day\n"
     ]
    }
   ],
   "source": [
    "# 임시 데이터를 만들어 이를 preprocess_sentence()에 넣어봄\n",
    "\n",
    "temp_text = 'Everything I bought was great, infact I ordered twice and the third ordered was<br />for my mother and father.'\n",
    "temp_summary = 'Great way to start (or finish) the day!!!'\n",
    "\n",
    "print(preprocess_sentence(temp_text))\n",
    "print(preprocess_sentence(temp_summary, False))  # 불용어를 제거하지 않습니다."
   ]
  },
  {
   "cell_type": "markdown",
   "id": "noble-branch",
   "metadata": {},
   "source": [
    "Result: 모든 텍스트를 소문자로 바꿨고, 불필요한 태그나, 특수문자 등을 제거함."
   ]
  },
  {
   "cell_type": "code",
   "execution_count": 9,
   "id": "simple-diving",
   "metadata": {},
   "outputs": [],
   "source": [
    "# Multi processing을 사용하여 전처리를 할 것이다.\n",
    "# Text의 경우에는 stopwords 제거, Summary의 경우에는 제거하지 않을 것이다.\n",
    "# 이 둘을 따로 처리함.\n",
    "\n",
    "# 메소드 정의 \n",
    "import multiprocessing as mp   # 멀티 프로세싱으로 전처리 속도를 획기적으로 줄여봅시다\n",
    "from multiprocessing import Pool\n",
    "import numpy as np\n",
    "import time\n",
    "from functools import partial  # map을 할 때 함수에 여러 인자를 넣어줄 수 있도록 합니다\n",
    "\n",
    "start = time.time()\n",
    "\n",
    "# num_cores 만큼 쪼개진 데이터를 전처리하여 반환합니다\n",
    "def appendTexts(sentences, remove_stopwords):\n",
    "  texts = []\n",
    "  for s in sentences:\n",
    "    texts += preprocess_sentence(s, remove_stopwords),\n",
    "  return texts\n",
    "\n",
    "def preprocess_data(data, remove_stopwords=True):\n",
    "  start_time = time.time()\n",
    "  num_cores = mp.cpu_count()  # 컴퓨터의 코어 수를 구합니다\n",
    "\n",
    "  text_data_split = np.array_split(data, num_cores)  # 코어 수만큼 데이터를 배분하여 병렬적으로 처리할 수 있게 합니다\n",
    "  pool = Pool(num_cores)\n",
    "\n",
    "  processed_data = np.concatenate(pool.map(partial(appendTexts, remove_stopwords=remove_stopwords), text_data_split))  # 각자 작업한 데이터를 하나로 합쳐줍니다\n",
    "  pool.close()\n",
    "  pool.join()\n",
    "  print(time.time() - start_time, \" seconds\")\n",
    "  return processed_data\n"
   ]
  },
  {
   "cell_type": "code",
   "execution_count": 10,
   "id": "round-governor",
   "metadata": {},
   "outputs": [
    {
     "name": "stdout",
     "output_type": "stream",
     "text": [
      "347.81167936325073  seconds\n",
      "['saurav kant alumnus upgrad iiit pg program machine learning artificial intelligence sr systems engineer infosys almost years work experience program upgrad degree career support helped transition data scientist tech mahindra salary hike upgrad online power learning powered lakh careers'\n",
      " 'kunal shah credit card bill payment platform cred gave users chance win free food swiggy one year pranav kaushik delhi techie bagged reward spending cred coins users get one cred coin per rupee bill paid used avail rewards brands like ixigo bookmyshow ubereats cult fit'\n",
      " 'new zealand defeated india wickets fourth odi hamilton thursday win first match five match odi series india lost international match rohit sharma captaincy consecutive victories dating back march match witnessed india getting seventh lowest total odi cricket history'\n",
      " ...\n",
      " 'according reports new version science fiction film matrix development michael jordan reportedly play lead role film screenwriter zak penn talks write script film reports added actor keanu reeves starred original film followed two sequels'\n",
      " 'new music video shows rapper snoop dogg aiming toy gun clown character parodying us president donald trump video also shows tv airing news conference headline ronald klump wants deport doggs airing live clown house video remixed version song lavender'\n",
      " 'madhesi morcha alliance seven political parties withdrawn support pm pushpa kamal dahal led nepal government failed meet seven day ultimatum fulfil demands including endorsement revised constitution amendment bill morcha seats parliament despite withdrawal support immediate threat government']\n",
      "-------------\n",
      "11.849229335784912  seconds\n",
      "['upgrad learner switches to career in ml al with salary hike'\n",
      " 'delhi techie wins free food from swiggy for one year on cred'\n",
      " 'new zealand end rohit sharma led india match winning streak' ...\n",
      " 'the matrix film to get reboot reports'\n",
      " 'snoop dogg aims gun at clown dressed as trump in new video'\n",
      " 'madhesi morcha withdraws support to nepalese government']\n"
     ]
    }
   ],
   "source": [
    "# 위 두 메소드를 통해 전처리&확인\n",
    "\n",
    "clean_text = preprocess_data(data['text']) \n",
    "print(clean_text)\n",
    "print('-------------')\n",
    "clean_headlines = preprocess_data(data['headlines'], remove_stopwords=False) #불용어 제거 수행 안함.\n",
    "print(clean_headlines)"
   ]
  },
  {
   "cell_type": "markdown",
   "id": "shared-equality",
   "metadata": {},
   "source": [
    "#### Result: text 부분에서는 stopwords를 제거했고, headlines 부분에서는 살려뒀다.\n"
   ]
  },
  {
   "cell_type": "code",
   "execution_count": 11,
   "id": "incorporate-hawaiian",
   "metadata": {},
   "outputs": [],
   "source": [
    "# 데이터 확인 후 빈 값을 null로 처리\n",
    "\n",
    "data['text'] = clean_text\n",
    "data['headlines'] = clean_headlines\n",
    "\n",
    "data.replace('',np.nan, inplace = True)"
   ]
  },
  {
   "cell_type": "code",
   "execution_count": 12,
   "id": "lesbian-appeal",
   "metadata": {},
   "outputs": [
    {
     "data": {
      "text/plain": [
       "headlines    0\n",
       "text         0\n",
       "dtype: int64"
      ]
     },
     "execution_count": 12,
     "metadata": {},
     "output_type": "execute_result"
    }
   ],
   "source": [
    "# 다시 Null 체크\n",
    "\n",
    "data.isnull().sum()"
   ]
  },
  {
   "cell_type": "markdown",
   "id": "extreme-overhead",
   "metadata": {},
   "source": [
    "null이 없어가지고 그대로임."
   ]
  },
  {
   "cell_type": "code",
   "execution_count": 13,
   "id": "scientific-novel",
   "metadata": {},
   "outputs": [
    {
     "name": "stdout",
     "output_type": "stream",
     "text": [
      "텍스트의 최소 길이 : 1\n",
      "텍스트의 최대 길이 : 60\n",
      "텍스트의 평균 길이 : 35.09968483123221\n",
      "Headline의 최소 길이 : 1\n",
      "Headline의 최대 길이 : 16\n",
      "Headline의 평균 길이 : 9.299532330215534\n"
     ]
    },
    {
     "data": {
      "image/png": "[encoded data removed]",
      "text/plain": [
       "<Figure size 432x288 with 2 Axes>"
      ]
     },
     "metadata": {
      "needs_background": "light"
     },
     "output_type": "display_data"
    },
    {
     "data": {
      "image/png": "[encoded data removed]",
      "text/plain": [
       "<Figure size 432x288 with 1 Axes>"
      ]
     },
     "metadata": {
      "needs_background": "light"
     },
     "output_type": "display_data"
    },
    {
     "data": {
      "image/png": "[encoded data removed]",
      "text/plain": [
       "<Figure size 432x288 with 1 Axes>"
      ]
     },
     "metadata": {
      "needs_background": "light"
     },
     "output_type": "display_data"
    }
   ],
   "source": [
    "### 이제 학습 데이터의 크기를 정한다.\n",
    "\n",
    "# 길이 분포 출력\n",
    "import matplotlib.pyplot as plt\n",
    "\n",
    "text_len = [len(s.split()) for s in data['text']]\n",
    "headline_len = [len(s.split()) for s in data['headlines']]\n",
    "\n",
    "print('텍스트의 최소 길이 : {}'.format(np.min(text_len)))\n",
    "print('텍스트의 최대 길이 : {}'.format(np.max(text_len)))\n",
    "print('텍스트의 평균 길이 : {}'.format(np.mean(text_len)))\n",
    "print('Headline의 최소 길이 : {}'.format(np.min(headline_len)))\n",
    "print('Headline의 최대 길이 : {}'.format(np.max(headline_len)))\n",
    "print('Headline의 평균 길이 : {}'.format(np.mean(headline_len)))\n",
    "\n",
    "plt.subplot(1,2,1)\n",
    "plt.boxplot(headline_len)\n",
    "plt.title('Headline')\n",
    "plt.subplot(1,2,2)\n",
    "plt.boxplot(text_len)\n",
    "plt.title('Text')\n",
    "plt.tight_layout()\n",
    "plt.show()\n",
    "\n",
    "plt.title('Headline')\n",
    "plt.hist(headline_len, bins = 40)\n",
    "plt.xlabel('length of samples')\n",
    "plt.ylabel('number of samples')\n",
    "plt.show()\n",
    "\n",
    "plt.title('Text')\n",
    "plt.hist(text_len, bins = 40)\n",
    "plt.xlabel('length of samples')\n",
    "plt.ylabel('number of samples')\n",
    "plt.show()"
   ]
  },
  {
   "cell_type": "markdown",
   "id": "female-husband",
   "metadata": {},
   "source": [
    "#### Result: text의 평균길이가 35인데 요약을 통해 길이 9까지 줄였다.  상당히 축약됐다."
   ]
  },
  {
   "cell_type": "code",
   "execution_count": 14,
   "id": "requested-richards",
   "metadata": {},
   "outputs": [],
   "source": [
    "# 한번 더 전처리 작업( text와 headline의 적절한 최대 길이를 세팅)\n",
    "# 사실 이 데이터는 텍스트의 길이가 길지 않지만 그래도 좀 줄여 보겠음\n",
    "# text: 60 -> 50, headline: 16 ->8\n",
    "\n",
    "text_max_len = 50\n",
    "headline_max_len = 8\n"
   ]
  },
  {
   "cell_type": "code",
   "execution_count": 15,
   "id": "accessible-worcester",
   "metadata": {},
   "outputs": [],
   "source": [
    "# 설정한 최대 길이가 기존 샘플의 몇%을 커버하는지 확인하는 메소드 정의\n",
    "\n",
    "def below_threshold_len(max_len, nested_list):\n",
    "  cnt = 0\n",
    "  for s in nested_list:\n",
    "    if(len(s.split()) <= max_len):\n",
    "        cnt = cnt + 1\n",
    "  print('전체 샘플 중 길이가 %s 이하인 샘플의 비율: %s'%(max_len, (cnt / len(nested_list))))"
   ]
  },
  {
   "cell_type": "code",
   "execution_count": 16,
   "id": "dangerous-startup",
   "metadata": {},
   "outputs": [
    {
     "name": "stdout",
     "output_type": "stream",
     "text": [
      "전체 샘플 중 길이가 50 이하인 샘플의 비율: 0.9998576657177715\n",
      "전체 샘플 중 길이가 8 이하인 샘플의 비율: 0.2755693371289142\n"
     ]
    }
   ],
   "source": [
    "# 확인해보자\n",
    "\n",
    "below_threshold_len(text_max_len, data['text'])\n",
    "below_threshold_len(headline_max_len,  data['headlines'])"
   ]
  },
  {
   "cell_type": "markdown",
   "id": "moving-execution",
   "metadata": {},
   "source": [
    "비율의 밸런스가 좋지 않다. 좀 더 수정해보겠다."
   ]
  },
  {
   "cell_type": "code",
   "execution_count": 17,
   "id": "toxic-laser",
   "metadata": {},
   "outputs": [],
   "source": [
    "text_max_len = 38\n",
    "headline_max_len = 11"
   ]
  },
  {
   "cell_type": "code",
   "execution_count": 18,
   "id": "brazilian-techno",
   "metadata": {},
   "outputs": [
    {
     "name": "stdout",
     "output_type": "stream",
     "text": [
      "전체 샘플 중 길이가 38 이하인 샘플의 비율: 0.8163379422529483\n",
      "전체 샘플 중 길이가 11 이하인 샘플의 비율: 0.9449877999186661\n"
     ]
    }
   ],
   "source": [
    "# 다시 확인해보자\n",
    "\n",
    "below_threshold_len(text_max_len, data['text'])\n",
    "below_threshold_len(headline_max_len,  data['headlines'])"
   ]
  },
  {
   "cell_type": "code",
   "execution_count": 19,
   "id": "confident-council",
   "metadata": {},
   "outputs": [
    {
     "name": "stdout",
     "output_type": "stream",
     "text": [
      "전체 샘플수 : 75754\n"
     ]
    }
   ],
   "source": [
    "# 정해진 길이 보다 긴 것은 제외한다.\n",
    "\n",
    "data = data[data['text'].apply(lambda x: len(x.split()) <= text_max_len)]\n",
    "data = data[data['headlines'].apply(lambda x: len(x.split()) <= headline_max_len)]\n",
    "print('전체 샘플수 :', (len(data)))"
   ]
  },
  {
   "cell_type": "markdown",
   "id": "sapphire-calendar",
   "metadata": {},
   "source": [
    "#### Result: 전체 샘플 수가 98360에서 75754개로 줄어듬"
   ]
  },
  {
   "cell_type": "code",
   "execution_count": 20,
   "id": "planned-mumbai",
   "metadata": {},
   "outputs": [
    {
     "data": {
      "text/html": [
       "<div>\n",
       "<style scoped>\n",
       "    .dataframe tbody tr th:only-of-type {\n",
       "        vertical-align: middle;\n",
       "    }\n",
       "\n",
       "    .dataframe tbody tr th {\n",
       "        vertical-align: top;\n",
       "    }\n",
       "\n",
       "    .dataframe thead th {\n",
       "        text-align: right;\n",
       "    }\n",
       "</style>\n",
       "<table border=\"1\" class=\"dataframe\">\n",
       "  <thead>\n",
       "    <tr style=\"text-align: right;\">\n",
       "      <th></th>\n",
       "      <th>headlines</th>\n",
       "      <th>text</th>\n",
       "      <th>decoder_input</th>\n",
       "      <th>decoder_target</th>\n",
       "    </tr>\n",
       "  </thead>\n",
       "  <tbody>\n",
       "    <tr>\n",
       "      <th>2</th>\n",
       "      <td>new zealand end rohit sharma led india match w...</td>\n",
       "      <td>new zealand defeated india wickets fourth odi ...</td>\n",
       "      <td>sostoken new zealand end rohit sharma led indi...</td>\n",
       "      <td>new zealand end rohit sharma led india match w...</td>\n",
       "    </tr>\n",
       "    <tr>\n",
       "      <th>3</th>\n",
       "      <td>aegon life iterm insurance plan helps customer...</td>\n",
       "      <td>aegon life iterm insurance plan customers enjo...</td>\n",
       "      <td>sostoken aegon life iterm insurance plan helps...</td>\n",
       "      <td>aegon life iterm insurance plan helps customer...</td>\n",
       "    </tr>\n",
       "    <tr>\n",
       "      <th>5</th>\n",
       "      <td>rahat fateh ali khan denies getting notice for...</td>\n",
       "      <td>pakistani singer rahat fateh ali khan denied r...</td>\n",
       "      <td>sostoken rahat fateh ali khan denies getting n...</td>\n",
       "      <td>rahat fateh ali khan denies getting notice for...</td>\n",
       "    </tr>\n",
       "    <tr>\n",
       "      <th>7</th>\n",
       "      <td>govt directs alok verma to join work day befor...</td>\n",
       "      <td>weeks ex cbi director alok verma told departme...</td>\n",
       "      <td>sostoken govt directs alok verma to join work ...</td>\n",
       "      <td>govt directs alok verma to join work day befor...</td>\n",
       "    </tr>\n",
       "    <tr>\n",
       "      <th>8</th>\n",
       "      <td>called pm modi sir times to satisfy his ego an...</td>\n",
       "      <td>andhra pradesh cm chandrababu naidu said met u...</td>\n",
       "      <td>sostoken called pm modi sir times to satisfy h...</td>\n",
       "      <td>called pm modi sir times to satisfy his ego an...</td>\n",
       "    </tr>\n",
       "  </tbody>\n",
       "</table>\n",
       "</div>"
      ],
      "text/plain": [
       "                                           headlines  \\\n",
       "2  new zealand end rohit sharma led india match w...   \n",
       "3  aegon life iterm insurance plan helps customer...   \n",
       "5  rahat fateh ali khan denies getting notice for...   \n",
       "7  govt directs alok verma to join work day befor...   \n",
       "8  called pm modi sir times to satisfy his ego an...   \n",
       "\n",
       "                                                text  \\\n",
       "2  new zealand defeated india wickets fourth odi ...   \n",
       "3  aegon life iterm insurance plan customers enjo...   \n",
       "5  pakistani singer rahat fateh ali khan denied r...   \n",
       "7  weeks ex cbi director alok verma told departme...   \n",
       "8  andhra pradesh cm chandrababu naidu said met u...   \n",
       "\n",
       "                                       decoder_input  \\\n",
       "2  sostoken new zealand end rohit sharma led indi...   \n",
       "3  sostoken aegon life iterm insurance plan helps...   \n",
       "5  sostoken rahat fateh ali khan denies getting n...   \n",
       "7  sostoken govt directs alok verma to join work ...   \n",
       "8  sostoken called pm modi sir times to satisfy h...   \n",
       "\n",
       "                                      decoder_target  \n",
       "2  new zealand end rohit sharma led india match w...  \n",
       "3  aegon life iterm insurance plan helps customer...  \n",
       "5  rahat fateh ali khan denies getting notice for...  \n",
       "7  govt directs alok verma to join work day befor...  \n",
       "8  called pm modi sir times to satisfy his ego an...  "
      ]
     },
     "execution_count": 20,
     "metadata": {},
     "output_type": "execute_result"
    }
   ],
   "source": [
    "# 헤드라인 데이터에 필요한 시작 token과 종료 token을 추가하겠다.\n",
    "\n",
    "data['decoder_input'] = data['headlines'].apply(lambda x : 'sostoken '+ x)\n",
    "data['decoder_target'] = data['headlines'].apply(lambda x : x + ' eostoken')\n",
    "data.head()"
   ]
  },
  {
   "cell_type": "markdown",
   "id": "european-competition",
   "metadata": {},
   "source": [
    "#### Result:  앞뒤로 'sostoken'이 붙었음을 확인했다."
   ]
  },
  {
   "cell_type": "code",
   "execution_count": 21,
   "id": "falling-findings",
   "metadata": {},
   "outputs": [],
   "source": [
    "# 인코더의 입력, 디코더의 입력과 레이블을 각각 다시 Numpy타입으로 저장한다.\n",
    "\n",
    "encoder_input = np.array(data['text']) # 인코더의 입력\n",
    "decoder_input = np.array(data['decoder_input']) # 디코더의 입력\n",
    "decoder_target = np.array(data['decoder_target']) # 디코더의 레이블"
   ]
  },
  {
   "cell_type": "markdown",
   "id": "acknowledged-design",
   "metadata": {},
   "source": [
    "### 훈련 데이터와 테스트 데이터를 분리하기"
   ]
  },
  {
   "cell_type": "code",
   "execution_count": 22,
   "id": "curious-cologne",
   "metadata": {},
   "outputs": [
    {
     "name": "stdout",
     "output_type": "stream",
     "text": [
      "[68518 13079 67854 ... 50990 39743 55991]\n"
     ]
    }
   ],
   "source": [
    "# encoder_input 크기와 형태가 같은 순서가 섞인 정수 시퀀스로 만들기\n",
    "\n",
    "indices = np.arange(encoder_input.shape[0])\n",
    "np.random.shuffle(indices)\n",
    "print(indices)"
   ]
  },
  {
   "cell_type": "code",
   "execution_count": 23,
   "id": "controlling-married",
   "metadata": {},
   "outputs": [],
   "source": [
    "# 샘플 순서 다시 정의해주기\n",
    "\n",
    "encoder_input = encoder_input[indices]\n",
    "decoder_input = decoder_input[indices]\n",
    "decoder_target = decoder_target[indices]"
   ]
  },
  {
   "cell_type": "code",
   "execution_count": 24,
   "id": "steady-antigua",
   "metadata": {},
   "outputs": [
    {
     "name": "stdout",
     "output_type": "stream",
     "text": [
      "테스트 데이터의 수 : 15150\n"
     ]
    }
   ],
   "source": [
    "# 데이터를 8:2로 훈련 데이터와 테스트 데이터로 나눈다.\n",
    "\n",
    "n_of_val = int(len(encoder_input)*0.2)\n",
    "print('테스트 데이터의 수 :', n_of_val)"
   ]
  },
  {
   "cell_type": "code",
   "execution_count": 25,
   "id": "recreational-stock",
   "metadata": {},
   "outputs": [
    {
     "name": "stdout",
     "output_type": "stream",
     "text": [
      "훈련 데이터의 개수 : 60604\n",
      "훈련 레이블의 개수 : 60604\n",
      "테스트 데이터의 개수 : 15150\n",
      "테스트 레이블의 개수 : 15150\n"
     ]
    }
   ],
   "source": [
    "# 데이터를 나눈다.\n",
    "\n",
    "encoder_input_train = encoder_input[:-n_of_val]\n",
    "decoder_input_train = decoder_input[:-n_of_val]\n",
    "decoder_target_train = decoder_target[:-n_of_val]\n",
    "\n",
    "encoder_input_test = encoder_input[-n_of_val:]\n",
    "decoder_input_test = decoder_input[-n_of_val:]\n",
    "decoder_target_test = decoder_target[-n_of_val:]\n",
    "\n",
    "print('훈련 데이터의 개수 :', len(encoder_input_train))\n",
    "print('훈련 레이블의 개수 :', len(decoder_input_train))\n",
    "print('테스트 데이터의 개수 :', len(encoder_input_test))\n",
    "print('테스트 레이블의 개수 :', len(decoder_input_test))"
   ]
  },
  {
   "cell_type": "code",
   "execution_count": 26,
   "id": "treated-chocolate",
   "metadata": {},
   "outputs": [],
   "source": [
    "# 정수 인코딩\n",
    "# 기계가 숫자로 처리할 수 있도록 train data, test data를 정수로 바꿔야 한다.\n",
    "# Keras의 토크나이저를 사용하면 단어 집합을 만들 수 있다.\n",
    "\n",
    "from tensorflow.keras.preprocessing.text import Tokenizer \n",
    "\n",
    "src_tokenizer = Tokenizer() # 토크나이저 정의\n",
    "src_tokenizer.fit_on_texts(encoder_input_train) # 입력된 데이터로부터 단어 집합 생성"
   ]
  },
  {
   "cell_type": "markdown",
   "id": "narrow-livestock",
   "metadata": {},
   "source": [
    "단어 집합이 생성되는 동시에 각 단어에 대한 고유한 정수가 부여되었고,  \n",
    "생성된 단어 집합은 src_tokenizer.word_index에 저장된다."
   ]
  },
  {
   "cell_type": "code",
   "execution_count": 27,
   "id": "published-italian",
   "metadata": {},
   "outputs": [
    {
     "name": "stdout",
     "output_type": "stream",
     "text": [
      "단어 집합(vocabulary)의 크기 : 60336\n",
      "등장 빈도가 6번 이하인 희귀 단어의 수: 41234\n",
      "단어 집합에서 희귀 단어를 제외시킬 경우의 단어 집합의 크기 19102\n",
      "단어 집합에서 희귀 단어의 비율: 68.34062582869265\n",
      "전체 등장 빈도에서 희귀 단어 등장 빈도 비율: 4.075651158691967\n"
     ]
    }
   ],
   "source": [
    "# 모든 단어를 쓰지 않고, 빈도수가 낮은 단어는 제외할 것이다. (빈도가 7회미만)\n",
    "\n",
    "threshold = 7\n",
    "total_cnt = len(src_tokenizer.word_index) # 단어의 수\n",
    "rare_cnt = 0 # 등장 빈도수가 threshold보다 작은 단어의 개수를 카운트\n",
    "total_freq = 0 # 훈련 데이터의 전체 단어 빈도수 총 합\n",
    "rare_freq = 0 # 등장 빈도수가 threshold보다 작은 단어의 등장 빈도수의 총 합\n",
    "\n",
    "# 단어와 빈도수의 쌍(pair)을 key와 value로 받는다.\n",
    "for key, value in src_tokenizer.word_counts.items():\n",
    "    total_freq = total_freq + value\n",
    "\n",
    "    # 단어의 등장 빈도수가 threshold보다 작으면\n",
    "    if(value < threshold):\n",
    "        rare_cnt = rare_cnt + 1\n",
    "        rare_freq = rare_freq + value\n",
    "\n",
    "print('단어 집합(vocabulary)의 크기 :', total_cnt)\n",
    "print('등장 빈도가 %s번 이하인 희귀 단어의 수: %s'%(threshold - 1, rare_cnt))\n",
    "print('단어 집합에서 희귀 단어를 제외시킬 경우의 단어 집합의 크기 %s'%(total_cnt - rare_cnt))\n",
    "print(\"단어 집합에서 희귀 단어의 비율:\", (rare_cnt / total_cnt)*100)\n",
    "print(\"전체 등장 빈도에서 희귀 단어 등장 빈도 비율:\", (rare_freq / total_freq)*100)"
   ]
  },
  {
   "cell_type": "code",
   "execution_count": 28,
   "id": "photographic-publisher",
   "metadata": {},
   "outputs": [],
   "source": [
    "# 훈련 데이터에서 단어 집합의 크기를 8천개로 맞추기 (왜 8000개인가? )\n",
    "\n",
    "src_vocab = 8000\n",
    "src_tokenizer = Tokenizer(num_words=src_vocab) # 단어 집합의 크기를 8,000으로 제한\n",
    "src_tokenizer.fit_on_texts(encoder_input_train) # 단어 집합 재생성."
   ]
  },
  {
   "cell_type": "code",
   "execution_count": 29,
   "id": "liberal-capitol",
   "metadata": {},
   "outputs": [
    {
     "name": "stdout",
     "output_type": "stream",
     "text": [
      "[[656, 491, 1309, 40, 3850, 858, 416, 476, 32, 351, 3217, 2087, 1, 722, 227, 942, 476, 102, 1278, 724, 2, 61, 31, 8, 69, 805, 488, 858, 1151, 103, 6203, 68, 4254], [395, 186, 853, 77, 57, 255, 853, 107, 1661, 2748, 544, 1, 892, 853, 4462, 5, 19, 133, 52, 10, 755, 1661, 1600, 529, 10, 27, 255, 853, 107, 591, 1601, 33, 514, 1187, 1890], [163, 17, 65, 66, 632, 1226, 1766, 2144, 1487, 593, 2694, 3851, 953, 349, 22, 1947, 2670, 349, 23, 1947, 319, 17, 452]]\n"
     ]
    }
   ],
   "source": [
    "# 텍스트 시퀀스를 정수 시퀀스로 변환시키기\n",
    "\n",
    "encoder_input_train = src_tokenizer.texts_to_sequences(encoder_input_train) \n",
    "encoder_input_test = src_tokenizer.texts_to_sequences(encoder_input_test)\n",
    "\n",
    "# 잘 진행되었는지 샘플 출력\n",
    "print(encoder_input_train[:3])"
   ]
  },
  {
   "cell_type": "code",
   "execution_count": 30,
   "id": "breeding-hazard",
   "metadata": {},
   "outputs": [],
   "source": [
    "# headlines 데이터도 마찬가지로  text2seq 처리하기\n",
    "\n",
    "tar_tokenizer = Tokenizer()\n",
    "tar_tokenizer.fit_on_texts(decoder_input_train)"
   ]
  },
  {
   "cell_type": "markdown",
   "id": "subsequent-iraqi",
   "metadata": {},
   "source": [
    "단어 집합이 생성되는 동시에 각 단어에 고유한 정수가 부여 되었음.\n",
    "이는 tar_tokenizer.word_index에 저장된다."
   ]
  },
  {
   "cell_type": "code",
   "execution_count": 31,
   "id": "great-pressing",
   "metadata": {},
   "outputs": [
    {
     "name": "stdout",
     "output_type": "stream",
     "text": [
      "단어 집합(vocabulary)의 크기 : 27065\n",
      "등장 빈도가 5번 이하인 희귀 단어의 수: 18020\n",
      "단어 집합에서 희귀 단어를 제외시킬 경우의 단어 집합의 크기 9045\n",
      "단어 집합에서 희귀 단어의 비율: 66.58045446148162\n",
      "전체 등장 빈도에서 희귀 단어 등장 빈도 비율: 5.625483726424702\n"
     ]
    }
   ],
   "source": [
    "# 역시 빈도수 6미만은 걸러내기\n",
    "\n",
    "threshold = 6\n",
    "total_cnt = len(tar_tokenizer.word_index) # 단어의 수\n",
    "rare_cnt = 0 # 등장 빈도수가 threshold보다 작은 단어의 개수를 카운트\n",
    "total_freq = 0 # 훈련 데이터의 전체 단어 빈도수 총 합\n",
    "rare_freq = 0 # 등장 빈도수가 threshold보다 작은 단어의 등장 빈도수의 총 합\n",
    "\n",
    "# 단어와 빈도수의 쌍(pair)을 key와 value로 받는다.\n",
    "for key, value in tar_tokenizer.word_counts.items():\n",
    "    total_freq = total_freq + value\n",
    "\n",
    "    # 단어의 등장 빈도수가 threshold보다 작으면\n",
    "    if(value < threshold):\n",
    "        rare_cnt = rare_cnt + 1\n",
    "        rare_freq = rare_freq + value\n",
    "\n",
    "print('단어 집합(vocabulary)의 크기 :', total_cnt)\n",
    "print('등장 빈도가 %s번 이하인 희귀 단어의 수: %s'%(threshold - 1, rare_cnt))\n",
    "print('단어 집합에서 희귀 단어를 제외시킬 경우의 단어 집합의 크기 %s'%(total_cnt - rare_cnt))\n",
    "print(\"단어 집합에서 희귀 단어의 비율:\", (rare_cnt / total_cnt)*100)\n",
    "print(\"전체 등장 빈도에서 희귀 단어 등장 빈도 비율:\", (rare_freq / total_freq)*100)"
   ]
  },
  {
   "cell_type": "code",
   "execution_count": 32,
   "id": "adequate-raise",
   "metadata": {},
   "outputs": [
    {
     "name": "stdout",
     "output_type": "stream",
     "text": [
      "input\n",
      "input  [[1, 459, 1785, 6, 1240, 1011], [1, 358, 3, 4, 33, 46, 637, 1072, 482, 170], [1, 204, 83, 789, 896, 22, 6, 142, 62], [1, 1482, 1966, 5, 43, 66, 10, 206, 1101, 778], [1, 6, 44, 1181, 4, 46, 1302, 163]]\n",
      "target\n",
      "decoder  [[459, 1785, 6, 1240, 1011, 2], [358, 3, 4, 33, 46, 637, 1072, 482, 170, 2], [204, 83, 789, 896, 22, 6, 142, 62, 2], [1482, 1966, 5, 43, 66, 10, 206, 1101, 778, 2], [6, 44, 1181, 4, 46, 1302, 163, 2]]\n"
     ]
    }
   ],
   "source": [
    "#희귀 단어의 비율만큼 비중이 적은 단어들( 2000개 정도) 제거 할 것이다.\n",
    "\n",
    "tar_vocab = 2000\n",
    "tar_tokenizer = Tokenizer(num_words=tar_vocab) \n",
    "tar_tokenizer.fit_on_texts(decoder_input_train)\n",
    "tar_tokenizer.fit_on_texts(decoder_target_train)\n",
    "\n",
    "# 텍스트 시퀀스를 정수 시퀀스로 변환\n",
    "decoder_input_train = tar_tokenizer.texts_to_sequences(decoder_input_train) \n",
    "decoder_target_train = tar_tokenizer.texts_to_sequences(decoder_target_train)\n",
    "decoder_input_test = tar_tokenizer.texts_to_sequences(decoder_input_test)\n",
    "decoder_target_test = tar_tokenizer.texts_to_sequences(decoder_target_test)\n",
    "\n",
    "# 잘 변환되었는지 확인\n",
    "print('input')\n",
    "print('input ',decoder_input_train[:5])\n",
    "print('target')\n",
    "print('decoder ',decoder_target_train[:5])"
   ]
  },
  {
   "cell_type": "markdown",
   "id": "documentary-howard",
   "metadata": {},
   "source": [
    "#### Result: 이렇게 정수 인코딩 작업이 끝나게 된다.  현재 decoder_input_train과 decoder_target_train에는 더 이상 숫자 2,000이 넘는 숫자들은 존재하지 않는다. "
   ]
  },
  {
   "cell_type": "code",
   "execution_count": 33,
   "id": "hindu-pharmaceutical",
   "metadata": {},
   "outputs": [
    {
     "name": "stdout",
     "output_type": "stream",
     "text": [
      "삭제할 훈련 데이터의 개수 : 8\n",
      "삭제할 테스트 데이터의 개수 : 1\n"
     ]
    },
    {
     "name": "stderr",
     "output_type": "stream",
     "text": [
      "/opt/conda/lib/python3.7/site-packages/numpy/core/_asarray.py:83: VisibleDeprecationWarning: Creating an ndarray from ragged nested sequences (which is a list-or-tuple of lists-or-tuples-or ndarrays with different lengths or shapes) is deprecated. If you meant to do this, you must specify 'dtype=object' when creating the ndarray\n",
      "  return array(a, dtype, copy=False, order=order)\n"
     ]
    },
    {
     "name": "stdout",
     "output_type": "stream",
     "text": [
      "훈련 데이터의 개수 : 60596\n",
      "훈련 레이블의 개수 : 60596\n",
      "테스트 데이터의 개수 : 15149\n",
      "테스트 레이블의 개수 : 15149\n"
     ]
    }
   ],
   "source": [
    "#훈련 데이터와 테스트 데이터에 대해서 요약문의 길이가 1인 경우의 인덱스를  \n",
    "#각각 drop_train과 drop_test에 라는 변수에 저장해볼게요. 이 샘플들은 모두 삭제할 거예요\n",
    "\n",
    "drop_train = [index for index, sentence in enumerate(decoder_input_train) if len(sentence) == 1]\n",
    "drop_test = [index for index, sentence in enumerate(decoder_input_test) if len(sentence) == 1]\n",
    "\n",
    "print('삭제할 훈련 데이터의 개수 :', len(drop_train))\n",
    "print('삭제할 테스트 데이터의 개수 :', len(drop_test))\n",
    "\n",
    "encoder_input_train = np.delete(encoder_input_train, drop_train, axis=0)\n",
    "decoder_input_train = np.delete(decoder_input_train, drop_train, axis=0)\n",
    "decoder_target_train = np.delete(decoder_target_train, drop_train, axis=0)\n",
    "\n",
    "encoder_input_test = np.delete(encoder_input_test, drop_test, axis=0)\n",
    "decoder_input_test = np.delete(decoder_input_test, drop_test, axis=0)\n",
    "decoder_target_test = np.delete(decoder_target_test, drop_test, axis=0)\n",
    "\n",
    "print('훈련 데이터의 개수 :', len(encoder_input_train))\n",
    "print('훈련 레이블의 개수 :', len(decoder_input_train))\n",
    "print('테스트 데이터의 개수 :', len(encoder_input_test))\n",
    "print('테스트 레이블의 개수 :', len(decoder_input_test))"
   ]
  },
  {
   "cell_type": "markdown",
   "id": "immediate-consultancy",
   "metadata": {},
   "source": [
    "#### Result: 약간의 데이터 삭제가 이루어짐."
   ]
  },
  {
   "cell_type": "code",
   "execution_count": 34,
   "id": "grand-concentrate",
   "metadata": {},
   "outputs": [],
   "source": [
    "# 패딩하기 \n",
    "# 텍스트 시퀀스 -> 정수 시퀀스에서 서로 다른 길이의 샘플들을 병렬 처리\n",
    "# 하기 위해 같은 길이로 맞춰주는 패딩 작업을 한다.\n",
    "# pad sequence를 위해 import \n",
    "from tensorflow.keras.preprocessing.sequence import pad_sequences\n",
    "\n",
    "encoder_input_train = pad_sequences(encoder_input_train, maxlen=text_max_len, padding='post')\n",
    "encoder_input_test = pad_sequences(encoder_input_test, maxlen=text_max_len, padding='post')\n",
    "decoder_input_train = pad_sequences(decoder_input_train, maxlen=headline_max_len, padding='post')\n",
    "decoder_target_train = pad_sequences(decoder_target_train, maxlen=headline_max_len, padding='post')\n",
    "decoder_input_test = pad_sequences(decoder_input_test, maxlen=headline_max_len, padding='post')\n",
    "decoder_target_test = pad_sequences(decoder_target_test, maxlen=headline_max_len, padding='post')"
   ]
  },
  {
   "cell_type": "markdown",
   "id": "breathing-submission",
   "metadata": {},
   "source": [
    "### 이렇게 학습에 필요한 데이터 전처리가 끝남."
   ]
  },
  {
   "cell_type": "markdown",
   "id": "instant-mozambique",
   "metadata": {},
   "source": [
    "## 3. Model"
   ]
  },
  {
   "cell_type": "code",
   "execution_count": 35,
   "id": "celtic-circulation",
   "metadata": {},
   "outputs": [],
   "source": [
    "# 함수형 API를 사용하여 encoder를 설계\n",
    "\n",
    "from tensorflow.keras.layers import Input, LSTM, Embedding, Dense, Concatenate\n",
    "from tensorflow.keras.models import Model\n",
    "from tensorflow.keras.callbacks import EarlyStopping, ModelCheckpoint\n",
    "\n",
    "\n",
    "# 인코더 설계 시작\n",
    "embedding_dim = 128\n",
    "hidden_size = 256\n",
    "\n",
    "# 인코더\n",
    "encoder_inputs = Input(shape=(text_max_len,))\n",
    "\n",
    "# 인코더의 임베딩 층\n",
    "enc_emb = Embedding(src_vocab, embedding_dim)(encoder_inputs)\n",
    "\n",
    "# 인코더의 LSTM 1\n",
    "encoder_lstm1 = LSTM(hidden_size, return_sequences=True, return_state=True ,dropout = 0.4, recurrent_dropout = 0.4)\n",
    "encoder_output1, state_h1, state_c1 = encoder_lstm1(enc_emb)\n",
    "\n",
    "# 인코더의 LSTM 2\n",
    "encoder_lstm2 = LSTM(hidden_size, return_sequences=True, return_state=True, dropout=0.4, recurrent_dropout=0.4)\n",
    "encoder_output2, state_h2, state_c2 = encoder_lstm2(encoder_output1)\n",
    "\n",
    "# 인코더의 LSTM 3\n",
    "encoder_lstm3 = LSTM(hidden_size, return_state=True, return_sequences=True, dropout=0.4, recurrent_dropout=0.4)\n",
    "encoder_outputs, state_h, state_c= encoder_lstm3(encoder_output2)"
   ]
  },
  {
   "cell_type": "code",
   "execution_count": 36,
   "id": "growing-fleet",
   "metadata": {},
   "outputs": [],
   "source": [
    "#디코더 설계하기\n",
    "\n",
    "decoder_inputs = Input(shape=(None,))\n",
    "\n",
    "# 디코더의 임베딩 층\n",
    "dec_emb_layer = Embedding(tar_vocab, embedding_dim)\n",
    "dec_emb = dec_emb_layer(decoder_inputs)\n",
    "\n",
    "# 디코더의 LSTM\n",
    "decoder_lstm = LSTM(hidden_size, return_sequences=True, return_state=True, dropout=0.4, recurrent_dropout=0.2)\n",
    "decoder_outputs, _, _ = decoder_lstm(dec_emb, initial_state=[state_h, state_c])"
   ]
  },
  {
   "cell_type": "code",
   "execution_count": 37,
   "id": "republican-hello",
   "metadata": {},
   "outputs": [
    {
     "name": "stdout",
     "output_type": "stream",
     "text": [
      "Model: \"model\"\n",
      "__________________________________________________________________________________________________\n",
      "Layer (type)                    Output Shape         Param #     Connected to                     \n",
      "==================================================================================================\n",
      "input_1 (InputLayer)            [(None, 38)]         0                                            \n",
      "__________________________________________________________________________________________________\n",
      "embedding (Embedding)           (None, 38, 128)      1024000     input_1[0][0]                    \n",
      "__________________________________________________________________________________________________\n",
      "lstm (LSTM)                     [(None, 38, 256), (N 394240      embedding[0][0]                  \n",
      "__________________________________________________________________________________________________\n",
      "input_2 (InputLayer)            [(None, None)]       0                                            \n",
      "__________________________________________________________________________________________________\n",
      "lstm_1 (LSTM)                   [(None, 38, 256), (N 525312      lstm[0][0]                       \n",
      "__________________________________________________________________________________________________\n",
      "embedding_1 (Embedding)         (None, None, 128)    256000      input_2[0][0]                    \n",
      "__________________________________________________________________________________________________\n",
      "lstm_2 (LSTM)                   [(None, 38, 256), (N 525312      lstm_1[0][0]                     \n",
      "__________________________________________________________________________________________________\n",
      "lstm_3 (LSTM)                   [(None, None, 256),  394240      embedding_1[0][0]                \n",
      "                                                                 lstm_2[0][1]                     \n",
      "                                                                 lstm_2[0][2]                     \n",
      "__________________________________________________________________________________________________\n",
      "dense (Dense)                   (None, None, 2000)   514000      lstm_3[0][0]                     \n",
      "==================================================================================================\n",
      "Total params: 3,633,104\n",
      "Trainable params: 3,633,104\n",
      "Non-trainable params: 0\n",
      "__________________________________________________________________________________________________\n"
     ]
    }
   ],
   "source": [
    "# 디코더의 출력층\n",
    "decoder_softmax_layer = Dense(tar_vocab, activation='softmax')\n",
    "decoder_softmax_outputs = decoder_softmax_layer(decoder_outputs) \n",
    "\n",
    "# 모델 정의\n",
    "model = Model([encoder_inputs, decoder_inputs], decoder_softmax_outputs)\n",
    "model.summary()"
   ]
  },
  {
   "cell_type": "markdown",
   "id": "reduced-conservative",
   "metadata": {},
   "source": [
    "### 어텐션 매커니즘 적용"
   ]
  },
  {
   "cell_type": "code",
   "execution_count": 38,
   "id": "impressive-chest",
   "metadata": {},
   "outputs": [],
   "source": [
    "# 공개된 어텐션 함수 다운로드\n",
    "\n",
    "urllib.request.urlretrieve(\"https://raw.githubusercontent.com/thushv89/attention_keras/master/src/layers/attention.py\", filename=\"attention.py\")\n",
    "from attention import AttentionLayer"
   ]
  },
  {
   "cell_type": "markdown",
   "id": "palestinian-rotation",
   "metadata": {},
   "source": [
    "### Decoder 출력층 수정"
   ]
  },
  {
   "cell_type": "code",
   "execution_count": 39,
   "id": "designed-scanning",
   "metadata": {},
   "outputs": [
    {
     "name": "stdout",
     "output_type": "stream",
     "text": [
      "Model: \"model_1\"\n",
      "__________________________________________________________________________________________________\n",
      "Layer (type)                    Output Shape         Param #     Connected to                     \n",
      "==================================================================================================\n",
      "input_1 (InputLayer)            [(None, 38)]         0                                            \n",
      "__________________________________________________________________________________________________\n",
      "embedding (Embedding)           (None, 38, 128)      1024000     input_1[0][0]                    \n",
      "__________________________________________________________________________________________________\n",
      "lstm (LSTM)                     [(None, 38, 256), (N 394240      embedding[0][0]                  \n",
      "__________________________________________________________________________________________________\n",
      "input_2 (InputLayer)            [(None, None)]       0                                            \n",
      "__________________________________________________________________________________________________\n",
      "lstm_1 (LSTM)                   [(None, 38, 256), (N 525312      lstm[0][0]                       \n",
      "__________________________________________________________________________________________________\n",
      "embedding_1 (Embedding)         (None, None, 128)    256000      input_2[0][0]                    \n",
      "__________________________________________________________________________________________________\n",
      "lstm_2 (LSTM)                   [(None, 38, 256), (N 525312      lstm_1[0][0]                     \n",
      "__________________________________________________________________________________________________\n",
      "lstm_3 (LSTM)                   [(None, None, 256),  394240      embedding_1[0][0]                \n",
      "                                                                 lstm_2[0][1]                     \n",
      "                                                                 lstm_2[0][2]                     \n",
      "__________________________________________________________________________________________________\n",
      "attention_layer (AttentionLayer ((None, None, 256),  131328      lstm_2[0][0]                     \n",
      "                                                                 lstm_3[0][0]                     \n",
      "__________________________________________________________________________________________________\n",
      "concat_layer (Concatenate)      (None, None, 512)    0           lstm_3[0][0]                     \n",
      "                                                                 attention_layer[0][0]            \n",
      "__________________________________________________________________________________________________\n",
      "dense_1 (Dense)                 (None, None, 2000)   1026000     concat_layer[0][0]               \n",
      "==================================================================================================\n",
      "Total params: 4,276,432\n",
      "Trainable params: 4,276,432\n",
      "Non-trainable params: 0\n",
      "__________________________________________________________________________________________________\n"
     ]
    }
   ],
   "source": [
    "# 어텐션 층(어텐션 함수)\n",
    "attn_layer = AttentionLayer(name='attention_layer')\n",
    "# 인코더와 디코더의 모든 time step의 hidden state를 어텐션 층에 전달하고 결과를 리턴\n",
    "attn_out, attn_states = attn_layer([encoder_outputs, decoder_outputs])\n",
    "\n",
    "# 어텐션의 결과와 디코더의 hidden state들을 연결\n",
    "decoder_concat_input = Concatenate(axis=-1, name='concat_layer')([decoder_outputs, attn_out])\n",
    "\n",
    "# 디코더의 출력층\n",
    "decoder_softmax_layer = Dense(tar_vocab, activation='softmax')\n",
    "decoder_softmax_outputs = decoder_softmax_layer(decoder_concat_input)\n",
    "\n",
    "# 모델 정의\n",
    "model = Model([encoder_inputs, decoder_inputs], decoder_softmax_outputs)\n",
    "model.summary()"
   ]
  },
  {
   "cell_type": "markdown",
   "id": "facial-palestinian",
   "metadata": {},
   "source": [
    "### Training \n",
    "#### with (EarlyStopping, rmsprop)"
   ]
  },
  {
   "cell_type": "code",
   "execution_count": 40,
   "id": "american-desperate",
   "metadata": {},
   "outputs": [
    {
     "name": "stdout",
     "output_type": "stream",
     "text": [
      "Epoch 1/50\n",
      "237/237 [==============================] - 738s 3s/step - loss: 4.5674 - val_loss: 3.9277\n",
      "Epoch 2/50\n",
      "237/237 [==============================] - 711s 3s/step - loss: 3.8390 - val_loss: 3.6051\n",
      "Epoch 3/50\n",
      "237/237 [==============================] - 714s 3s/step - loss: 3.5402 - val_loss: 3.4002\n",
      "Epoch 4/50\n",
      "237/237 [==============================] - 711s 3s/step - loss: 3.3255 - val_loss: 3.2413\n",
      "Epoch 5/50\n",
      "237/237 [==============================] - 711s 3s/step - loss: 3.1499 - val_loss: 3.1252\n",
      "Epoch 6/50\n",
      "237/237 [==============================] - 707s 3s/step - loss: 3.0188 - val_loss: 3.0435\n",
      "Epoch 7/50\n",
      "237/237 [==============================] - 439s 2s/step - loss: 2.9211 - val_loss: 2.9786\n",
      "Epoch 8/50\n",
      "237/237 [==============================] - 706s 3s/step - loss: 2.8232 - val_loss: 2.9225\n",
      "Epoch 9/50\n",
      "237/237 [==============================] - 707s 3s/step - loss: 2.7356 - val_loss: 2.8826\n",
      "Epoch 10/50\n",
      "237/237 [==============================] - 706s 3s/step - loss: 2.6646 - val_loss: 2.8327\n",
      "Epoch 11/50\n",
      "237/237 [==============================] - 708s 3s/step - loss: 2.5901 - val_loss: 2.7976\n",
      "Epoch 12/50\n",
      "237/237 [==============================] - 707s 3s/step - loss: 2.5341 - val_loss: 2.7700\n",
      "Epoch 13/50\n",
      "237/237 [==============================] - 707s 3s/step - loss: 2.4795 - val_loss: 2.7548\n",
      "Epoch 14/50\n",
      "237/237 [==============================] - 696s 3s/step - loss: 2.4273 - val_loss: 2.7384\n",
      "Epoch 15/50\n",
      "237/237 [==============================] - 709s 3s/step - loss: 2.3839 - val_loss: 2.7217\n",
      "Epoch 16/50\n",
      "237/237 [==============================] - 577s 2s/step - loss: 2.3389 - val_loss: 2.7054\n",
      "Epoch 17/50\n",
      "237/237 [==============================] - 312s 1s/step - loss: 2.2961 - val_loss: 2.6957\n",
      "Epoch 18/50\n",
      "237/237 [==============================] - 311s 1s/step - loss: 2.2621 - val_loss: 2.6860\n",
      "Epoch 19/50\n",
      "237/237 [==============================] - 311s 1s/step - loss: 2.2203 - val_loss: 2.6841\n",
      "Epoch 20/50\n",
      "237/237 [==============================] - 311s 1s/step - loss: 2.1851 - val_loss: 2.6773\n",
      "Epoch 21/50\n",
      "237/237 [==============================] - 311s 1s/step - loss: 2.1580 - val_loss: 2.6720\n",
      "Epoch 22/50\n",
      "237/237 [==============================] - 311s 1s/step - loss: 2.1231 - val_loss: 2.6726\n",
      "Epoch 23/50\n",
      "237/237 [==============================] - 311s 1s/step - loss: 2.0931 - val_loss: 2.6688\n",
      "Epoch 24/50\n",
      "237/237 [==============================] - 317s 1s/step - loss: 2.0692 - val_loss: 2.6603\n",
      "Epoch 25/50\n",
      "237/237 [==============================] - 311s 1s/step - loss: 2.0452 - val_loss: 2.6671\n",
      "Epoch 26/50\n",
      "237/237 [==============================] - 313s 1s/step - loss: 2.0206 - val_loss: 2.6705\n",
      "Epoch 00026: early stopping\n"
     ]
    }
   ],
   "source": [
    "model.compile(optimizer='rmsprop', loss='sparse_categorical_crossentropy')\n",
    "es = EarlyStopping(monitor='val_loss', patience=2, verbose=1)\n",
    "history = model.fit(x=[encoder_input_train, decoder_input_train], y=decoder_target_train, \\\n",
    "          validation_data=([encoder_input_test, decoder_input_test], decoder_target_test), \\\n",
    "          batch_size=256, callbacks=[es], epochs=50)"
   ]
  },
  {
   "cell_type": "markdown",
   "id": "stone-essex",
   "metadata": {},
   "source": [
    "early stopping없었으면 시간 너무 많이 썼을수도.\n"
   ]
  },
  {
   "cell_type": "code",
   "execution_count": 41,
   "id": "alien-satellite",
   "metadata": {},
   "outputs": [
    {
     "data": {
      "image/png": "[encoded data removed]",
      "text/plain": [
       "<Figure size 432x288 with 1 Axes>"
      ]
     },
     "metadata": {
      "needs_background": "light"
     },
     "output_type": "display_data"
    }
   ],
   "source": [
    "# 시각화 해보기\n",
    "plt.plot(history.history['loss'], label='train')\n",
    "plt.plot(history.history['val_loss'], label='test')\n",
    "plt.legend()\n",
    "plt.show()"
   ]
  },
  {
   "cell_type": "code",
   "execution_count": 42,
   "id": "banner-belly",
   "metadata": {},
   "outputs": [],
   "source": [
    "src_index_to_word = src_tokenizer.index_word # 원문 단어 집합에서 정수 -> 단어를 얻음\n",
    "tar_word_to_index = tar_tokenizer.word_index # 요약 단어 집합에서 단어 -> 정수를 얻음\n",
    "tar_index_to_word = tar_tokenizer.index_word # 요약 단어 집합에서 정수 -> 단어를 얻음"
   ]
  },
  {
   "cell_type": "code",
   "execution_count": 43,
   "id": "domestic-toner",
   "metadata": {},
   "outputs": [],
   "source": [
    "# 인코더 설계\n",
    "encoder_model = Model(inputs=encoder_inputs, outputs=[encoder_outputs, state_h, state_c])\n",
    "\n",
    "# 이전 시점의 상태들을 저장하는 텐서\n",
    "decoder_state_input_h = Input(shape=(hidden_size,))\n",
    "decoder_state_input_c = Input(shape=(hidden_size,))\n",
    "\n",
    "dec_emb2 = dec_emb_layer(decoder_inputs)\n",
    "\n",
    "# 문장의 다음 단어를 예측하기 위해서 초기 상태(initial_state)를 이전 시점의 상태로 사용. 이는 뒤의 함수 decode_sequence()에 구현\n",
    "# 훈련 과정에서와 달리 LSTM의 리턴하는 은닉 상태와 셀 상태인 state_h와 state_c를 버리지 않음.\n",
    "decoder_outputs2, state_h2, state_c2 = decoder_lstm(dec_emb2, initial_state=[decoder_state_input_h, decoder_state_input_c])"
   ]
  },
  {
   "cell_type": "code",
   "execution_count": 44,
   "id": "small-buffer",
   "metadata": {},
   "outputs": [],
   "source": [
    "# 어텐션 함수\n",
    "decoder_hidden_state_input = Input(shape=(text_max_len, hidden_size))\n",
    "attn_out_inf, attn_states_inf = attn_layer([decoder_hidden_state_input, decoder_outputs2])\n",
    "decoder_inf_concat = Concatenate(axis=-1, name='concat')([decoder_outputs2, attn_out_inf])\n",
    "\n",
    "# 디코더의 출력층\n",
    "decoder_outputs2 = decoder_softmax_layer(decoder_inf_concat) \n",
    "\n",
    "# 최종 디코더 모델\n",
    "decoder_model = Model(\n",
    "    [decoder_inputs] + [decoder_hidden_state_input,decoder_state_input_h, decoder_state_input_c],\n",
    "    [decoder_outputs2] + [state_h2, state_c2])"
   ]
  },
  {
   "cell_type": "code",
   "execution_count": 45,
   "id": "defensive-findings",
   "metadata": {},
   "outputs": [],
   "source": [
    "# decode sequence 메소드 정의\n",
    "\n",
    "def decode_sequence(input_seq):\n",
    "    # 입력으로부터 인코더의 상태를 얻음\n",
    "    e_out, e_h, e_c = encoder_model.predict(input_seq)\n",
    "\n",
    "     # <SOS>에 해당하는 토큰 생성\n",
    "    target_seq = np.zeros((1,1))\n",
    "    target_seq[0, 0] = tar_word_to_index['sostoken']\n",
    "\n",
    "    stop_condition = False\n",
    "    decoded_sentence = ''\n",
    "    while not stop_condition: # stop_condition이 True가 될 때까지 루프 반복\n",
    "\n",
    "        output_tokens, h, c = decoder_model.predict([target_seq] + [e_out, e_h, e_c])\n",
    "        sampled_token_index = np.argmax(output_tokens[0, -1, :])\n",
    "        sampled_token = tar_index_to_word[sampled_token_index]\n",
    "\n",
    "        if (sampled_token!='eostoken'):\n",
    "            decoded_sentence += ' '+sampled_token\n",
    "\n",
    "        #  <eos>에 도달하거나 최대 길이를 넘으면 중단.\n",
    "        if (sampled_token == 'eostoken'  or len(decoded_sentence.split()) >= (headline_max_len-1)):\n",
    "            stop_condition = True\n",
    "\n",
    "        # 길이가 1인 타겟 시퀀스를 업데이트\n",
    "        target_seq = np.zeros((1,1))\n",
    "        target_seq[0, 0] = sampled_token_index\n",
    "\n",
    "        # 상태를 업데이트 합니다.\n",
    "        e_h, e_c = h, c\n",
    "\n",
    "    return decoded_sentence"
   ]
  },
  {
   "cell_type": "markdown",
   "id": "neither-burlington",
   "metadata": {},
   "source": [
    "학습과 인코더, 디코서 세팅이 끝났다."
   ]
  },
  {
   "cell_type": "markdown",
   "id": "portuguese-glance",
   "metadata": {},
   "source": [
    "### 모델 테스트"
   ]
  },
  {
   "cell_type": "code",
   "execution_count": 46,
   "id": "contemporary-fraud",
   "metadata": {},
   "outputs": [],
   "source": [
    "# 원문의 정수 시퀀스를 텍스트 시퀀스로 변환\n",
    "def seq2text(input_seq):\n",
    "    temp=''\n",
    "    for i in input_seq:\n",
    "        if (i!=0):\n",
    "            temp = temp + src_index_to_word[i]+' '\n",
    "    return temp\n",
    "\n",
    "# 요약문의 정수 시퀀스를 텍스트 시퀀스로 변환\n",
    "def seq2summary(input_seq):\n",
    "    temp=''\n",
    "    for i in input_seq:\n",
    "        if ((i!=0 and i!=tar_word_to_index['sostoken']) and i!=tar_word_to_index['eostoken']):\n",
    "            temp = temp + tar_index_to_word[i] + ' '\n",
    "    return temp"
   ]
  },
  {
   "cell_type": "code",
   "execution_count": 47,
   "id": "wired-presence",
   "metadata": {},
   "outputs": [
    {
     "name": "stdout",
     "output_type": "stream",
     "text": [
      "원문 : ram brother man found hanging jaipur fort alongside slogans film padmavati claimed death linked threats film brother cannot commit suicide appears murder demand investigation death added ram \n",
      "실제 요약 : my brother death not linked to padmavati claims ram \n",
      "예측 요약 :  man of brother found dead in school\n",
      "\n",
      "\n",
      "원문 : based analysis bills four private hospitals new delhi ncr national pharmaceutical pricing authority found hospitals sold medicines body added high profit possible purchases private hospitals cases keep \n",
      "실제 요약 : delhi sold drugs at profit body \n",
      "예측 요약 :  trees in delhi\n",
      "\n",
      "\n",
      "원문 : uttar pradesh bjp charge lok sabha election wednesday asserted bjp win seats state added reason work done government leadership pm narendra modi said people towards pm bjp win \n",
      "실제 요약 : bjp will win lok sabha seats in uttar pradesh \n",
      "예측 요약 :  bjp will be in bjp in polls bjp\n",
      "\n",
      "\n",
      "원문 : year old man year old son cleared examination open school odisha marks father arun kumar left studies class father passed away son kumar also unable clear exams non family \n",
      "실제 요약 : odisha father son clears exam with same marks \n",
      "예측 요약 :  yr old son son son son son son son son\n",
      "\n",
      "\n",
      "원문 : year old boy mumbai allegedly gangraped earlier month died multiple organ failure tuesday consuming rat poison july boy assaulted along year old friend also consumed poison died earlier currently police questioned friends trying identify accused \n",
      "실제 요약 : yr old boy raped in mumbai dies of failure \n",
      "예측 요약 :  yr old girl dies after being by in\n",
      "\n",
      "\n",
      "원문 : two teenagers usa charged hate crime burning president donald trump make america great sign law officials said charged hate crime committed discrimination particular group someone belief teenagers later released bond \n",
      "실제 요약 : us charged with hate crime for trump sign \n",
      "예측 요약 :  us court trump awards trump\n",
      "\n",
      "\n",
      "원문 : mumbai police along brihanmumbai municipal corporation conducted raid mumbai arrested three fake doctors using fake certificates practice police officials said raids come mumbai man detained posing doctor year old patient killing \n",
      "실제 요약 : mumbai police arrest three fake doctors \n",
      "예측 요약 :  mumbai police mumbai cops over fake\n",
      "\n",
      "\n",
      "원문 : national company law tribunal wednesday denied interim relief vikram plea seeking stay termination franchise agreement mcdonald joint venture mcdonald estranged partner operates mcdonald outlets north east india set hear plea tomorrow \n",
      "실제 요약 : denied relief in mcdonald row \n",
      "예측 요약 :  panel withdraws plea against over\n",
      "\n",
      "\n",
      "원문 : rafael nadal said female earn male counterparts way male tennis players earn female players audience comparison even make female models earn male models nobody says anything larger following nadal added \n",
      "실제 요약 : if female earn more so should male players \n",
      "예측 요약 :  women are not female\n",
      "\n",
      "\n",
      "원문 : volkswagen engineer sentenced months prison fined role helping carmaker cheat us emissions tests james first volkswagen employee scandal cost company billion volkswagen admitted emissions cheating devices million cars \n",
      "실제 요약 : engineer gets month prison over scam \n",
      "예측 요약 :  two jailed for stealing in us\n",
      "\n",
      "\n",
      "원문 : pakistani actress khan said bollywood never really aim focus always working pakistan added think tell story better story country talking call ban pakistani india said time sad angry \n",
      "실제 요약 : wood was never my was always pak \n",
      "예측 요약 :  wood actors should be in wood khan\n",
      "\n",
      "\n",
      "원문 : bjp pulled alliance pdp repeated attacks forces civilians valley announcing split bjp general secretary ram said centre tried end end say state government also part failed control valley situation \n",
      "실제 요약 : bjp pulls out of alliance with in jammu kashmir \n",
      "예측 요약 :  bjp alliance will not be bjp leader\n",
      "\n",
      "\n",
      "원문 : nepal police arrested indians allegedly involved grey market district arrested involved trafficking materials india without paying duty taxes nepal police said sharma uttar pradesh identified leader group \n",
      "실제 요약 : indians arrested in nepal over market link \n",
      "예측 요약 :  bsf arrests for selling in mumbai\n",
      "\n",
      "\n",
      "원문 : warning china creating artificial controversy around dalai lama visit arunachal pradesh centre monday asserted visit religious political government asserted india never problem neighbouring countries adding people arunachal pradesh relations people china \n",
      "실제 요약 : visit religious not political centre \n",
      "예측 요약 :  china to create of\n",
      "\n",
      "\n",
      "원문 : principal sessions court kerala thursday sentenced convict islam death raping murdering law student april raped murdered residence allegedly influence alcohol murder led widespread public protests women safety state \n",
      "실제 요약 : rape and murder sentenced to death \n",
      "예측 요약 :  sentenced to death in rape case\n",
      "\n",
      "\n",
      "원문 : nomination narayan gupta one aap three rajya sabha candidates put hold till monday returning officer comes congress filed objection alleging gupta held office profit aap dismissed charge saying congress trying gain cheap publicity nn \n",
      "실제 요약 : aap rajya sabha candidate put on hold \n",
      "예측 요약 :  to be held in guj assembly\n",
      "\n",
      "\n",
      "원문 : actress sonam kapoor apologised actor amitabh bachchan twitter replying sms sent birthday big replying tweet sonam thanked shetty birthday wishes written amitabh bachchan dear sonam clarified missed seeing bachchan message \n",
      "실제 요약 : sonam apologises to big for not to birthday \n",
      "예측 요약 :  pic shows rishi on pic with her\n",
      "\n",
      "\n",
      "원문 : adani foundation corporate social responsibility arm adani group committed giving crore relief rehabilitation kerala flood victims provide crore immediate relief kerala chief minister distress relief fund equal amount rehabilitation adani group employees also pledged day salary effort \n",
      "실제 요약 : commits crore for kerala flood relief \n",
      "예측 요약 :  group donates crore to kerala flood relief\n",
      "\n",
      "\n",
      "원문 : talking recent trip goa cousin priyanka chopra rumoured boyfriend nick jonas parineeti chopra said like family trip friends us friends family trip actually added parineeti said hours great time \n",
      "실제 요약 : was like family trip parineeti on goa trip with priyanka nick \n",
      "예측 요약 :  priyanka chopra nick shares pic with nick\n",
      "\n",
      "\n",
      "원문 : airports authority india written civil aviation ministry remove rape convict gurmeet ram rahim singh name list people access vip airports notably access granted like prime minister president head foreign governments cabinet secretary among others \n",
      "실제 요약 : ram rahim to lose access to airport \n",
      "예측 요약 :  ram rahim ram rahim to be tops\n",
      "\n",
      "\n",
      "원문 : myanmar government rice acres abandoned rohingya muslims officials said move likely raise concerns return six lakh members muslim minority group fled country due communal violence myanmar agreed verified rohingya muslims \n",
      "실제 요약 : myanmar govt to by rohingya muslims \n",
      "예측 요약 :  myanmar myanmar to muslims muslims\n",
      "\n",
      "\n",
      "원문 : man allegedly killed year old son fit playing near railway crossing ludhiana saturday boy playing three sisters father started throwing stones girls managed escape stone hit boy head causing die spot \n",
      "실제 요약 : man kills year old son for playing near railway \n",
      "예측 요약 :  man kills son for son to escape\n",
      "\n",
      "\n",
      "원문 : kolkata girl topped board examination conducted council indian school certificate examinations results declared monday four students bagged second rank examination overall pass percentage class examination saw small increase year \n",
      "실제 요약 : kolkata girl tops class \n",
      "예측 요약 :  girl exam tops class board exam\n",
      "\n",
      "\n",
      "원문 : year old wanted man rajasthan found gujarat wednesday punjabi run eight years several cases liquor smuggling possessing illegal arms living offering solutions people gujarat \n",
      "실제 요약 : wanted man from rajasthan found as in gujarat \n",
      "예측 요약 :  man who lost the year old man found in\n",
      "\n",
      "\n",
      "원문 : new zealand test playing nation india yet defeat faced five times previously india currently ranked fifth begin three match series top ranked new zealand delhi today india jump second rank win pakistan \n",
      "실제 요약 : new zealand only country which india has not beaten in is \n",
      "예측 요약 :  nz captain to play in series in india\n",
      "\n",
      "\n",
      "원문 : discussing differences captaincy ms dhoni virat kohli spinner ravichandran ashwin said virat kohli aggressive field sometimes calling dhoni captaincy ashwin added virat completely different individual likes likes things probably generation individual \n",
      "실제 요약 : virat is so feel says ashwin \n",
      "예측 요약 :  kohli is the of kohli rohit sharma\n",
      "\n",
      "\n",
      "원문 : veteran actor currently undergoing treatment hospital los angeles started recovering expected return india soon reports suggested actor reportedly suffered first stunt film lucky undergone treatment \n",
      "실제 요약 : amid treatment in us hospital reports \n",
      "예측 요약 :  actor to hospital in\n",
      "\n",
      "\n",
      "원문 : freedom fighter singh former lieutenant governor punjab michael revenge bagh hanged british july singh shot twice meeting london hall march \n",
      "실제 요약 : singh was on this day \n",
      "예측 요약 :  governor of ex navy minister\n",
      "\n",
      "\n",
      "원문 : talking wedding dress priyanka chopra revealed wanted something unique red white names dates parents names mother law wedding dress mine fashion wanted longest world foot long got added actress \n",
      "실제 요약 : had my parents names on my wedding dress priyanka \n",
      "예측 요약 :  wedding dress priyanka on wedding\n",
      "\n",
      "\n",
      "원문 : haryana government ordered four ryan international school gurugram remain shut two days till tuesday comes amid protests school management murder class student inside campus friday decision taken due safety reasons requests parents police said \n",
      "실제 요약 : ryan school in gurugram to remain shut for two days \n",
      "예측 요약 :  haryana govt school ordered to shut down\n",
      "\n",
      "\n",
      "원문 : india largest lender sbi planning bring minimum balance limit savings accounts current balance according reports comes finance ministry report showed sbi collected crore april november charges customers maintain minimum monthly average balance accounts \n",
      "실제 요약 : sbi may cut in to \n",
      "예측 요약 :  sbi to set up to for\n",
      "\n",
      "\n",
      "원문 : china people liberation army issued fresh statement saying goodwill principles standoff doklam bottom line asked india immediately pull back troops adding country chinese forces defend national sovereignty security development interests \n",
      "실제 요약 : has line chinese army over \n",
      "예측 요약 :  china should be on army chief\n",
      "\n",
      "\n",
      "원문 : line launched feet grand west united states many four visitors time travel speeds kmph experience starting per person official called one longest exciting lines found anywhere world \n",
      "실제 요약 : can line over feet above \n",
      "예측 요약 :  unveils its first ever\n",
      "\n",
      "\n",
      "원문 : presenting union budget finance minister arun jaitley thursday announced lakh wifi spots created rural areas added one lakh gram connected said quality indian education improved aid technology \n",
      "실제 요약 : lakh to be created in arun jaitley \n",
      "예측 요약 :  to be put on in bengaluru\n",
      "\n",
      "\n",
      "원문 : one tiger born park near bhubaneswar odisha named baahubali named presence odisha forest environment minister majority zoo visitors suggested name six named vicky \n",
      "실제 요약 : tiger in odisha named baahubali \n",
      "예측 요약 :  tiger gandhi gets statue in madhya pradesh\n",
      "\n",
      "\n",
      "원문 : occasion film completing years release today preity zinta wrote social media years film remains closest heart actor would probably wrote post preity co actor akshay kumar tweeted mutual \n",
      "실제 요약 : close to heart on film yrs \n",
      "예측 요약 :  st film to yrs after yrs\n",
      "\n",
      "\n",
      "원문 : late actor kumar wife kumar clarified viral video talks wants commit suicide actually scene film hai video showed drinking crying talking bad life video led speculations cause death \n",
      "실제 요약 : suicide video is film scene late actor wife \n",
      "예측 요약 :  wife me to me for suicide scene\n",
      "\n",
      "\n",
      "원문 : trailer vidya balan starrer upcoming comedy drama film released balan seen playing role radio film also star neha dhupia directed suresh scheduled release november \n",
      "실제 요약 : trailer of vidya starrer released \n",
      "예측 요약 :  trailer of taapsee starrer released\n",
      "\n",
      "\n",
      "원문 : according reports katrina kaif writing titled dreams indian actor reveal details personal life focus childhood katrina also talking bollywood career \n",
      "실제 요약 : katrina to reports \n",
      "예측 요약 :  katrina to play in biopic on katrina\n",
      "\n",
      "\n",
      "원문 : union minorities minister mukhtar abbas naqvi sunday said post prime minister elections anti modi front two dozen post fight claimed said bjp contest elections leadership pm narendra modi \n",
      "실제 요약 : no for pm post in minister \n",
      "예측 요약 :  opposition pm modi to be\n",
      "\n",
      "\n",
      "원문 : madhya pradesh cm shivraj singh chouhan announced reward policeman abhishek patel ran kilogram bomb shoulders save school children lives patel located bomb school police received anonymous call video running bomb went viral social media \n",
      "실제 요약 : reward for cop who with kg bomb to save kids \n",
      "예측 요약 :  mp cm announces reward for on fb bus\n",
      "\n",
      "\n",
      "원문 : saif ali khan revealed kareena kapoor khan worst secret keeper family sara ali khan soha ali khan best keeping secrets saif answered asked worst best secret keeper family kareena sara mother sisters soha ali khan \n",
      "실제 요약 : kareena is worst secret sara and are best saif \n",
      "예측 요약 :  saif ali khan kareena to star in film\n",
      "\n",
      "\n",
      "원문 : new song shah rukh khan anushka sharma starrer jab harry met sejal released song composed sung singh lyrics directed imtiaz ali romantic comedy scheduled release august \n",
      "실제 요약 : song from srk anushka harry met out \n",
      "예측 요약 :  song from harry met released\n",
      "\n",
      "\n",
      "원문 : comedian kapil sharma took dig brawl flight comedian sunil grover episode kapil sharma show episode team seen plane everybody fighting dressed air hostess asks kapil intervene says speak flights \n",
      "실제 요약 : kapil takes dig at flight with sunil on his show \n",
      "예측 요약 :  kapil sharma show to kapil sunil\n",
      "\n",
      "\n",
      "원문 : directorate revenue intelligence initiated action jeweller nirav modi three firms customs duty evasion case nirav accused causing losses value diamonds imported companies allegedly diverted diamonds imported via surat local markets illegally \n",
      "실제 요약 : nirav modi firms to be for duty \n",
      "예측 요약 :  cbi moves nirav modi firms in case\n",
      "\n",
      "\n",
      "원문 : credit reporting firm admitted data breach compromised personal information million americans nearly half population united states said breach discovered july exposed names dates birth social security numbers addresses credit card numbers customers also exposed added \n",
      "실제 요약 : data breach at credit firm half of us \n",
      "예측 요약 :  data breach of users million in us\n",
      "\n",
      "\n",
      "원문 : earth covered green bacteria prevented life forms fish confirmed nasa research study analysed remains preserved billion year old rocks australia stated bacteria appeared close surface required high sunlight \n",
      "실제 요약 : nasa study once earth had \n",
      "예측 요약 :  human found in human\n",
      "\n",
      "\n",
      "원문 : taking dig opposition parties cm yogi adityanath said sort movement presently underway state added opposition parties stall proceedings house people given parties right sit opposition fear lose well cm said \n",
      "실제 요약 : is up cm on opposition parties \n",
      "예측 요약 :  will take action against bjp cm on\n",
      "\n",
      "\n",
      "원문 : radhika apte revealed engage phone sex film dev time never phone sex front everybody added talking however radhika said great film even though get selected \n",
      "실제 요약 : had to in phone sex during \n",
      "예측 요약 :  sex is not sex with sex\n",
      "\n",
      "\n",
      "원문 : google monday announced added feature ai based assistant flight delays feature debuted google flights january predict delay least results indicated flight would get delayed feature available users globally next weeks google said \n",
      "실제 요약 : google adds flights feature to to \n",
      "예측 요약 :  google may launch engine to launch helicopter engine engine\n",
      "\n",
      "\n"
     ]
    }
   ],
   "source": [
    "# 테스트 데이터의 약50개의 샘플에 대해서 실제 요약과 예측된 요약을 비교\n",
    "\n",
    "for i in range(50, 100):\n",
    "    print(\"원문 :\", seq2text(encoder_input_test[i]))\n",
    "    print(\"실제 요약 :\", seq2summary(decoder_input_test[i]))\n",
    "    print(\"예측 요약 :\", decode_sequence(encoder_input_test[i].reshape(1, text_max_len)))\n",
    "    print(\"\\n\")"
   ]
  },
  {
   "cell_type": "markdown",
   "id": "infectious-assault",
   "metadata": {},
   "source": [
    "### Result: \n",
    "#### 실제 요약은 원문의 text 기반으로 담긴 것이라 같은 내용으로 표현되어 있고,  \n",
    "#### 예측 요약은 기존 요약과 다른 요약을 출력하면서 원문에서 유의미한 내용은 담고 있다.\n",
    "#### 개선의 기회: seq2seq, 어텐션의 자체의 조합을 좀 더 좋게 수정할 수 있다.  \n",
    "#### beam search, pre-trained word embedding, transformer와 같은 개선 방안들이 있다."
   ]
  },
  {
   "cell_type": "markdown",
   "id": "touched-jones",
   "metadata": {},
   "source": [
    "## 4. Summaize (추출적 요약)사용하기\n",
    "\n",
    "summarize api  \n",
    "\n",
    "* text(str):요약할 텍스트\n",
    "* ratio(float, optional)- 요약문과 원본에서 선택되는 문장 비율. 0~1 사이의 값\n",
    "* words(int or None, optional)- 출력에 포함할 단어 수(만약, ratio와 함께 두 파라미터가 모두 제공되는 경우 ratio는 무시한다.)\n",
    "* split(bool, optional)- True면 문장 list/False면 join된 문자열 반환\n"
   ]
  },
  {
   "cell_type": "code",
   "execution_count": 55,
   "id": "narrative-favor",
   "metadata": {},
   "outputs": [
    {
     "name": "stdout",
     "output_type": "stream",
     "text": [
      "data size: 98401\n"
     ]
    }
   ],
   "source": [
    "import requests\n",
    "from summa.summarizer import summarize\n",
    "\n",
    "# 다시 데이터 다운로드\n",
    "urllib.request.urlretrieve(\"https://raw.githubusercontent.com/sunnysai12345/News_Summary/master/news_summary_more.csv\", filename=\"news_summary_more.csv\")\n",
    "data = pd.read_csv('news_summary_more.csv', encoding='iso-8859-1')"
   ]
  },
  {
   "cell_type": "code",
   "execution_count": 96,
   "id": "efficient-edmonton",
   "metadata": {},
   "outputs": [
    {
     "name": "stdout",
     "output_type": "stream",
     "text": [
      "Original:\n",
      "Kunal Shah's credit card bill payment platform, CRED, gave users a chance to win free food from Swiggy for one year.\n",
      "Pranav Kaushik, a Delhi techie, bagged this reward after spending 2000 CRED coins.\n",
      "Users get one CRED coin per rupee of bill paid, which can be used to avail rewards from brands like Ixigo, BookMyShow, UberEats, Cult.Fit and more.\n"
     ]
    }
   ],
   "source": [
    "#원문 데이터 하나 \n",
    "print('Original:')\n",
    "print(summarize(data['text'][1], ratio=1))"
   ]
  },
  {
   "cell_type": "code",
   "execution_count": 99,
   "id": "qualified-theology",
   "metadata": {},
   "outputs": [
    {
     "name": "stdout",
     "output_type": "stream",
     "text": [
      "Summary:\n",
      "Users get one CRED coin per rupee of bill paid, which can be used to avail rewards from brands like Ixigo, BookMyShow, UberEats, Cult.Fit and more.\n"
     ]
    }
   ],
   "source": [
    "#원문 데이터를 0.5 ratio 출력\n",
    "\n",
    "print('Summary:')\n",
    "print(summarize(data['text'][1], ratio=0.5))"
   ]
  },
  {
   "cell_type": "code",
   "execution_count": 95,
   "id": "linear-insertion",
   "metadata": {},
   "outputs": [
    {
     "name": "stdout",
     "output_type": "stream",
     "text": [
      "Summary:\n",
      "['Users get one CRED coin per rupee of bill paid, which can be used to avail rewards from brands like Ixigo, BookMyShow, UberEats, Cult.Fit and more.']\n"
     ]
    }
   ],
   "source": [
    "# 리스트로 출력 값 받기 \n",
    "\n",
    "print('Summary:')\n",
    "print(summarize(data['text'][1], ratio=0.5, split=True))"
   ]
  },
  {
   "cell_type": "code",
   "execution_count": 102,
   "id": "mechanical-terminology",
   "metadata": {},
   "outputs": [
    {
     "name": "stdout",
     "output_type": "stream",
     "text": [
      "Summary:\n",
      "Pranav Kaushik, a Delhi techie, bagged this reward after spending 2000 CRED coins.\n",
      "Users get one CRED coin per rupee of bill paid, which can be used to avail rewards from brands like Ixigo, BookMyShow, UberEats, Cult.Fit and more.\n"
     ]
    }
   ],
   "source": [
    "# 단어를 40개만 선택해보기\n",
    "\n",
    "print('Summary:')\n",
    "print(summarize(data['text'][1], words=40))"
   ]
  },
  {
   "cell_type": "markdown",
   "id": "waiting-malawi",
   "metadata": {},
   "source": [
    "## 5. 회고\n",
    "추출적 요약은 원문에서 중요한 핵심 문장이나 단어를 추출하여 구성된 문장을 만드는 것이고,  \n",
    "추상적 요약은 원문에 없던 문장이라도 핵심 문맥을 반영하여 새로운 문장을 생성해서 요약문을 만드는 것이다.  \n",
    "대표적인 모델로 seq2seq가 있다. 이 방법은 기존적으로 지도 학습이기 때문에 원문뿐만 아니라 실제 요약문도 필요하다.  \n",
    "그래서 데이터를 전처리하는 것도 비용이 큰 작업이다.  \n",
    "데이터 전처리 과정에서 짧은 요약 데이터에 대해서는 문장의 길이가 길지 않아 불용어를 제거 하지 않았다.\n",
    "병렬 처리를 했음에도 전처리 과정이 꽤나 길었다. ealry stopping은 유용했다.\n",
    "희귀 단어는 요약에서 가중치가 적어 전처리 과정에서 많이 덜어냈다.\n",
    "결과적으로 기존 요약과 다른 요약을 출력하면서 원문에서 유의미한 내용은 담고 있다.\n",
    "추가적으로 seq2seq, 어텐션의 자체의 조합을 사용하면 좀 더 좋게 수정할 수 있다.\n",
    "그리고 beam search, pre-trained word embedding, transformer와 같은 개선 방안들도 있는 것으로 확인했다.\n",
    "   "
   ]
  }
 ],
 "metadata": {
  "kernelspec": {
   "display_name": "Python 3",
   "language": "python",
   "name": "python3"
  }
 },
 "nbformat": 4,
 "nbformat_minor": 5
}
