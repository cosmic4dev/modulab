{
 "cells": [
  {
   "cell_type": "markdown",
   "id": "about-electric",
   "metadata": {},
   "source": [
    "# 뉴스 기사 요약해보기\n",
    "\n"
   ]
  },
  {
   "cell_type": "markdown",
   "id": "joined-collection",
   "metadata": {},
   "source": []
  },
  {
   "cell_type": "markdown",
   "id": "substantial-mentor",
   "metadata": {},
   "source": [
    "## 1. 데이터 수집\n",
    "\n",
    "아래의 링크의 '뉴스 데이터'를 사용했다.  \n",
    "[링크]https://github.com/sunnysai12345/News_Summary "
   ]
  },
  {
   "cell_type": "code",
   "execution_count": 4,
   "id": "informative-theme",
   "metadata": {},
   "outputs": [
    {
     "data": {
      "text/html": [
       "<div>\n",
       "<style scoped>\n",
       "    .dataframe tbody tr th:only-of-type {\n",
       "        vertical-align: middle;\n",
       "    }\n",
       "\n",
       "    .dataframe tbody tr th {\n",
       "        vertical-align: top;\n",
       "    }\n",
       "\n",
       "    .dataframe thead th {\n",
       "        text-align: right;\n",
       "    }\n",
       "</style>\n",
       "<table border=\"1\" class=\"dataframe\">\n",
       "  <thead>\n",
       "    <tr style=\"text-align: right;\">\n",
       "      <th></th>\n",
       "      <th>headlines</th>\n",
       "      <th>text</th>\n",
       "    </tr>\n",
       "  </thead>\n",
       "  <tbody>\n",
       "    <tr>\n",
       "      <th>74886</th>\n",
       "      <td>Collector who barred RSS head from hoisting fl...</td>\n",
       "      <td>District Collector of Palakkad in Kerala, P Ma...</td>\n",
       "    </tr>\n",
       "    <tr>\n",
       "      <th>26505</th>\n",
       "      <td>UN report on Kashmir nefarious conspiracy by P...</td>\n",
       "      <td>BJP Spokesperson Sambit Patra on Tuesday claim...</td>\n",
       "    </tr>\n",
       "    <tr>\n",
       "      <th>91820</th>\n",
       "      <td>Apple hires ex-NASA engineer for augmented rea...</td>\n",
       "      <td>Technology major Apple has hired former NASA e...</td>\n",
       "    </tr>\n",
       "    <tr>\n",
       "      <th>28817</th>\n",
       "      <td>Mumbai traffic disrupted, trains delayed due t...</td>\n",
       "      <td>Road traffic on Santa Cruz division and Khar s...</td>\n",
       "    </tr>\n",
       "    <tr>\n",
       "      <th>35071</th>\n",
       "      <td>Starbucks to shut US stores for a day for anti...</td>\n",
       "      <td>Starbucks on Tuesday said it will shut down ov...</td>\n",
       "    </tr>\n",
       "    <tr>\n",
       "      <th>40446</th>\n",
       "      <td>Doctors offered free stay if they treat patien...</td>\n",
       "      <td>District Collector of Maharashtra's Raigad, Dr...</td>\n",
       "    </tr>\n",
       "    <tr>\n",
       "      <th>38531</th>\n",
       "      <td>Dad never got best actor award but got love fr...</td>\n",
       "      <td>Speaking about actors receiving awards, Bobby ...</td>\n",
       "    </tr>\n",
       "    <tr>\n",
       "      <th>67884</th>\n",
       "      <td>'Chemical surgery' used for first time to edit...</td>\n",
       "      <td>Chinese scientists have trialled a 'base editi...</td>\n",
       "    </tr>\n",
       "    <tr>\n",
       "      <th>75586</th>\n",
       "      <td>Well done mere KungFu Pandya, tweets Sehwag on...</td>\n",
       "      <td>Reacting to Hardik Pandya's 86-ball maiden cen...</td>\n",
       "    </tr>\n",
       "    <tr>\n",
       "      <th>75883</th>\n",
       "      <td>Indian Air Force drone crashes in J&amp;K near Pak...</td>\n",
       "      <td>An unmanned aerial vehicle (UAV) of the Indian...</td>\n",
       "    </tr>\n",
       "  </tbody>\n",
       "</table>\n",
       "</div>"
      ],
      "text/plain": [
       "                                               headlines  \\\n",
       "74886  Collector who barred RSS head from hoisting fl...   \n",
       "26505  UN report on Kashmir nefarious conspiracy by P...   \n",
       "91820  Apple hires ex-NASA engineer for augmented rea...   \n",
       "28817  Mumbai traffic disrupted, trains delayed due t...   \n",
       "35071  Starbucks to shut US stores for a day for anti...   \n",
       "40446  Doctors offered free stay if they treat patien...   \n",
       "38531  Dad never got best actor award but got love fr...   \n",
       "67884  'Chemical surgery' used for first time to edit...   \n",
       "75586  Well done mere KungFu Pandya, tweets Sehwag on...   \n",
       "75883  Indian Air Force drone crashes in J&K near Pak...   \n",
       "\n",
       "                                                    text  \n",
       "74886  District Collector of Palakkad in Kerala, P Ma...  \n",
       "26505  BJP Spokesperson Sambit Patra on Tuesday claim...  \n",
       "91820  Technology major Apple has hired former NASA e...  \n",
       "28817  Road traffic on Santa Cruz division and Khar s...  \n",
       "35071  Starbucks on Tuesday said it will shut down ov...  \n",
       "40446  District Collector of Maharashtra's Raigad, Dr...  \n",
       "38531  Speaking about actors receiving awards, Bobby ...  \n",
       "67884  Chinese scientists have trialled a 'base editi...  \n",
       "75586  Reacting to Hardik Pandya's 86-ball maiden cen...  \n",
       "75883  An unmanned aerial vehicle (UAV) of the Indian...  "
      ]
     },
     "execution_count": 4,
     "metadata": {},
     "output_type": "execute_result"
    }
   ],
   "source": [
    "# 다운로드\n",
    "import pandas as pd\n",
    "import urllib.request\n",
    "urllib.request.urlretrieve(\"https://raw.githubusercontent.com/sunnysai12345/News_Summary/master/news_summary_more.csv\", filename=\"news_summary_more.csv\")\n",
    "data = pd.read_csv('news_summary_more.csv', encoding='iso-8859-1')\n",
    "\n",
    "# 다운된 데이터 샘플 일부(10개) 확인\n",
    "\n",
    "data.sample(10)"
   ]
  },
  {
   "cell_type": "markdown",
   "id": "accepted-labor",
   "metadata": {},
   "source": [
    "## 2. 데이터 전처리하기(추상적 요약)\n",
    "실습에서 사용된 전처리를 참고하여 각자 필요하다고 생각하는 전처리를 추가 사용하여 텍스트를 정규화 또는 정제해 보세요. 만약, 불용어 제거를 선택한다면 상대적으로 길이가 짧은 요약 데이터에 대해서도 불용어를 제거하는 것이 좋을지 고민해 보세요."
   ]
  },
  {
   "cell_type": "code",
   "execution_count": 5,
   "id": "resident-boundary",
   "metadata": {},
   "outputs": [
    {
     "name": "stdout",
     "output_type": "stream",
     "text": [
      "Text 열에서 중복을 배제한 유일한 샘플의 수 : 98360\n",
      "Summary 열에서 중복을 배제한 유일한 샘플의 수 : 98280\n"
     ]
    }
   ],
   "source": [
    "# 중복 샘플과 NULL 값 체크 \n",
    "\n",
    "print('text 열에서 중복을 배제한 유일한 샘플의 수 :', data['text'].nunique())\n",
    "print('headline 열에서 중복을 배제한 유일한 샘플의 수 :', data['headlines'].nunique())"
   ]
  },
  {
   "cell_type": "markdown",
   "id": "silver-vanilla",
   "metadata": {},
   "source": []
  },
  {
   "cell_type": "code",
   "execution_count": 6,
   "id": "geological-mining",
   "metadata": {},
   "outputs": [
    {
     "name": "stdout",
     "output_type": "stream",
     "text": [
      "전체 샘플수:  98360\n"
     ]
    }
   ],
   "source": [
    "# 중복 샘플 제거하기\n",
    "# inplace=True 를 설정하면 DataFrame 타입 값을 return 하지 않고 data 내부를 직접적으로 바꿉니다\n",
    "data.drop_duplicates(subset = ['text'], inplace = True)\n",
    "print('전체 샘플수: ', (len(data)))"
   ]
  },
  {
   "cell_type": "markdown",
   "id": "technical-growth",
   "metadata": {},
   "source": [
    "#### text의 중복이 없다."
   ]
  },
  {
   "cell_type": "code",
   "execution_count": 7,
   "id": "suited-excuse",
   "metadata": {},
   "outputs": [
    {
     "name": "stdout",
     "output_type": "stream",
     "text": [
      "headlines    0\n",
      "text         0\n",
      "dtype: int64\n"
     ]
    }
   ],
   "source": [
    "# NULL 샘플 총합\n",
    "print(data.isnull().sum())"
   ]
  },
  {
   "cell_type": "markdown",
   "id": "better-assessment",
   "metadata": {},
   "source": [
    "check result: headline과 text 열에 null값 없다. dropna 작업은 Pass"
   ]
  },
  {
   "cell_type": "code",
   "execution_count": 8,
   "id": "martial-south",
   "metadata": {},
   "outputs": [
    {
     "name": "stdout",
     "output_type": "stream",
     "text": [
      "정규화 사전의 수:  120\n"
     ]
    }
   ],
   "source": [
    "# text normalization을 통해 불용어 제거할 것임.\n",
    "\n",
    "contractions = {\"ain't\": \"is not\", \"aren't\": \"are not\",\"can't\": \"cannot\", \"'cause\": \"because\", \"could've\": \"could have\", \"couldn't\": \"could not\",\n",
    "                           \"didn't\": \"did not\",  \"doesn't\": \"does not\", \"don't\": \"do not\", \"hadn't\": \"had not\", \"hasn't\": \"has not\", \"haven't\": \"have not\",\n",
    "                           \"he'd\": \"he would\",\"he'll\": \"he will\", \"he's\": \"he is\", \"how'd\": \"how did\", \"how'd'y\": \"how do you\", \"how'll\": \"how will\", \"how's\": \"how is\",\n",
    "                           \"I'd\": \"I would\", \"I'd've\": \"I would have\", \"I'll\": \"I will\", \"I'll've\": \"I will have\",\"I'm\": \"I am\", \"I've\": \"I have\", \"i'd\": \"i would\",\n",
    "                           \"i'd've\": \"i would have\", \"i'll\": \"i will\",  \"i'll've\": \"i will have\",\"i'm\": \"i am\", \"i've\": \"i have\", \"isn't\": \"is not\", \"it'd\": \"it would\",\n",
    "                           \"it'd've\": \"it would have\", \"it'll\": \"it will\", \"it'll've\": \"it will have\",\"it's\": \"it is\", \"let's\": \"let us\", \"ma'am\": \"madam\",\n",
    "                           \"mayn't\": \"may not\", \"might've\": \"might have\",\"mightn't\": \"might not\",\"mightn't've\": \"might not have\", \"must've\": \"must have\",\n",
    "                           \"mustn't\": \"must not\", \"mustn't've\": \"must not have\", \"needn't\": \"need not\", \"needn't've\": \"need not have\",\"o'clock\": \"of the clock\",\n",
    "                           \"oughtn't\": \"ought not\", \"oughtn't've\": \"ought not have\", \"shan't\": \"shall not\", \"sha'n't\": \"shall not\", \"shan't've\": \"shall not have\",\n",
    "                           \"she'd\": \"she would\", \"she'd've\": \"she would have\", \"she'll\": \"she will\", \"she'll've\": \"she will have\", \"she's\": \"she is\",\n",
    "                           \"should've\": \"should have\", \"shouldn't\": \"should not\", \"shouldn't've\": \"should not have\", \"so've\": \"so have\",\"so's\": \"so as\",\n",
    "                           \"this's\": \"this is\",\"that'd\": \"that would\", \"that'd've\": \"that would have\", \"that's\": \"that is\", \"there'd\": \"there would\",\n",
    "                           \"there'd've\": \"there would have\", \"there's\": \"there is\", \"here's\": \"here is\",\"they'd\": \"they would\", \"they'd've\": \"they would have\",\n",
    "                           \"they'll\": \"they will\", \"they'll've\": \"they will have\", \"they're\": \"they are\", \"they've\": \"they have\", \"to've\": \"to have\",\n",
    "                           \"wasn't\": \"was not\", \"we'd\": \"we would\", \"we'd've\": \"we would have\", \"we'll\": \"we will\", \"we'll've\": \"we will have\", \"we're\": \"we are\",\n",
    "                           \"we've\": \"we have\", \"weren't\": \"were not\", \"what'll\": \"what will\", \"what'll've\": \"what will have\", \"what're\": \"what are\",\n",
    "                           \"what's\": \"what is\", \"what've\": \"what have\", \"when's\": \"when is\", \"when've\": \"when have\", \"where'd\": \"where did\", \"where's\": \"where is\",\n",
    "                           \"where've\": \"where have\", \"who'll\": \"who will\", \"who'll've\": \"who will have\", \"who's\": \"who is\", \"who've\": \"who have\",\n",
    "                           \"why's\": \"why is\", \"why've\": \"why have\", \"will've\": \"will have\", \"won't\": \"will not\", \"won't've\": \"will not have\",\n",
    "                           \"would've\": \"would have\", \"wouldn't\": \"would not\", \"wouldn't've\": \"would not have\", \"y'all\": \"you all\",\n",
    "                           \"y'all'd\": \"you all would\",\"y'all'd've\": \"you all would have\",\"y'all're\": \"you all are\",\"y'all've\": \"you all have\",\n",
    "                           \"you'd\": \"you would\", \"you'd've\": \"you would have\", \"you'll\": \"you will\", \"you'll've\": \"you will have\",\n",
    "                           \"you're\": \"you are\", \"you've\": \"you have\"}\n",
    "\n",
    "print(\"정규화 사전의 수: \", len(contractions))"
   ]
  },
  {
   "cell_type": "code",
   "execution_count": 11,
   "id": "spread-prince",
   "metadata": {},
   "outputs": [
    {
     "name": "stdout",
     "output_type": "stream",
     "text": [
      "stopwords 개수 : 179\n",
      "['i', 'me', 'my', 'myself', 'we', 'our', 'ours', 'ourselves', 'you', \"you're\", \"you've\", \"you'll\", \"you'd\", 'your', 'yours', 'yourself', 'yourselves', 'he', 'him', 'his', 'himself', 'she', \"she's\", 'her', 'hers', 'herself', 'it', \"it's\", 'its', 'itself', 'they', 'them', 'their', 'theirs', 'themselves', 'what', 'which', 'who', 'whom', 'this', 'that', \"that'll\", 'these', 'those', 'am', 'is', 'are', 'was', 'were', 'be', 'been', 'being', 'have', 'has', 'had', 'having', 'do', 'does', 'did', 'doing', 'a', 'an', 'the', 'and', 'but', 'if', 'or', 'because', 'as', 'until', 'while', 'of', 'at', 'by', 'for', 'with', 'about', 'against', 'between', 'into', 'through', 'during', 'before', 'after', 'above', 'below', 'to', 'from', 'up', 'down', 'in', 'out', 'on', 'off', 'over', 'under', 'again', 'further', 'then', 'once', 'here', 'there', 'when', 'where', 'why', 'how', 'all', 'any', 'both', 'each', 'few', 'more', 'most', 'other', 'some', 'such', 'no', 'nor', 'not', 'only', 'own', 'same', 'so', 'than', 'too', 'very', 's', 't', 'can', 'will', 'just', 'don', \"don't\", 'should', \"should've\", 'now', 'd', 'll', 'm', 'o', 're', 've', 'y', 'ain', 'aren', \"aren't\", 'couldn', \"couldn't\", 'didn', \"didn't\", 'doesn', \"doesn't\", 'hadn', \"hadn't\", 'hasn', \"hasn't\", 'haven', \"haven't\", 'isn', \"isn't\", 'ma', 'mightn', \"mightn't\", 'mustn', \"mustn't\", 'needn', \"needn't\", 'shan', \"shan't\", 'shouldn', \"shouldn't\", 'wasn', \"wasn't\", 'weren', \"weren't\", 'won', \"won't\", 'wouldn', \"wouldn't\"]\n"
     ]
    },
    {
     "name": "stderr",
     "output_type": "stream",
     "text": [
      "[nltk_data] Downloading package stopwords to /aiffel/nltk_data...\n",
      "[nltk_data]   Unzipping corpora/stopwords.zip.\n"
     ]
    }
   ],
   "source": [
    "# Check stopwords count(NLTK 사용, 영어)\n",
    "\n",
    "#NLTK패키지에서 stopwords 사전과 데이터 전처리를 위한 부분 다운로드\n",
    "import nltk\n",
    "nltk.download('stopwords')\n",
    "from nltk.corpus import stopwords\n",
    "\n",
    "print('stopwords 개수 :', len(stopwords.words('english') ))\n",
    "print(stopwords.words('english'))"
   ]
  },
  {
   "cell_type": "code",
   "execution_count": 16,
   "id": "proper-george",
   "metadata": {},
   "outputs": [],
   "source": [
    "# 문장 전처리 메소드 정의\n",
    "from bs4 import BeautifulSoup \n",
    "import re\n",
    "\n",
    "def preprocess_sentence(sentence, remove_stopwords=True):\n",
    "    sentence = sentence.lower() # 텍스트 소문자화\n",
    "    sentence = BeautifulSoup(sentence, \"lxml\").text # <br />, <a href = ...> 등의 html 태그 제거\n",
    "    sentence = re.sub(r'\\([^)]*\\)', '', sentence) # 괄호로 닫힌 문자열 (...) 제거 Ex) my husband (and myself!) for => my husband for\n",
    "    sentence = re.sub('\"','', sentence) # 쌍따옴표 \" 제거\n",
    "    sentence = ' '.join([contractions[t] if t in contractions else t for t in sentence.split(\" \")]) # 약어 정규화\n",
    "    sentence = re.sub(r\"'s\\b\",\"\", sentence) # 소유격 제거. Ex) roland's -> roland\n",
    "    sentence = re.sub(\"[^a-zA-Z]\", \" \", sentence) # 영어 외 문자(숫자, 특수문자 등) 공백으로 변환\n",
    "    sentence = re.sub('[m]{2,}', 'mm', sentence) # m이 3개 이상이면 2개로 변경. Ex) ummmmmmm yeah -> umm yeah\n",
    "    \n",
    "    # 불용어 제거 (Text)\n",
    "    if remove_stopwords:\n",
    "        tokens = ' '.join(word for word in sentence.split() if not word in stopwords.words('english') if len(word) > 1)\n",
    "    # 불용어 미제거 (Summary)\n",
    "    else:\n",
    "        tokens = ' '.join(word for word in sentence.split() if len(word) > 1)\n",
    "    return tokens"
   ]
  },
  {
   "cell_type": "code",
   "execution_count": 17,
   "id": "right-alcohol",
   "metadata": {},
   "outputs": [
    {
     "name": "stdout",
     "output_type": "stream",
     "text": [
      "everything bought great infact ordered twice third ordered wasfor mother father\n",
      "great way to start the day\n"
     ]
    }
   ],
   "source": [
    "# 임시 데이터를 만들어 이를 preprocess_sentence()에 넣어봄\n",
    "\n",
    "temp_text = 'Everything I bought was great, infact I ordered twice and the third ordered was<br />for my mother and father.'\n",
    "temp_summary = 'Great way to start (or finish) the day!!!'\n",
    "\n",
    "print(preprocess_sentence(temp_text))\n",
    "print(preprocess_sentence(temp_summary, False))  # 불용어를 제거하지 않습니다."
   ]
  },
  {
   "cell_type": "markdown",
   "id": "fiscal-marsh",
   "metadata": {},
   "source": [
    "Result: 모든 텍스트를 소문자로 바꿨고, 불필요한 태그나, 특수문자 등을 제거함."
   ]
  },
  {
   "cell_type": "code",
   "execution_count": 21,
   "id": "tamil-disney",
   "metadata": {},
   "outputs": [],
   "source": [
    "# Multi processing을 사용하여 전처리를 할 것이다.\n",
    "# Text의 경우에는 stopwords 제거, Summary의 경우에는 제거하지 않을 것이다.\n",
    "# 이 둘을 따로 처리함.\n",
    "\n",
    "# 메소드 정의 \n",
    "import multiprocessing as mp   # 멀티 프로세싱으로 전처리 속도를 획기적으로 줄여봅시다\n",
    "from multiprocessing import Pool\n",
    "import numpy as np\n",
    "import time\n",
    "from functools import partial  # map을 할 때 함수에 여러 인자를 넣어줄 수 있도록 합니다\n",
    "\n",
    "start = time.time()\n",
    "\n",
    "# num_cores 만큼 쪼개진 데이터를 전처리하여 반환합니다\n",
    "def appendTexts(sentences, remove_stopwords):\n",
    "  texts = []\n",
    "  for s in sentences:\n",
    "    texts += preprocess_sentence(s, remove_stopwords),\n",
    "  return texts\n",
    "\n",
    "def preprocess_data(data, remove_stopwords=True):\n",
    "  start_time = time.time()\n",
    "  num_cores = mp.cpu_count()  # 컴퓨터의 코어 수를 구합니다\n",
    "\n",
    "  text_data_split = np.array_split(data, num_cores)  # 코어 수만큼 데이터를 배분하여 병렬적으로 처리할 수 있게 합니다\n",
    "  pool = Pool(num_cores)\n",
    "\n",
    "  processed_data = np.concatenate(pool.map(partial(appendTexts, remove_stopwords=remove_stopwords), text_data_split))  # 각자 작업한 데이터를 하나로 합쳐줍니다\n",
    "  pool.close()\n",
    "  pool.join()\n",
    "  print(time.time() - start_time, \" seconds\")\n",
    "  return processed_data\n"
   ]
  },
  {
   "cell_type": "code",
   "execution_count": 22,
   "id": "analyzed-spanking",
   "metadata": {},
   "outputs": [
    {
     "name": "stdout",
     "output_type": "stream",
     "text": [
      "181.36906790733337  seconds\n",
      "['saurav kant alumnus upgrad iiit pg program machine learning artificial intelligence sr systems engineer infosys almost years work experience program upgrad degree career support helped transition data scientist tech mahindra salary hike upgrad online power learning powered lakh careers'\n",
      " 'kunal shah credit card bill payment platform cred gave users chance win free food swiggy one year pranav kaushik delhi techie bagged reward spending cred coins users get one cred coin per rupee bill paid used avail rewards brands like ixigo bookmyshow ubereats cult fit'\n",
      " 'new zealand defeated india wickets fourth odi hamilton thursday win first match five match odi series india lost international match rohit sharma captaincy consecutive victories dating back march match witnessed india getting seventh lowest total odi cricket history'\n",
      " ...\n",
      " 'according reports new version science fiction film matrix development michael jordan reportedly play lead role film screenwriter zak penn talks write script film reports added actor keanu reeves starred original film followed two sequels'\n",
      " 'new music video shows rapper snoop dogg aiming toy gun clown character parodying us president donald trump video also shows tv airing news conference headline ronald klump wants deport doggs airing live clown house video remixed version song lavender'\n",
      " 'madhesi morcha alliance seven political parties withdrawn support pm pushpa kamal dahal led nepal government failed meet seven day ultimatum fulfil demands including endorsement revised constitution amendment bill morcha seats parliament despite withdrawal support immediate threat government']\n",
      "5.785389184951782  seconds\n",
      "['upgrad learner switches to career in ml al with salary hike'\n",
      " 'delhi techie wins free food from swiggy for one year on cred'\n",
      " 'new zealand end rohit sharma led india match winning streak' ...\n",
      " 'the matrix film to get reboot reports'\n",
      " 'snoop dogg aims gun at clown dressed as trump in new video'\n",
      " 'madhesi morcha withdraws support to nepalese government']\n"
     ]
    }
   ],
   "source": [
    "# 위 두 메소드를 통해 전처리&확인\n",
    "\n",
    "clean_text = preprocess_data(data['text']) \n",
    "print(clean_text)\n",
    "print('-------------')\n",
    "clean_headlines = preprocess_data(data['headlines'], remove_stopwords=False) #불용어 제거 수행 안함.\n",
    "print(clean_headlines)"
   ]
  },
  {
   "cell_type": "markdown",
   "id": "valuable-mumbai",
   "metadata": {},
   "source": [
    "#### Result: text 부분에서는 stopwords를 제거했고, headlines 부분에서는 살려뒀다.\n"
   ]
  },
  {
   "cell_type": "code",
   "execution_count": 23,
   "id": "annoying-algebra",
   "metadata": {},
   "outputs": [],
   "source": [
    "# 데이터 확인 후 빈 값을 null로 처리\n",
    "\n",
    "data['text'] = clean_text\n",
    "data['headlines'] = clean_headlines\n",
    "\n",
    "data.replace('',np.nan, inplace = True)"
   ]
  },
  {
   "cell_type": "code",
   "execution_count": 24,
   "id": "minute-grain",
   "metadata": {},
   "outputs": [
    {
     "data": {
      "text/plain": [
       "headlines    0\n",
       "text         0\n",
       "dtype: int64"
      ]
     },
     "execution_count": 24,
     "metadata": {},
     "output_type": "execute_result"
    }
   ],
   "source": [
    "# 다시 Null 체크\n",
    "\n",
    "data.isnull().sum()"
   ]
  },
  {
   "cell_type": "markdown",
   "id": "excess-church",
   "metadata": {},
   "source": [
    "null이 없어가지고 그대로임."
   ]
  },
  {
   "cell_type": "markdown",
   "id": "referenced-afternoon",
   "metadata": {},
   "source": []
  },
  {
   "cell_type": "code",
   "execution_count": 27,
   "id": "adjusted-portable",
   "metadata": {},
   "outputs": [
    {
     "name": "stdout",
     "output_type": "stream",
     "text": [
      "텍스트의 최소 길이 : 1\n",
      "텍스트의 최대 길이 : 60\n",
      "텍스트의 평균 길이 : 35.09968483123221\n",
      "Headline의 최소 길이 : 1\n",
      "Headline의 최대 길이 : 16\n",
      "Headline의 평균 길이 : 9.299532330215534\n"
     ]
    },
    {
     "data": {
      "image/png": "[encoded data removed]",
      "text/plain": [
       "<Figure size 432x288 with 2 Axes>"
      ]
     },
     "metadata": {
      "needs_background": "light"
     },
     "output_type": "display_data"
    },
    {
     "data": {
      "image/png": "[encoded data removed]",
      "text/plain": [
       "<Figure size 432x288 with 1 Axes>"
      ]
     },
     "metadata": {
      "needs_background": "light"
     },
     "output_type": "display_data"
    },
    {
     "data": {
      "image/png": "[encoded data removed]",
      "text/plain": [
       "<Figure size 432x288 with 1 Axes>"
      ]
     },
     "metadata": {
      "needs_background": "light"
     },
     "output_type": "display_data"
    }
   ],
   "source": [
    "### 이제 학습 데이터의 크기를 정한다.\n",
    "\n",
    "# 길이 분포 출력\n",
    "import matplotlib.pyplot as plt\n",
    "\n",
    "text_len = [len(s.split()) for s in data['text']]\n",
    "headline_len = [len(s.split()) for s in data['headlines']]\n",
    "\n",
    "print('텍스트의 최소 길이 : {}'.format(np.min(text_len)))\n",
    "print('텍스트의 최대 길이 : {}'.format(np.max(text_len)))\n",
    "print('텍스트의 평균 길이 : {}'.format(np.mean(text_len)))\n",
    "print('Headline의 최소 길이 : {}'.format(np.min(headline_len)))\n",
    "print('Headline의 최대 길이 : {}'.format(np.max(headline_len)))\n",
    "print('Headline의 평균 길이 : {}'.format(np.mean(headline_len)))\n",
    "\n",
    "plt.subplot(1,2,1)\n",
    "plt.boxplot(headline_len)\n",
    "plt.title('Headline')\n",
    "plt.subplot(1,2,2)\n",
    "plt.boxplot(text_len)\n",
    "plt.title('Text')\n",
    "plt.tight_layout()\n",
    "plt.show()\n",
    "\n",
    "plt.title('Headline')\n",
    "plt.hist(headline_len, bins = 40)\n",
    "plt.xlabel('length of samples')\n",
    "plt.ylabel('number of samples')\n",
    "plt.show()\n",
    "\n",
    "plt.title('Text')\n",
    "plt.hist(text_len, bins = 40)\n",
    "plt.xlabel('length of samples')\n",
    "plt.ylabel('number of samples')\n",
    "plt.show()"
   ]
  },
  {
   "cell_type": "markdown",
   "id": "difficult-seller",
   "metadata": {},
   "source": [
    "#### Result: text의 평균길이가 35인데 요약을 통해 길이 9까지 줄였다.  상당히 축약됐다."
   ]
  },
  {
   "cell_type": "code",
   "execution_count": 32,
   "id": "opponent-default",
   "metadata": {},
   "outputs": [],
   "source": [
    "# 한번 더 전처리 작업( text와 headline의 적절한 최대 길이를 세팅)\n",
    "# 사실 이 데이터는 텍스트의 길이가 길지 않지만 그래도 좀 줄여 보겠음\n",
    "# text: 60 -> 50, headline: 16 ->8\n",
    "\n",
    "text_max_len = 50\n",
    "headline_max_len = 8\n"
   ]
  },
  {
   "cell_type": "code",
   "execution_count": 33,
   "id": "rational-productivity",
   "metadata": {},
   "outputs": [],
   "source": [
    "# 설정한 최대 길이가 기존 샘플의 몇%을 커버하는지 확인하는 메소드 정의\n",
    "\n",
    "def below_threshold_len(max_len, nested_list):\n",
    "  cnt = 0\n",
    "  for s in nested_list:\n",
    "    if(len(s.split()) <= max_len):\n",
    "        cnt = cnt + 1\n",
    "  print('전체 샘플 중 길이가 %s 이하인 샘플의 비율: %s'%(max_len, (cnt / len(nested_list))))"
   ]
  },
  {
   "cell_type": "code",
   "execution_count": 34,
   "id": "amino-european",
   "metadata": {},
   "outputs": [
    {
     "name": "stdout",
     "output_type": "stream",
     "text": [
      "전체 샘플 중 길이가 50 이하인 샘플의 비율: 0.9998576657177715\n",
      "전체 샘플 중 길이가 8 이하인 샘플의 비율: 0.2755693371289142\n"
     ]
    }
   ],
   "source": [
    "# 확인해보자\n",
    "\n",
    "below_threshold_len(text_max_len, data['text'])\n",
    "below_threshold_len(headline_max_len,  data['headlines'])"
   ]
  },
  {
   "cell_type": "markdown",
   "id": "oriental-stuart",
   "metadata": {},
   "source": [
    "비율의 밸런스가 좋지 않다. 좀 더 수정해보겠다."
   ]
  },
  {
   "cell_type": "code",
   "execution_count": 43,
   "id": "higher-mitchell",
   "metadata": {},
   "outputs": [],
   "source": [
    "text_max_len = 38\n",
    "headline_max_len = 11"
   ]
  },
  {
   "cell_type": "code",
   "execution_count": 44,
   "id": "postal-filling",
   "metadata": {},
   "outputs": [
    {
     "name": "stdout",
     "output_type": "stream",
     "text": [
      "전체 샘플 중 길이가 38 이하인 샘플의 비율: 0.8163379422529483\n",
      "전체 샘플 중 길이가 11 이하인 샘플의 비율: 0.9449877999186661\n"
     ]
    }
   ],
   "source": [
    "# 다시 확인해보자\n",
    "\n",
    "below_threshold_len(text_max_len, data['text'])\n",
    "below_threshold_len(headline_max_len,  data['headlines'])"
   ]
  },
  {
   "cell_type": "code",
   "execution_count": 46,
   "id": "contemporary-tanzania",
   "metadata": {},
   "outputs": [
    {
     "name": "stdout",
     "output_type": "stream",
     "text": [
      "전체 샘플수 : 75754\n"
     ]
    }
   ],
   "source": [
    "# 정해진 길이 보다 긴 것은 제외한다.\n",
    "\n",
    "data = data[data['text'].apply(lambda x: len(x.split()) <= text_max_len)]\n",
    "data = data[data['headlines'].apply(lambda x: len(x.split()) <= headline_max_len)]\n",
    "print('전체 샘플수 :', (len(data)))"
   ]
  },
  {
   "cell_type": "markdown",
   "id": "laden-machine",
   "metadata": {},
   "source": [
    "#### Result: 전체 샘플 수가 98360에서 75754개로 줄어듬"
   ]
  },
  {
   "cell_type": "code",
   "execution_count": 47,
   "id": "fallen-expert",
   "metadata": {},
   "outputs": [
    {
     "data": {
      "text/html": [
       "<div>\n",
       "<style scoped>\n",
       "    .dataframe tbody tr th:only-of-type {\n",
       "        vertical-align: middle;\n",
       "    }\n",
       "\n",
       "    .dataframe tbody tr th {\n",
       "        vertical-align: top;\n",
       "    }\n",
       "\n",
       "    .dataframe thead th {\n",
       "        text-align: right;\n",
       "    }\n",
       "</style>\n",
       "<table border=\"1\" class=\"dataframe\">\n",
       "  <thead>\n",
       "    <tr style=\"text-align: right;\">\n",
       "      <th></th>\n",
       "      <th>headlines</th>\n",
       "      <th>text</th>\n",
       "      <th>decoder_input</th>\n",
       "      <th>decoder_target</th>\n",
       "    </tr>\n",
       "  </thead>\n",
       "  <tbody>\n",
       "    <tr>\n",
       "      <th>2</th>\n",
       "      <td>new zealand end rohit sharma led india match w...</td>\n",
       "      <td>new zealand defeated india wickets fourth odi ...</td>\n",
       "      <td>sostoken new zealand end rohit sharma led indi...</td>\n",
       "      <td>new zealand end rohit sharma led india match w...</td>\n",
       "    </tr>\n",
       "    <tr>\n",
       "      <th>3</th>\n",
       "      <td>aegon life iterm insurance plan helps customer...</td>\n",
       "      <td>aegon life iterm insurance plan customers enjo...</td>\n",
       "      <td>sostoken aegon life iterm insurance plan helps...</td>\n",
       "      <td>aegon life iterm insurance plan helps customer...</td>\n",
       "    </tr>\n",
       "    <tr>\n",
       "      <th>5</th>\n",
       "      <td>rahat fateh ali khan denies getting notice for...</td>\n",
       "      <td>pakistani singer rahat fateh ali khan denied r...</td>\n",
       "      <td>sostoken rahat fateh ali khan denies getting n...</td>\n",
       "      <td>rahat fateh ali khan denies getting notice for...</td>\n",
       "    </tr>\n",
       "    <tr>\n",
       "      <th>7</th>\n",
       "      <td>govt directs alok verma to join work day befor...</td>\n",
       "      <td>weeks ex cbi director alok verma told departme...</td>\n",
       "      <td>sostoken govt directs alok verma to join work ...</td>\n",
       "      <td>govt directs alok verma to join work day befor...</td>\n",
       "    </tr>\n",
       "    <tr>\n",
       "      <th>8</th>\n",
       "      <td>called pm modi sir times to satisfy his ego an...</td>\n",
       "      <td>andhra pradesh cm chandrababu naidu said met u...</td>\n",
       "      <td>sostoken called pm modi sir times to satisfy h...</td>\n",
       "      <td>called pm modi sir times to satisfy his ego an...</td>\n",
       "    </tr>\n",
       "  </tbody>\n",
       "</table>\n",
       "</div>"
      ],
      "text/plain": [
       "                                           headlines  \\\n",
       "2  new zealand end rohit sharma led india match w...   \n",
       "3  aegon life iterm insurance plan helps customer...   \n",
       "5  rahat fateh ali khan denies getting notice for...   \n",
       "7  govt directs alok verma to join work day befor...   \n",
       "8  called pm modi sir times to satisfy his ego an...   \n",
       "\n",
       "                                                text  \\\n",
       "2  new zealand defeated india wickets fourth odi ...   \n",
       "3  aegon life iterm insurance plan customers enjo...   \n",
       "5  pakistani singer rahat fateh ali khan denied r...   \n",
       "7  weeks ex cbi director alok verma told departme...   \n",
       "8  andhra pradesh cm chandrababu naidu said met u...   \n",
       "\n",
       "                                       decoder_input  \\\n",
       "2  sostoken new zealand end rohit sharma led indi...   \n",
       "3  sostoken aegon life iterm insurance plan helps...   \n",
       "5  sostoken rahat fateh ali khan denies getting n...   \n",
       "7  sostoken govt directs alok verma to join work ...   \n",
       "8  sostoken called pm modi sir times to satisfy h...   \n",
       "\n",
       "                                      decoder_target  \n",
       "2  new zealand end rohit sharma led india match w...  \n",
       "3  aegon life iterm insurance plan helps customer...  \n",
       "5  rahat fateh ali khan denies getting notice for...  \n",
       "7  govt directs alok verma to join work day befor...  \n",
       "8  called pm modi sir times to satisfy his ego an...  "
      ]
     },
     "execution_count": 47,
     "metadata": {},
     "output_type": "execute_result"
    }
   ],
   "source": [
    "# 헤드라인 데이터에 필요한 시작 token과 종료 token을 추가하겠다.\n",
    "\n",
    "data['decoder_input'] = data['headlines'].apply(lambda x : 'sostoken '+ x)\n",
    "data['decoder_target'] = data['headlines'].apply(lambda x : x + ' eostoken')\n",
    "data.head()"
   ]
  },
  {
   "cell_type": "markdown",
   "id": "japanese-engine",
   "metadata": {},
   "source": [
    "#### Result:  앞뒤로 'sostoken'이 붙었음을 확인했다."
   ]
  },
  {
   "cell_type": "code",
   "execution_count": 48,
   "id": "decreased-cattle",
   "metadata": {},
   "outputs": [],
   "source": [
    "# 인코더의 입력, 디코더의 입력과 레이블을 각각 다시 Numpy타입으로 저장한다.\n",
    "\n",
    "encoder_input = np.array(data['text']) # 인코더의 입력\n",
    "decoder_input = np.array(data['decoder_input']) # 디코더의 입력\n",
    "decoder_target = np.array(data['decoder_target']) # 디코더의 레이블"
   ]
  },
  {
   "cell_type": "markdown",
   "id": "primary-initial",
   "metadata": {},
   "source": [
    "### 훈련 데이터와 테스트 데이터를 분리하기"
   ]
  },
  {
   "cell_type": "code",
   "execution_count": 49,
   "id": "satisfactory-device",
   "metadata": {},
   "outputs": [
    {
     "name": "stdout",
     "output_type": "stream",
     "text": [
      "[19327 30796 46994 ...  2892  8868 71101]\n"
     ]
    }
   ],
   "source": [
    "# encoder_input 크기와 형태가 같은 순서가 섞인 정수 시퀀스로 만들기\n",
    "\n",
    "indices = np.arange(encoder_input.shape[0])\n",
    "np.random.shuffle(indices)\n",
    "print(indices)"
   ]
  },
  {
   "cell_type": "code",
   "execution_count": 50,
   "id": "worth-recipe",
   "metadata": {},
   "outputs": [],
   "source": [
    "# 샘플 순서 다시 정의해주기\n",
    "\n",
    "encoder_input = encoder_input[indices]\n",
    "decoder_input = decoder_input[indices]\n",
    "decoder_target = decoder_target[indices]"
   ]
  },
  {
   "cell_type": "code",
   "execution_count": 57,
   "id": "biblical-grade",
   "metadata": {},
   "outputs": [
    {
     "name": "stdout",
     "output_type": "stream",
     "text": [
      "테스트 데이터의 수 : 15150\n"
     ]
    }
   ],
   "source": [
    "# 데이터를 8:2로 훈련 데이터와 테스트 데이터로 나눈다.\n",
    "\n",
    "n_of_val = int(len(encoder_input)*0.2)\n",
    "print('테스트 데이터의 수 :', n_of_val)"
   ]
  },
  {
   "cell_type": "code",
   "execution_count": 58,
   "id": "hazardous-kuwait",
   "metadata": {},
   "outputs": [
    {
     "name": "stdout",
     "output_type": "stream",
     "text": [
      "훈련 데이터의 개수 : 60604\n",
      "훈련 레이블의 개수 : 60604\n",
      "테스트 데이터의 개수 : 15150\n",
      "테스트 레이블의 개수 : 15150\n"
     ]
    }
   ],
   "source": [
    "# 데이터를 나눈다.\n",
    "\n",
    "encoder_input_train = encoder_input[:-n_of_val]\n",
    "decoder_input_train = decoder_input[:-n_of_val]\n",
    "decoder_target_train = decoder_target[:-n_of_val]\n",
    "\n",
    "encoder_input_test = encoder_input[-n_of_val:]\n",
    "decoder_input_test = decoder_input[-n_of_val:]\n",
    "decoder_target_test = decoder_target[-n_of_val:]\n",
    "\n",
    "print('훈련 데이터의 개수 :', len(encoder_input_train))\n",
    "print('훈련 레이블의 개수 :', len(decoder_input_train))\n",
    "print('테스트 데이터의 개수 :', len(encoder_input_test))\n",
    "print('테스트 레이블의 개수 :', len(decoder_input_test))"
   ]
  },
  {
   "cell_type": "code",
   "execution_count": 60,
   "id": "continuous-dress",
   "metadata": {},
   "outputs": [],
   "source": [
    "# 정수 인코딩\n",
    "# 기계가 숫자로 처리할 수 있도록 train data, test data를 정수로 바꿔야 한다.\n",
    "# Keras의 토크나이저를 사용하면 단어 집합을 만들 수 있다.\n",
    "\n",
    "from tensorflow.keras.preprocessing.text import Tokenizer \n",
    "\n",
    "src_tokenizer = Tokenizer() # 토크나이저 정의\n",
    "src_tokenizer.fit_on_texts(encoder_input_train) # 입력된 데이터로부터 단어 집합 생성"
   ]
  },
  {
   "cell_type": "markdown",
   "id": "material-chorus",
   "metadata": {},
   "source": [
    "단어 집합이 생성되는 동시에 각 단어에 대한 고유한 정수가 부여되었고,  \n",
    "생성된 단어 집합은 src_tokenizer.word_index에 저장된다."
   ]
  },
  {
   "cell_type": "code",
   "execution_count": 61,
   "id": "devoted-jurisdiction",
   "metadata": {},
   "outputs": [
    {
     "name": "stdout",
     "output_type": "stream",
     "text": [
      "단어 집합(vocabulary)의 크기 : 60322\n",
      "등장 빈도가 6번 이하인 희귀 단어의 수: 41267\n",
      "단어 집합에서 희귀 단어를 제외시킬 경우의 단어 집합의 크기 19055\n",
      "단어 집합에서 희귀 단어의 비율: 68.41119326282285\n",
      "전체 등장 빈도에서 희귀 단어 등장 빈도 비율: 4.097913057021044\n"
     ]
    }
   ],
   "source": [
    "# 모든 단어를 쓰지 않고, 빈도수가 낮은 단어는 제외할 것이다. (빈도가 7회미만)\n",
    "\n",
    "threshold = 7\n",
    "total_cnt = len(src_tokenizer.word_index) # 단어의 수\n",
    "rare_cnt = 0 # 등장 빈도수가 threshold보다 작은 단어의 개수를 카운트\n",
    "total_freq = 0 # 훈련 데이터의 전체 단어 빈도수 총 합\n",
    "rare_freq = 0 # 등장 빈도수가 threshold보다 작은 단어의 등장 빈도수의 총 합\n",
    "\n",
    "# 단어와 빈도수의 쌍(pair)을 key와 value로 받는다.\n",
    "for key, value in src_tokenizer.word_counts.items():\n",
    "    total_freq = total_freq + value\n",
    "\n",
    "    # 단어의 등장 빈도수가 threshold보다 작으면\n",
    "    if(value < threshold):\n",
    "        rare_cnt = rare_cnt + 1\n",
    "        rare_freq = rare_freq + value\n",
    "\n",
    "print('단어 집합(vocabulary)의 크기 :', total_cnt)\n",
    "print('등장 빈도가 %s번 이하인 희귀 단어의 수: %s'%(threshold - 1, rare_cnt))\n",
    "print('단어 집합에서 희귀 단어를 제외시킬 경우의 단어 집합의 크기 %s'%(total_cnt - rare_cnt))\n",
    "print(\"단어 집합에서 희귀 단어의 비율:\", (rare_cnt / total_cnt)*100)\n",
    "print(\"전체 등장 빈도에서 희귀 단어 등장 빈도 비율:\", (rare_freq / total_freq)*100)"
   ]
  },
  {
   "cell_type": "code",
   "execution_count": 62,
   "id": "assured-harvest",
   "metadata": {},
   "outputs": [],
   "source": [
    "# 훈련 데이터에서 단어 집합의 크기를 8천개로 맞추기 (왜 8000개인가? )\n",
    "\n",
    "src_vocab = 8000\n",
    "src_tokenizer = Tokenizer(num_words=src_vocab) # 단어 집합의 크기를 8,000으로 제한\n",
    "src_tokenizer.fit_on_texts(encoder_input_train) # 단어 집합 재생성."
   ]
  },
  {
   "cell_type": "code",
   "execution_count": 63,
   "id": "constitutional-catalog",
   "metadata": {},
   "outputs": [
    {
     "name": "stdout",
     "output_type": "stream",
     "text": [
      "[[3, 13, 127, 38, 862, 758, 220, 758, 222, 231, 7, 30, 6204, 1480, 412, 2725, 392, 5858, 5463, 1425, 1374, 31, 3175, 2458, 5464, 1656, 281, 1459], [928, 257, 1072, 615, 451, 25, 175, 107, 28, 928, 257, 87, 370, 771, 197, 4257, 928, 6, 87, 451, 1253, 98, 1754, 2526, 97, 615, 1328, 3807, 36, 893, 928, 175], [130, 778, 613, 1935, 1247, 3575, 332, 1067, 301, 779, 3575, 1368, 2506, 592, 344, 2263, 130, 1, 10, 28, 130, 1468, 613, 1935, 92, 210]]\n"
     ]
    }
   ],
   "source": [
    "# 텍스트 시퀀스를 정수 시퀀스로 변환시키기\n",
    "\n",
    "encoder_input_train = src_tokenizer.texts_to_sequences(encoder_input_train) \n",
    "encoder_input_test = src_tokenizer.texts_to_sequences(encoder_input_test)\n",
    "\n",
    "# 잘 진행되었는지 샘플 출력\n",
    "print(encoder_input_train[:3])"
   ]
  },
  {
   "cell_type": "code",
   "execution_count": 64,
   "id": "medieval-street",
   "metadata": {},
   "outputs": [],
   "source": [
    "# headlines 데이터도 마찬가지로  text2seq 처리하기\n",
    "\n",
    "tar_tokenizer = Tokenizer()\n",
    "tar_tokenizer.fit_on_texts(decoder_input_train)"
   ]
  },
  {
   "cell_type": "markdown",
   "id": "israeli-handling",
   "metadata": {},
   "source": [
    "단어 집합이 생성되는 동시에 각 단어에 고유한 정수가 부여 되었음.\n",
    "이는 tar_tokenizer.word_index에 저장된다."
   ]
  },
  {
   "cell_type": "code",
   "execution_count": 65,
   "id": "minus-marine",
   "metadata": {},
   "outputs": [
    {
     "name": "stdout",
     "output_type": "stream",
     "text": [
      "단어 집합(vocabulary)의 크기 : 27062\n",
      "등장 빈도가 5번 이하인 희귀 단어의 수: 17994\n",
      "단어 집합에서 희귀 단어를 제외시킬 경우의 단어 집합의 크기 9068\n",
      "단어 집합에서 희귀 단어의 비율: 66.49175966299609\n",
      "전체 등장 빈도에서 희귀 단어 등장 빈도 비율: 5.59236949427044\n"
     ]
    }
   ],
   "source": [
    "# 역시 빈도수 6미만은 걸러내기\n",
    "\n",
    "threshold = 6\n",
    "total_cnt = len(tar_tokenizer.word_index) # 단어의 수\n",
    "rare_cnt = 0 # 등장 빈도수가 threshold보다 작은 단어의 개수를 카운트\n",
    "total_freq = 0 # 훈련 데이터의 전체 단어 빈도수 총 합\n",
    "rare_freq = 0 # 등장 빈도수가 threshold보다 작은 단어의 등장 빈도수의 총 합\n",
    "\n",
    "# 단어와 빈도수의 쌍(pair)을 key와 value로 받는다.\n",
    "for key, value in tar_tokenizer.word_counts.items():\n",
    "    total_freq = total_freq + value\n",
    "\n",
    "    # 단어의 등장 빈도수가 threshold보다 작으면\n",
    "    if(value < threshold):\n",
    "        rare_cnt = rare_cnt + 1\n",
    "        rare_freq = rare_freq + value\n",
    "\n",
    "print('단어 집합(vocabulary)의 크기 :', total_cnt)\n",
    "print('등장 빈도가 %s번 이하인 희귀 단어의 수: %s'%(threshold - 1, rare_cnt))\n",
    "print('단어 집합에서 희귀 단어를 제외시킬 경우의 단어 집합의 크기 %s'%(total_cnt - rare_cnt))\n",
    "print(\"단어 집합에서 희귀 단어의 비율:\", (rare_cnt / total_cnt)*100)\n",
    "print(\"전체 등장 빈도에서 희귀 단어 등장 빈도 비율:\", (rare_freq / total_freq)*100)"
   ]
  },
  {
   "cell_type": "code",
   "execution_count": 66,
   "id": "similar-conservation",
   "metadata": {},
   "outputs": [
    {
     "name": "stdout",
     "output_type": "stream",
     "text": [
      "input\n",
      "input  [[1, 255, 51, 105, 511, 16, 791, 858, 4, 516], [1, 117, 864, 219, 128, 841, 227, 179, 502, 3, 748], [1, 160, 1899, 14, 3], [1, 222, 217, 62, 112], [1, 910, 662, 4, 5, 47]]\n",
      "target\n",
      "decoder  [[255, 51, 105, 511, 16, 791, 858, 4, 516, 2], [117, 864, 219, 128, 841, 227, 179, 502, 3, 748, 2], [160, 1899, 14, 3, 2], [222, 217, 62, 112, 2], [910, 662, 4, 5, 47, 2]]\n"
     ]
    }
   ],
   "source": [
    "#희귀 단어의 비율만큼 비중이 적은 단어들( 2000개 정도) 제거 할 것이다.\n",
    "\n",
    "tar_vocab = 2000\n",
    "tar_tokenizer = Tokenizer(num_words=tar_vocab) \n",
    "tar_tokenizer.fit_on_texts(decoder_input_train)\n",
    "tar_tokenizer.fit_on_texts(decoder_target_train)\n",
    "\n",
    "# 텍스트 시퀀스를 정수 시퀀스로 변환\n",
    "decoder_input_train = tar_tokenizer.texts_to_sequences(decoder_input_train) \n",
    "decoder_target_train = tar_tokenizer.texts_to_sequences(decoder_target_train)\n",
    "decoder_input_test = tar_tokenizer.texts_to_sequences(decoder_input_test)\n",
    "decoder_target_test = tar_tokenizer.texts_to_sequences(decoder_target_test)\n",
    "\n",
    "# 잘 변환되었는지 확인\n",
    "print('input')\n",
    "print('input ',decoder_input_train[:5])\n",
    "print('target')\n",
    "print('decoder ',decoder_target_train[:5])"
   ]
  },
  {
   "cell_type": "markdown",
   "id": "ranking-rugby",
   "metadata": {},
   "source": [
    "#### Result: 이렇게 정수 인코딩 작업이 끝나게 된다.  현재 decoder_input_train과 decoder_target_train에는 더 이상 숫자 2,000이 넘는 숫자들은 존재하지 않는다. "
   ]
  },
  {
   "cell_type": "code",
   "execution_count": 67,
   "id": "drawn-angel",
   "metadata": {},
   "outputs": [
    {
     "name": "stdout",
     "output_type": "stream",
     "text": [
      "삭제할 훈련 데이터의 개수 : 6\n",
      "삭제할 테스트 데이터의 개수 : 3\n",
      "훈련 데이터의 개수 : 60598\n",
      "훈련 레이블의 개수 : 60598\n",
      "테스트 데이터의 개수 : 15147\n",
      "테스트 레이블의 개수 : 15147\n"
     ]
    },
    {
     "name": "stderr",
     "output_type": "stream",
     "text": [
      "/opt/conda/lib/python3.7/site-packages/numpy/core/_asarray.py:83: VisibleDeprecationWarning: Creating an ndarray from ragged nested sequences (which is a list-or-tuple of lists-or-tuples-or ndarrays with different lengths or shapes) is deprecated. If you meant to do this, you must specify 'dtype=object' when creating the ndarray\n",
      "  return array(a, dtype, copy=False, order=order)\n"
     ]
    }
   ],
   "source": [
    "#훈련 데이터와 테스트 데이터에 대해서 요약문의 길이가 1인 경우의 인덱스를  \n",
    "#각각 drop_train과 drop_test에 라는 변수에 저장해볼게요. 이 샘플들은 모두 삭제할 거예요\n",
    "\n",
    "drop_train = [index for index, sentence in enumerate(decoder_input_train) if len(sentence) == 1]\n",
    "drop_test = [index for index, sentence in enumerate(decoder_input_test) if len(sentence) == 1]\n",
    "\n",
    "print('삭제할 훈련 데이터의 개수 :', len(drop_train))\n",
    "print('삭제할 테스트 데이터의 개수 :', len(drop_test))\n",
    "\n",
    "encoder_input_train = np.delete(encoder_input_train, drop_train, axis=0)\n",
    "decoder_input_train = np.delete(decoder_input_train, drop_train, axis=0)\n",
    "decoder_target_train = np.delete(decoder_target_train, drop_train, axis=0)\n",
    "\n",
    "encoder_input_test = np.delete(encoder_input_test, drop_test, axis=0)\n",
    "decoder_input_test = np.delete(decoder_input_test, drop_test, axis=0)\n",
    "decoder_target_test = np.delete(decoder_target_test, drop_test, axis=0)\n",
    "\n",
    "print('훈련 데이터의 개수 :', len(encoder_input_train))\n",
    "print('훈련 레이블의 개수 :', len(decoder_input_train))\n",
    "print('테스트 데이터의 개수 :', len(encoder_input_test))\n",
    "print('테스트 레이블의 개수 :', len(decoder_input_test))"
   ]
  },
  {
   "cell_type": "markdown",
   "id": "unusual-branch",
   "metadata": {},
   "source": [
    "#### Result: 약간의 데이터 삭제가 이루어짐."
   ]
  },
  {
   "cell_type": "code",
   "execution_count": 70,
   "id": "domestic-stockholm",
   "metadata": {},
   "outputs": [],
   "source": [
    "# 패딩하기 \n",
    "# 텍스트 시퀀스 -> 정수 시퀀스에서 서로 다른 길이의 샘플들을 병렬 처리\n",
    "# 하기 위해 같은 길이로 맞춰주는 패딩 작업을 한다.\n",
    "# pad sequence를 위해 import \n",
    "from tensorflow.keras.preprocessing.sequence import pad_sequences\n",
    "\n",
    "encoder_input_train = pad_sequences(encoder_input_train, maxlen=text_max_len, padding='post')\n",
    "encoder_input_test = pad_sequences(encoder_input_test, maxlen=text_max_len, padding='post')\n",
    "decoder_input_train = pad_sequences(decoder_input_train, maxlen=headline_max_len, padding='post')\n",
    "decoder_target_train = pad_sequences(decoder_target_train, maxlen=headline_max_len, padding='post')\n",
    "decoder_input_test = pad_sequences(decoder_input_test, maxlen=headline_max_len, padding='post')\n",
    "decoder_target_test = pad_sequences(decoder_target_test, maxlen=headline_max_len, padding='post')"
   ]
  },
  {
   "cell_type": "markdown",
   "id": "configured-words",
   "metadata": {},
   "source": [
    "### 이렇게 학습에 필요한 데이터 전처리가 끝남."
   ]
  },
  {
   "cell_type": "markdown",
   "id": "invalid-premiere",
   "metadata": {},
   "source": [
    "## 2. 모델 설계"
   ]
  },
  {
   "cell_type": "code",
   "execution_count": 71,
   "id": "imported-science",
   "metadata": {},
   "outputs": [],
   "source": [
    "# 함수형 API를 사용하여 encoder를 설계\n",
    "\n",
    "from tensorflow.keras.layers import Input, LSTM, Embedding, Dense, Concatenate\n",
    "from tensorflow.keras.models import Model\n",
    "from tensorflow.keras.callbacks import EarlyStopping, ModelCheckpoint\n",
    "\n",
    "\n",
    "# 인코더 설계 시작\n",
    "embedding_dim = 128\n",
    "hidden_size = 256\n",
    "\n",
    "# 인코더\n",
    "encoder_inputs = Input(shape=(text_max_len,))\n",
    "\n",
    "# 인코더의 임베딩 층\n",
    "enc_emb = Embedding(src_vocab, embedding_dim)(encoder_inputs)\n",
    "\n",
    "# 인코더의 LSTM 1\n",
    "encoder_lstm1 = LSTM(hidden_size, return_sequences=True, return_state=True ,dropout = 0.4, recurrent_dropout = 0.4)\n",
    "encoder_output1, state_h1, state_c1 = encoder_lstm1(enc_emb)\n",
    "\n",
    "# 인코더의 LSTM 2\n",
    "encoder_lstm2 = LSTM(hidden_size, return_sequences=True, return_state=True, dropout=0.4, recurrent_dropout=0.4)\n",
    "encoder_output2, state_h2, state_c2 = encoder_lstm2(encoder_output1)\n",
    "\n",
    "# 인코더의 LSTM 3\n",
    "encoder_lstm3 = LSTM(hidden_size, return_state=True, return_sequences=True, dropout=0.4, recurrent_dropout=0.4)\n",
    "encoder_outputs, state_h, state_c= encoder_lstm3(encoder_output2)"
   ]
  },
  {
   "cell_type": "code",
   "execution_count": 72,
   "id": "stuck-individual",
   "metadata": {},
   "outputs": [],
   "source": [
    "#디코더 설계하기\n",
    "\n",
    "decoder_inputs = Input(shape=(None,))\n",
    "\n",
    "# 디코더의 임베딩 층\n",
    "dec_emb_layer = Embedding(tar_vocab, embedding_dim)\n",
    "dec_emb = dec_emb_layer(decoder_inputs)\n",
    "\n",
    "# 디코더의 LSTM\n",
    "decoder_lstm = LSTM(hidden_size, return_sequences=True, return_state=True, dropout=0.4, recurrent_dropout=0.2)\n",
    "decoder_outputs, _, _ = decoder_lstm(dec_emb, initial_state=[state_h, state_c])"
   ]
  },
  {
   "cell_type": "code",
   "execution_count": 73,
   "id": "unauthorized-simulation",
   "metadata": {},
   "outputs": [
    {
     "name": "stdout",
     "output_type": "stream",
     "text": [
      "Model: \"model\"\n",
      "__________________________________________________________________________________________________\n",
      "Layer (type)                    Output Shape         Param #     Connected to                     \n",
      "==================================================================================================\n",
      "input_1 (InputLayer)            [(None, 38)]         0                                            \n",
      "__________________________________________________________________________________________________\n",
      "embedding (Embedding)           (None, 38, 128)      1024000     input_1[0][0]                    \n",
      "__________________________________________________________________________________________________\n",
      "lstm (LSTM)                     [(None, 38, 256), (N 394240      embedding[0][0]                  \n",
      "__________________________________________________________________________________________________\n",
      "input_2 (InputLayer)            [(None, None)]       0                                            \n",
      "__________________________________________________________________________________________________\n",
      "lstm_1 (LSTM)                   [(None, 38, 256), (N 525312      lstm[0][0]                       \n",
      "__________________________________________________________________________________________________\n",
      "embedding_1 (Embedding)         (None, None, 128)    256000      input_2[0][0]                    \n",
      "__________________________________________________________________________________________________\n",
      "lstm_2 (LSTM)                   [(None, 38, 256), (N 525312      lstm_1[0][0]                     \n",
      "__________________________________________________________________________________________________\n",
      "lstm_3 (LSTM)                   [(None, None, 256),  394240      embedding_1[0][0]                \n",
      "                                                                 lstm_2[0][1]                     \n",
      "                                                                 lstm_2[0][2]                     \n",
      "__________________________________________________________________________________________________\n",
      "dense (Dense)                   (None, None, 2000)   514000      lstm_3[0][0]                     \n",
      "==================================================================================================\n",
      "Total params: 3,633,104\n",
      "Trainable params: 3,633,104\n",
      "Non-trainable params: 0\n",
      "__________________________________________________________________________________________________\n"
     ]
    }
   ],
   "source": [
    "# 디코더의 출력층\n",
    "decoder_softmax_layer = Dense(tar_vocab, activation='softmax')\n",
    "decoder_softmax_outputs = decoder_softmax_layer(decoder_outputs) \n",
    "\n",
    "# 모델 정의\n",
    "model = Model([encoder_inputs, decoder_inputs], decoder_softmax_outputs)\n",
    "model.summary()"
   ]
  },
  {
   "cell_type": "markdown",
   "id": "functional-ceremony",
   "metadata": {},
   "source": [
    "### 어텐션 매커니즘 적용"
   ]
  },
  {
   "cell_type": "code",
   "execution_count": 75,
   "id": "coastal-movement",
   "metadata": {},
   "outputs": [],
   "source": [
    "# 공개된 어텐션 함수 다운로드\n",
    "\n",
    "urllib.request.urlretrieve(\"https://raw.githubusercontent.com/thushv89/attention_keras/master/src/layers/attention.py\", filename=\"attention.py\")\n",
    "from attention import AttentionLayer"
   ]
  },
  {
   "cell_type": "markdown",
   "id": "straight-yield",
   "metadata": {},
   "source": [
    "### Decoder 출력층 수정"
   ]
  },
  {
   "cell_type": "code",
   "execution_count": 76,
   "id": "bridal-blanket",
   "metadata": {},
   "outputs": [
    {
     "name": "stdout",
     "output_type": "stream",
     "text": [
      "Model: \"model_1\"\n",
      "__________________________________________________________________________________________________\n",
      "Layer (type)                    Output Shape         Param #     Connected to                     \n",
      "==================================================================================================\n",
      "input_1 (InputLayer)            [(None, 38)]         0                                            \n",
      "__________________________________________________________________________________________________\n",
      "embedding (Embedding)           (None, 38, 128)      1024000     input_1[0][0]                    \n",
      "__________________________________________________________________________________________________\n",
      "lstm (LSTM)                     [(None, 38, 256), (N 394240      embedding[0][0]                  \n",
      "__________________________________________________________________________________________________\n",
      "input_2 (InputLayer)            [(None, None)]       0                                            \n",
      "__________________________________________________________________________________________________\n",
      "lstm_1 (LSTM)                   [(None, 38, 256), (N 525312      lstm[0][0]                       \n",
      "__________________________________________________________________________________________________\n",
      "embedding_1 (Embedding)         (None, None, 128)    256000      input_2[0][0]                    \n",
      "__________________________________________________________________________________________________\n",
      "lstm_2 (LSTM)                   [(None, 38, 256), (N 525312      lstm_1[0][0]                     \n",
      "__________________________________________________________________________________________________\n",
      "lstm_3 (LSTM)                   [(None, None, 256),  394240      embedding_1[0][0]                \n",
      "                                                                 lstm_2[0][1]                     \n",
      "                                                                 lstm_2[0][2]                     \n",
      "__________________________________________________________________________________________________\n",
      "attention_layer (AttentionLayer ((None, None, 256),  131328      lstm_2[0][0]                     \n",
      "                                                                 lstm_3[0][0]                     \n",
      "__________________________________________________________________________________________________\n",
      "concat_layer (Concatenate)      (None, None, 512)    0           lstm_3[0][0]                     \n",
      "                                                                 attention_layer[0][0]            \n",
      "__________________________________________________________________________________________________\n",
      "dense_1 (Dense)                 (None, None, 2000)   1026000     concat_layer[0][0]               \n",
      "==================================================================================================\n",
      "Total params: 4,276,432\n",
      "Trainable params: 4,276,432\n",
      "Non-trainable params: 0\n",
      "__________________________________________________________________________________________________\n"
     ]
    }
   ],
   "source": [
    "# 어텐션 층(어텐션 함수)\n",
    "attn_layer = AttentionLayer(name='attention_layer')\n",
    "# 인코더와 디코더의 모든 time step의 hidden state를 어텐션 층에 전달하고 결과를 리턴\n",
    "attn_out, attn_states = attn_layer([encoder_outputs, decoder_outputs])\n",
    "\n",
    "# 어텐션의 결과와 디코더의 hidden state들을 연결\n",
    "decoder_concat_input = Concatenate(axis=-1, name='concat_layer')([decoder_outputs, attn_out])\n",
    "\n",
    "# 디코더의 출력층\n",
    "decoder_softmax_layer = Dense(tar_vocab, activation='softmax')\n",
    "decoder_softmax_outputs = decoder_softmax_layer(decoder_concat_input)\n",
    "\n",
    "# 모델 정의\n",
    "model = Model([encoder_inputs, decoder_inputs], decoder_softmax_outputs)\n",
    "model.summary()"
   ]
  },
  {
   "cell_type": "markdown",
   "id": "requested-starter",
   "metadata": {},
   "source": [
    "### Trainig \n",
    "#### with (EarlyStopping, rmsprop)"
   ]
  },
  {
   "cell_type": "code",
   "execution_count": 78,
   "id": "victorian-elder",
   "metadata": {},
   "outputs": [
    {
     "name": "stdout",
     "output_type": "stream",
     "text": [
      "Epoch 1/50\n",
      "237/237 [==============================] - 321s 1s/step - loss: 3.0075 - val_loss: 3.0056\n",
      "Epoch 2/50\n",
      "237/237 [==============================] - 308s 1s/step - loss: 2.8747 - val_loss: 2.9410\n",
      "Epoch 3/50\n",
      "237/237 [==============================] - 309s 1s/step - loss: 2.7830 - val_loss: 2.8823\n",
      "Epoch 4/50\n",
      "237/237 [==============================] - 310s 1s/step - loss: 2.7005 - val_loss: 2.8312\n",
      "Epoch 5/50\n",
      "237/237 [==============================] - 309s 1s/step - loss: 2.6240 - val_loss: 2.7978\n",
      "Epoch 6/50\n",
      "237/237 [==============================] - 305s 1s/step - loss: 2.5610 - val_loss: 2.7773\n",
      "Epoch 7/50\n",
      "237/237 [==============================] - 305s 1s/step - loss: 2.5057 - val_loss: 2.7481\n",
      "Epoch 8/50\n",
      "237/237 [==============================] - 301s 1s/step - loss: 2.4477 - val_loss: 2.7268\n",
      "Epoch 9/50\n",
      "237/237 [==============================] - 301s 1s/step - loss: 2.4098 - val_loss: 2.7075\n",
      "Epoch 10/50\n",
      "237/237 [==============================] - 301s 1s/step - loss: 2.3629 - val_loss: 2.7014\n",
      "Epoch 11/50\n",
      "237/237 [==============================] - 303s 1s/step - loss: 2.3101 - val_loss: 2.6921\n",
      "Epoch 12/50\n",
      "237/237 [==============================] - 301s 1s/step - loss: 2.2864 - val_loss: 2.6819\n",
      "Epoch 13/50\n",
      "237/237 [==============================] - 301s 1s/step - loss: 2.2414 - val_loss: 2.6864\n",
      "Epoch 14/50\n",
      "237/237 [==============================] - 301s 1s/step - loss: 2.2108 - val_loss: 2.6717\n",
      "Epoch 15/50\n",
      "237/237 [==============================] - 302s 1s/step - loss: 2.1773 - val_loss: 2.6757\n",
      "Epoch 16/50\n",
      "237/237 [==============================] - 302s 1s/step - loss: 2.1412 - val_loss: 2.6667\n",
      "Epoch 17/50\n",
      "237/237 [==============================] - 302s 1s/step - loss: 2.1179 - val_loss: 2.6709\n",
      "Epoch 18/50\n",
      "237/237 [==============================] - 302s 1s/step - loss: 2.0881 - val_loss: 2.6614\n",
      "Epoch 19/50\n",
      "237/237 [==============================] - 301s 1s/step - loss: 2.0584 - val_loss: 2.6642\n",
      "Epoch 20/50\n",
      "237/237 [==============================] - 301s 1s/step - loss: 2.0393 - val_loss: 2.6656\n",
      "Epoch 00020: early stopping\n"
     ]
    }
   ],
   "source": [
    "model.compile(optimizer='rmsprop', loss='sparse_categorical_crossentropy')\n",
    "es = EarlyStopping(monitor='val_loss', patience=2, verbose=1)\n",
    "history = model.fit(x=[encoder_input_train, decoder_input_train], y=decoder_target_train, \\\n",
    "          validation_data=([encoder_input_test, decoder_input_test], decoder_target_test), \\\n",
    "          batch_size=256, callbacks=[es], epochs=50)"
   ]
  },
  {
   "cell_type": "markdown",
   "id": "interesting-hygiene",
   "metadata": {},
   "source": [
    "early stopping없었으면 시간 너무 많이 썼을수도.\n"
   ]
  },
  {
   "cell_type": "code",
   "execution_count": 79,
   "id": "mental-river",
   "metadata": {},
   "outputs": [
    {
     "data": {
      "image/png": "[encoded data removed]",
      "text/plain": [
       "<Figure size 432x288 with 1 Axes>"
      ]
     },
     "metadata": {
      "needs_background": "light"
     },
     "output_type": "display_data"
    }
   ],
   "source": [
    "# 시각화 해보기\n",
    "plt.plot(history.history['loss'], label='train')\n",
    "plt.plot(history.history['val_loss'], label='test')\n",
    "plt.legend()\n",
    "plt.show()"
   ]
  },
  {
   "cell_type": "code",
   "execution_count": 80,
   "id": "compressed-strand",
   "metadata": {},
   "outputs": [],
   "source": [
    "src_index_to_word = src_tokenizer.index_word # 원문 단어 집합에서 정수 -> 단어를 얻음\n",
    "tar_word_to_index = tar_tokenizer.word_index # 요약 단어 집합에서 단어 -> 정수를 얻음\n",
    "tar_index_to_word = tar_tokenizer.index_word # 요약 단어 집합에서 정수 -> 단어를 얻음"
   ]
  },
  {
   "cell_type": "code",
   "execution_count": 81,
   "id": "elegant-speech",
   "metadata": {},
   "outputs": [],
   "source": [
    "# 인코더 설계\n",
    "encoder_model = Model(inputs=encoder_inputs, outputs=[encoder_outputs, state_h, state_c])\n",
    "\n",
    "# 이전 시점의 상태들을 저장하는 텐서\n",
    "decoder_state_input_h = Input(shape=(hidden_size,))\n",
    "decoder_state_input_c = Input(shape=(hidden_size,))\n",
    "\n",
    "dec_emb2 = dec_emb_layer(decoder_inputs)\n",
    "\n",
    "# 문장의 다음 단어를 예측하기 위해서 초기 상태(initial_state)를 이전 시점의 상태로 사용. 이는 뒤의 함수 decode_sequence()에 구현\n",
    "# 훈련 과정에서와 달리 LSTM의 리턴하는 은닉 상태와 셀 상태인 state_h와 state_c를 버리지 않음.\n",
    "decoder_outputs2, state_h2, state_c2 = decoder_lstm(dec_emb2, initial_state=[decoder_state_input_h, decoder_state_input_c])"
   ]
  },
  {
   "cell_type": "code",
   "execution_count": 82,
   "id": "fixed-quarterly",
   "metadata": {},
   "outputs": [],
   "source": [
    "# 어텐션 함수\n",
    "decoder_hidden_state_input = Input(shape=(text_max_len, hidden_size))\n",
    "attn_out_inf, attn_states_inf = attn_layer([decoder_hidden_state_input, decoder_outputs2])\n",
    "decoder_inf_concat = Concatenate(axis=-1, name='concat')([decoder_outputs2, attn_out_inf])\n",
    "\n",
    "# 디코더의 출력층\n",
    "decoder_outputs2 = decoder_softmax_layer(decoder_inf_concat) \n",
    "\n",
    "# 최종 디코더 모델\n",
    "decoder_model = Model(\n",
    "    [decoder_inputs] + [decoder_hidden_state_input,decoder_state_input_h, decoder_state_input_c],\n",
    "    [decoder_outputs2] + [state_h2, state_c2])"
   ]
  },
  {
   "cell_type": "code",
   "execution_count": 86,
   "id": "fixed-folks",
   "metadata": {},
   "outputs": [],
   "source": [
    "# decode sequence 메소드 정의\n",
    "\n",
    "def decode_sequence(input_seq):\n",
    "    # 입력으로부터 인코더의 상태를 얻음\n",
    "    e_out, e_h, e_c = encoder_model.predict(input_seq)\n",
    "\n",
    "     # <SOS>에 해당하는 토큰 생성\n",
    "    target_seq = np.zeros((1,1))\n",
    "    target_seq[0, 0] = tar_word_to_index['sostoken']\n",
    "\n",
    "    stop_condition = False\n",
    "    decoded_sentence = ''\n",
    "    while not stop_condition: # stop_condition이 True가 될 때까지 루프 반복\n",
    "\n",
    "        output_tokens, h, c = decoder_model.predict([target_seq] + [e_out, e_h, e_c])\n",
    "        sampled_token_index = np.argmax(output_tokens[0, -1, :])\n",
    "        sampled_token = tar_index_to_word[sampled_token_index]\n",
    "\n",
    "        if (sampled_token!='eostoken'):\n",
    "            decoded_sentence += ' '+sampled_token\n",
    "\n",
    "        #  <eos>에 도달하거나 최대 길이를 넘으면 중단.\n",
    "        if (sampled_token == 'eostoken'  or len(decoded_sentence.split()) >= (headline_max_len-1)):\n",
    "            stop_condition = True\n",
    "\n",
    "        # 길이가 1인 타겟 시퀀스를 업데이트\n",
    "        target_seq = np.zeros((1,1))\n",
    "        target_seq[0, 0] = sampled_token_index\n",
    "\n",
    "        # 상태를 업데이트 합니다.\n",
    "        e_h, e_c = h, c\n",
    "\n",
    "    return decoded_sentence"
   ]
  },
  {
   "cell_type": "markdown",
   "id": "first-compiler",
   "metadata": {},
   "source": [
    "학습과 인코더, 디코서 세팅이 끝났다."
   ]
  },
  {
   "cell_type": "markdown",
   "id": "radio-georgia",
   "metadata": {},
   "source": [
    "### 모델 테스트"
   ]
  },
  {
   "cell_type": "code",
   "execution_count": 88,
   "id": "deluxe-europe",
   "metadata": {},
   "outputs": [],
   "source": [
    "# 원문의 정수 시퀀스를 텍스트 시퀀스로 변환\n",
    "def seq2text(input_seq):\n",
    "    temp=''\n",
    "    for i in input_seq:\n",
    "        if (i!=0):\n",
    "            temp = temp + src_index_to_word[i]+' '\n",
    "    return temp\n",
    "\n",
    "# 요약문의 정수 시퀀스를 텍스트 시퀀스로 변환\n",
    "def seq2summary(input_seq):\n",
    "    temp=''\n",
    "    for i in input_seq:\n",
    "        if ((i!=0 and i!=tar_word_to_index['sostoken']) and i!=tar_word_to_index['eostoken']):\n",
    "            temp = temp + tar_index_to_word[i] + ' '\n",
    "    return temp"
   ]
  },
  {
   "cell_type": "code",
   "execution_count": 89,
   "id": "alert-pittsburgh",
   "metadata": {},
   "outputs": [
    {
     "name": "stdout",
     "output_type": "stream",
     "text": [
      "원문 : ceo step position effective april japanese technology company announced friday consider time pass leadership new management future said company current cfo take role ceo \n",
      "실제 요약 : ceo to down \n",
      "예측 요약 :  ceo to replace as ceo\n",
      "\n",
      "\n",
      "원문 : addressing press conference congress performance assembly elections party president rahul gandhi said narendra modi taught lesson telling mother absolute best thing election learnt lot election learnt important thing added \n",
      "실제 요약 : pm narendra modi me what not to do rahul gandhi \n",
      "예측 요약 :  pm modi is the best pm modi\n",
      "\n",
      "\n",
      "원문 : flipkart acquiring ebay india deal part billion according reports comes recent reports claimed flipkart closed billion funding microsoft tencent ebay plans raise billion interestingly ebay small investor flipkart rival snapdeal \n",
      "실제 요약 : flipkart to india operations reports \n",
      "예측 요약 :  flipkart to billion in india report\n",
      "\n",
      "\n",
      "원문 : anna hazare indefinite hunger strike delhi reportedly lost kg sunday three days three people hazare protesting farmers rights electoral reforms centre every state \n",
      "실제 요약 : loses kg after three days of strike \n",
      "예측 요약 :  fire in tn to get relief\n",
      "\n",
      "\n",
      "원문 : taapsee pannu said female body everywhere added need name songs bollywood taapsee recently remark hitting girl directed telugu filmmaker rao \n",
      "실제 요약 : there is with female body taapsee \n",
      "예측 요약 :  am not to be in taapsee\n",
      "\n",
      "\n",
      "원문 : month cap funding education martyrs children government cleared way fully fund education children armed forces personnel missing killed disabled duty finance ministry issued notification thursday saying would applicable government schools colleges schools recognised government \n",
      "실제 요약 : govt to fund education of children \n",
      "예측 요약 :  raises million in day to\n",
      "\n",
      "\n",
      "원문 : karnataka government set nine member committee design separate flag state unique identity symbol congress led state also asked panel submit report legally state flag jammu kashmir state flag \n",
      "실제 요약 : karnataka appoints panel to state flag \n",
      "예측 요약 :  karnataka to host of religious status\n",
      "\n",
      "\n",
      "원문 : venezuelan president maduro announced billion country new oil backed cryptocurrency coming days fight ongoing economic crisis every unit cryptocurrency equal value venezuela one oil venezuela world largest oil reserves around export revenue oil nn \n",
      "실제 요약 : venezuela to issue cr in oil cryptocurrency \n",
      "예측 요약 :  venezuela prez to bn oil oil\n",
      "\n",
      "\n",
      "원문 : former india captain ms dhoni got angry non striker manish pandey first ball last india innings second south africa wednesday dhoni asked pandey focus towards batting instead looking year old went smash subsequent ball six \n",
      "실제 요약 : video dhoni gets at for not paying \n",
      "예측 요약 :  dhoni takes at his own wicket\n",
      "\n",
      "\n",
      "원문 : actress kareena kapoor said definitely writing book kareena said throughout pregnancy shot brands would sign despite size three months delivery shot brand problem added blessed journey far \n",
      "실제 요약 : am book on kareena kapoor \n",
      "예측 요약 :  kareena slams kareena for her death\n",
      "\n",
      "\n",
      "원문 : abhishek bachchan said think anurag kashyap liked work film yuva kashyap written film directed mani spent lot time somewhere maybe felt little disappointed watched movie never spoke added abhishek \n",
      "실제 요약 : don think my work in abhishek \n",
      "예측 요약 :  was not to return abhishek\n",
      "\n",
      "\n",
      "원문 : commentator ravi shastri forgot announce man match award conducting post match mumbai indians ipl match sunrisers hyderabad wednesday shastri mumbai captain rohit sharma ending proceedings realised announced jasprit bumrah award apologised asking ambani present award \n",
      "실제 요약 : shastri man of the match award in \n",
      "예측 요약 :  year old man to play ipl match for ipl match\n",
      "\n",
      "\n",
      "원문 : sacred games actress talking metoo movement said glad finally opening however would like see action mere talking added women brave come happening generations need ensure something done avoid happening said \n",
      "실제 요약 : would now like to see action games actress on metoo \n",
      "예측 요약 :  metoo movement is the word of the world\n",
      "\n",
      "\n",
      "원문 : priyanka chopra mother madhu chopra talking priyanka getting trolled said one bring things give importance troll two minutes fame added madhu said public person every fan right \n",
      "실제 요약 : no one can bring priyanka down with trolls chopra \n",
      "예측 요약 :  nick is very priyanka on priyanka nick\n",
      "\n",
      "\n",
      "원문 : late actor filmmaker raj kapoor wife krishna raj kapoor passed away monday age reportedly complaining past couple years survived five children including actors rishi rajiv kapoor grandmother ranbir kareena karisma kapoor \n",
      "실제 요약 : raj kapoor wife raj kapoor passes away at \n",
      "예측 요약 :  sonam kapoor wife passes away aged\n",
      "\n",
      "\n",
      "원문 : insurance giant swiss preparing insurance policy mexico prevent reports said scheme reportedly first natural structure paid hotels government money pay repair released storm strikes \n",
      "실제 요약 : in mexico to get its own policy \n",
      "예측 요약 :  to use to customers\n",
      "\n",
      "\n",
      "원문 : finance minister arun jaitley said rbi panel formed address issue reserves finalised urjit patel still governor panel announced december two weeks das took charge new governor six member panel headed former rbi governor \n",
      "실제 요약 : rbi panel when patel was still guv jaitley \n",
      "예측 요약 :  rbi to issue new network in years fm\n",
      "\n",
      "\n",
      "원문 : statue subhash chandra bose found vandalised ceremony independence day west bengal district villagers lodged police complaint unknown miscreants police said started investigation find motive behind crime \n",
      "실제 요약 : statue on independence day \n",
      "예측 요약 :  statue of statue in rajasthan\n",
      "\n",
      "\n",
      "원문 : rbi reportedly asked paytm payments bank stop adding new customers platform immediate effect following audit rbi observed paytm better mechanism store customers data also asked paytm separate office payments bank different paytm parent company one communications office \n",
      "실제 요약 : rbi asks paytm payments bank to stop new customers report \n",
      "예측 요약 :  paytm payments bank payments bank payments bank\n",
      "\n",
      "\n",
      "원문 : hyderabad police wednesday busted oil racket one person arrested illegally oil animal waste bones selling fast food police said man selling oil owners chemical shops prepare may spread diseases \n",
      "실제 요약 : man arrested for selling oil from waste \n",
      "예측 요약 :  hyd police arrests crore in\n",
      "\n",
      "\n",
      "원문 : answering twitter user asked akshay kumar first time bought gold life akshay replied never bought gold earned medals akshay hosted session twitter friday answering questions part promotions upcoming film gold release august \n",
      "실제 요약 : never bought gold my akshay kumar \n",
      "예측 요약 :  no gold for gold akshay\n",
      "\n",
      "\n",
      "원문 : according audio apple upcoming products apple factory workers china parts toilet collect later workers sell parts professional make money apple director global security said workers earn selling parts would otherwise make whole year \n",
      "실제 요약 : apple factory workers down toilet to leak them \n",
      "예측 요약 :  apple to build restaurant in china store in us\n",
      "\n",
      "\n",
      "원문 : man us california accidentally set apartment fire trying burn spider according reports resident apartment said fire spread huge spider ran towards nearby although fire caused damage worth injuries reported \n",
      "실제 요약 : man sets his on fire while trying to \n",
      "예측 요약 :  man tries to fire in us\n",
      "\n",
      "\n",
      "원문 : world fourth richest person warren buffett said buying bitcoin investment buy something like bitcoin cryptocurrency really anything produced anything hoping next guy billionaire added buffett earlier said cryptocurrencies come bad ending \n",
      "실제 요약 : bitcoin not investment billionaire \n",
      "예측 요약 :  bitcoin is world largest billionaire\n",
      "\n",
      "\n",
      "원문 : hollywood actress revealed rape accused producer harvey weinstein forced sex scene film calling weinstein added clear would never let finish movie without fantasy one way another \n",
      "실제 요약 : forced me into sex scene says \n",
      "예측 요약 :  was not actress on rape allegations\n",
      "\n",
      "\n",
      "원문 : party mouthpiece saamana shiv sena chief uddhav thackeray tuesday wrote political accident happen adding people asking whether pre emergency days thackeray said dust storm happening delhi entire country pm know constantly travelling abroad \n",
      "실제 요약 : political accident of will not in shiv sena \n",
      "예측 요약 :  bjp trying to stop emergency from maha sena\n",
      "\n",
      "\n",
      "원문 : following sreesanth comments play country bcci ban board said empty talk player banned full member neither play full member association bcci acting secretary amitabh choudhary said \n",
      "실제 요약 : cannot play for any other country bcci \n",
      "예측 요약 :  ban on bcci request\n",
      "\n",
      "\n",
      "원문 : kerala high court granted police protection year old hindu girl family complained threats husband religious delhi parents wishes later returned home learning allegedly planned take syria yemen \n",
      "실제 요약 : hc gives protection to girl after threat from \n",
      "예측 요약 :  kerala hc orders to kerala\n",
      "\n",
      "\n",
      "원문 : china launched world first fully electric cargo ship travel kilometre tonne cargo two hour charge tonne vessel manufactured international company powered tonne battery metre long ship cruise top speed kmph \n",
      "실제 요약 : china launches world first electric ship \n",
      "예측 요약 :  china launches world first ever\n",
      "\n",
      "\n",
      "원문 : cricketer yuvraj singh shared picture indian teammate ashish nehra wednesday picture shows young yuvraj nehra posing another friend could identified serious mr nehra jacket love yuvraj captioned picture got likes \n",
      "실제 요약 : yuvraj singh shares picture with \n",
      "예측 요약 :  yuvraj singh shares picture with\n",
      "\n",
      "\n",
      "원문 : iran deputy foreign minister abbas said nuclear deal would collapse fall apart without us everyone says iran comply deal us comply part totally unacceptable added said us repeatedly violated conditions deal \n",
      "실제 요약 : deal would collapse without us iran foreign min \n",
      "예측 요약 :  iran nuclear deal to us iran minister\n",
      "\n",
      "\n",
      "원문 : mumbai based woman husband arrested maharashtra district allegedly posing anti terrorism squad officers duping people around lakh two produced court tuesday four day judicial custody police searching two accused absconding \n",
      "실제 요약 : maha couple as officers people of lakh \n",
      "예측 요약 :  woman held for woman in assam\n",
      "\n",
      "\n",
      "원문 : awardee honoured degree national institute technology saturday year old tripura became first indian woman qualify olympics missing bronze medal women event rio olympics \n",
      "실제 요약 : receives from \n",
      "예측 요약 :  who is the year old\n",
      "\n",
      "\n",
      "원문 : microsoft recently launched virtual assistant promises develop enhance content delivery across multiple devices talking technology world ai show microsoft said power ai human develop overall national capabilities economy \n",
      "실제 요약 : microsoft launches \n",
      "예측 요약 :  microsoft to let users to\n",
      "\n",
      "\n",
      "원문 : actress sridevi said would elder daughter kapoor gets married rather act films sridevi added initially favour working films happiness matters well actress proud mother said sridevi \n",
      "실제 요약 : would be to see get married than act sridevi \n",
      "예측 요약 :  would be married mom mom sridevi\n",
      "\n",
      "\n",
      "원문 : election commission write government seeking laws candidates contesting lok sabha assembly polls five years charge voters according reports earlier month commission put rk nagar assembly poll found money used influence voters \n",
      "실제 요약 : ec seeks year ban on candidates charged for \n",
      "예측 요약 :  ec seeks to contest polls in polls\n",
      "\n",
      "\n",
      "원문 : india south africa signed three year strategic programme cooperation aimed strategic partnership two countries two nations agreed enhance ties economic defence sector among others came south african president visited india chief guest republic day celebrations \n",
      "실제 요약 : india africa sign yr to ties \n",
      "예측 요약 :  india to visit india in un\n",
      "\n",
      "\n",
      "원문 : calling west bengal cm mamata banerjee good administrator karnataka cm hd kumaraswamy said capabilities required lead country great job organising united india rally even requested left join added shows fighting bjp said \n",
      "실제 요약 : mamata has all to lead country karnataka cm \n",
      "예측 요약 :  cm mamata calls nitish west bengal cm\n",
      "\n",
      "\n",
      "원문 : many persons detained hyderabad allegedly making false promises old demonetised notes official said demonetised currency notes crore seized accused along cops also seized two cars mobile phones \n",
      "실제 요약 : hyderabad held for to exchange old notes \n",
      "예측 요약 :  fake notes in notes arrested\n",
      "\n",
      "\n",
      "원문 : web platform announced raised million additional funding spectrum equity deal gives growth equity firm majority stake founded us based startup also provides analytics identity activity links \n",
      "실제 요약 : web raises crore funding \n",
      "예측 요약 :  co founder raises crore\n",
      "\n",
      "\n",
      "원문 : tripura chief minister kumar deb wednesday mistakenly said indian rejected nobel prize protest british government however british protest bagh awarded nobel prize literature remained death \n",
      "실제 요약 : tripura cm mistakenly says gave up nobel prize \n",
      "예측 요약 :  tripura cm wins award\n",
      "\n",
      "\n",
      "원문 : least people killed friday carrying passengers fell river maharashtra police said accident took place bus driver lost control speeding vehicle rescued people rushed hospital search operation still underway police added \n",
      "실제 요약 : killed as falls into river in maharashtra \n",
      "예측 요약 :  killed as bus falls into in maharashtra\n",
      "\n",
      "\n",
      "원문 : month old baby admitted hospital allegedly raped year old cousin delhi sunday police said accused pretext playing baby took room assaulted child undergone several surgeries said critical condition \n",
      "실제 요약 : month old after being raped by year old \n",
      "예측 요약 :  baby raped by men in delhi\n",
      "\n",
      "\n",
      "원문 : canada conservative party slammed prime minister justin trudeau taking many days often tweet tweet later deleted contained link website named reports trudeau trips trudeau also faced backlash paying chef vikram nearly lakh meal india visit \n",
      "실제 요약 : slams canadian pm for taking too many \n",
      "예측 요약 :  canada pm uses to remove\n",
      "\n",
      "\n",
      "원문 : man delhi allegedly stabbed death three neighbours argument broke parking bike tuesday one accused asked victim park bike another location led scuffle resolved police intervention later stabbed another argument \n",
      "실제 요약 : man stabbed to death after fight over parking in delhi \n",
      "예측 요약 :  man kills man after being caught on road\n",
      "\n",
      "\n",
      "원문 : calcutta high court judge justice karnan ordered five year jail sentence supreme court judges including chief justice india singh karnan earlier accused seven judge bench dalit said judges guilty scheduled castes scheduled tribes act \n",
      "실제 요약 : chief justice of india to yrs in jail \n",
      "예측 요약 :  hc judge to judge as judge judge\n",
      "\n",
      "\n",
      "원문 : rahul dravid revealed went score second innings kolkata test australian captain steve batting position said rahul innings next revealed dravid number six due poor form \n",
      "실제 요약 : dravid reveals he after him \n",
      "예측 요약 :  rahul dravid was once dropped dravid\n",
      "\n",
      "\n",
      "원문 : australian vice captain david warner said incident joe root helped transform cricketer man today learning said warner altercation two happened birmingham bar england defeated australia champions trophy following warner suspended fined \n",
      "실제 요약 : off and on pitch warner \n",
      "예측 요약 :  warner gets for team\n",
      "\n",
      "\n",
      "원문 : singer ed sheeran forgot lyrics new song know latest album live performance mistake continued singing ed sheeran mistake literally thing reacted twitter user others said seemed performance \n",
      "실제 요약 : ed during live performance \n",
      "예측 요약 :  twitter reacts to song song\n",
      "\n",
      "\n",
      "원문 : supreme court pakistan thursday ordered creation joint investigation team investigate charges prime minister nawaz sharif family members panama papers case panama papers revealed sharif daughter two sons owned offshore holding companies used buy properties london \n",
      "실제 요약 : papers pak sc orders probe against pm sharif \n",
      "예측 요약 :  sc bars pak over of\n",
      "\n",
      "\n"
     ]
    }
   ],
   "source": [
    "# 테스트 데이터의 약50개의 샘플에 대해서 실제 요약과 예측된 요약을 비교\n",
    "\n",
    "for i in range(50, 100):\n",
    "    print(\"원문 :\", seq2text(encoder_input_test[i]))\n",
    "    print(\"실제 요약 :\", seq2summary(decoder_input_test[i]))\n",
    "    print(\"예측 요약 :\", decode_sequence(encoder_input_test[i].reshape(1, text_max_len)))\n",
    "    print(\"\\n\")"
   ]
  },
  {
   "cell_type": "markdown",
   "id": "sized-aluminum",
   "metadata": {},
   "source": [
    "#### Result: 기존 요약과 다른 요약을 출력하면서 원문에서 유의미한 내용은 담고 있다.\n",
    "#### 개선의 기회: seq2seq, 어텐션의 자체의 조합을 좀 더 좋게 수정할 수 있다.  \n",
    "#### beam search, pre-trained word embedding, transformer와 같은 개선 방안들이 있다."
   ]
  },
  {
   "cell_type": "markdown",
   "id": "breeding-calculation",
   "metadata": {},
   "source": [
    "## Summaize 사용하기\n",
    "\n",
    "summarize api  \n",
    "\n",
    "* text(str):요약할 텍스트\n",
    "* ratio(float, optional)- 요약문과 원본에서 선택되는 문장 비율. 0~1 사이의 값\n",
    "* words(int or None, optional)- 출력에 포함할 단어 수(만약, ratio와 함께 두 파라미터가 모두 제공되는 경우 ratio는 무시한다.)\n",
    "* split(bool, optional)- True면 문장 list/False면 join된 문자열 반환\n"
   ]
  },
  {
   "cell_type": "code",
   "execution_count": 90,
   "id": "chicken-basics",
   "metadata": {},
   "outputs": [
    {
     "name": "stdout",
     "output_type": "stream",
     "text": [
      "The screen is filled with green, cascading code which gives way to the title, The Matrix.\r\n",
      "\r\n",
      "A phone rings and text appears on the screen: \"Call trans opt: received. 2-19-98 13:24:18 REC: Log>\" As a conversation takes place between Trinity (Carrie-Anne Moss) and Cypher (Joe Pantoliano), two free humans, a table of random green numbers are being scanned and individual numbers selected, creating a series of digits not unlike an ordinary phone number, as if a code is being deciphered or a call is being traced.\r\n",
      "\r\n",
      "Trinity discusses some unknown person. Cypher taunts Trinity, suggesting she enjoys watching him. Trinity counters that \"Morpheus (Laurence Fishburne) says he may be 'the One',\" just as the sound of a number being selected alerts Trinity that someone may be tracing their call. She ends the call.\r\n",
      "\r\n",
      "Armed policemen move down a darkened, decrepit hallway in the Heart O' the City Hotel, their flashlight beam bouncing just ahead of them. They come to room 303, kick down the door and find a woman dressed in black, facing away from them. It's Trinity. She brings her hands up from the laptop she's working on at their command.\r\n",
      "\r\n",
      "Outside the hotel a car drives up and three agents appear in neatly pressed black suits. They are Agent Smith (Hugo Weaving), Agent Brown (Paul Goddard), and Agent Jones (Robert Taylor). Agent Smith and the presiding police lieutenant argue. Agent Smith admonishes the policeman that they were given specific orders to contact the agents first, for their\n"
     ]
    }
   ],
   "source": [
    "import requests\n",
    "from summa.summarizer import summarize\n",
    "\n",
    "# 매트릭스 시놉시스 다운로드\n",
    "# text = requests.get('http://rare-technologies.com/the_matrix_synopsis.txt').text\n",
    "\n",
    "print(text[:1500])"
   ]
  },
  {
   "cell_type": "code",
   "execution_count": 91,
   "id": "enabling-guidance",
   "metadata": {},
   "outputs": [
    {
     "name": "stdout",
     "output_type": "stream",
     "text": [
      "Summary:\n",
      "Morpheus, Trinity, Neo, Apoc, Switch, Mouse and Cypher are jacked into the Matrix.\n",
      "Trinity brings the helicopter down to the floor that Morpheus is on and Neo opens fire on the three Agents.\n"
     ]
    }
   ],
   "source": [
    "#원문의 0.005%만 출력\n",
    "\n",
    "print('Summary:')\n",
    "print(summarize(, ratio=0.005))"
   ]
  },
  {
   "cell_type": "code",
   "execution_count": 92,
   "id": "governmental-adoption",
   "metadata": {},
   "outputs": [
    {
     "name": "stdout",
     "output_type": "stream",
     "text": [
      "Summary:\n",
      "['Morpheus, Trinity, Neo, Apoc, Switch, Mouse and Cypher are jacked into the Matrix.', 'Trinity brings the helicopter down to the floor that Morpheus is on and Neo opens fire on the three Agents.']\n"
     ]
    }
   ],
   "source": [
    "# 리스트로 출력 값 받기 \n",
    "\n",
    "print('Summary:')\n",
    "print(summarize(text, ratio=0.005, split=True))"
   ]
  },
  {
   "cell_type": "code",
   "execution_count": 95,
   "id": "parallel-justice",
   "metadata": {},
   "outputs": [
    {
     "name": "stdout",
     "output_type": "stream",
     "text": [
      "Summary:\n",
      "Trinity takes Neo to Morpheus.\n",
      "Morpheus, Trinity, Neo, Apoc, Switch, Mouse and Cypher are jacked into the Matrix.\n",
      "Morpheus, who is above Neo in the walls, breaks through the wall and lands on the agent, yelling to Trinity to get Neo out of the building.\n",
      "Neo says he only knows that he can bring Morpheus out.\n",
      "Trinity brings the helicopter down to the floor that Morpheus is on and Neo opens fire on the three Agents.\n",
      "Trinity reminds Morpheus that they can't use the EMP while Neo is in the Matrix.\n"
     ]
    }
   ],
   "source": [
    "# 단어를 100개만 선택해보기\n",
    "\n",
    "print('Summary:')\n",
    "print(summarize(text, words=100))"
   ]
  },
  {
   "cell_type": "markdown",
   "id": "mobile-quick",
   "metadata": {},
   "source": [
    "## 회고\n",
    "데이터 전처리 과정에서 짧은 요약 데이터에 대해서 불용어를 제거 하지 않았다.. 그이유는..\n",
    "전처리 과정이 꽤나 길었다.\n",
    "기존 요약과 다른 요약을 출력하면서 원문에서 유의미한 내용은 담고 있다.\n",
    "seq2seq, 어텐션의 자체의 조합을 좀 더 좋게 수정할 수 있다.\n",
    "그리고 beam search, pre-trained word embedding, transformer와 같은 개선 방안들이 있다.\n",
    "   \n"
   ]
  }
 ],
 "metadata": {
  "kernelspec": {
   "display_name": "Python 3",
   "language": "python",
   "name": "python3"
  },
  "language_info": {
   "codemirror_mode": {
    "name": "ipython",
    "version": 3
   },
   "file_extension": ".py",
   "mimetype": "text/x-python",
   "name": "python",
   "nbconvert_exporter": "python",
   "pygments_lexer": "ipython3",
   "version": "3.7.9"
  }
 },
 "nbformat": 4,
 "nbformat_minor": 5
}
