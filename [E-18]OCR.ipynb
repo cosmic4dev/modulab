{
 "cells": [
  {
   "cell_type": "markdown",
   "id": "useful-joshua",
   "metadata": {},
   "source": [
    "# 프로젝트: 다양한 OCR모델 비교하기"
   ]
  },
  {
   "cell_type": "markdown",
   "id": "still-republican",
   "metadata": {},
   "source": [
    "## Step1: 검증용 데이터셋 준비"
   ]
  },
  {
   "cell_type": "code",
   "execution_count": null,
   "id": "instructional-unknown",
   "metadata": {},
   "outputs": [],
   "source": []
  }
 ],
 "metadata": {
  "kernelspec": {
   "display_name": "Python 3",
   "language": "python",
   "name": "python3"
  },
  "language_info": {
   "codemirror_mode": {
    "name": "ipython",
    "version": 3
   },
   "file_extension": ".py",
   "mimetype": "text/x-python",
   "name": "python",
   "nbconvert_exporter": "python",
   "pygments_lexer": "ipython3",
   "version": "3.7.9"
  }
 },
 "nbformat": 4,
 "nbformat_minor": 5
}
