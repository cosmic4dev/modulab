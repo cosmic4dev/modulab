{
 "cells": [
  {
   "cell_type": "markdown",
   "id": "emotional-leonard",
   "metadata": {},
   "source": [
    "#  프로젝트: CAM을 만들고 평가해 보자"
   ]
  },
  {
   "cell_type": "markdown",
   "id": "expanded-assets",
   "metadata": {},
   "source": [
    "## CAM구현하기"
   ]
  },
  {
   "cell_type": "markdown",
   "id": "compound-saying",
   "metadata": {},
   "source": [
    "1) CAM함수 정의"
   ]
  },
  {
   "cell_type": "code",
   "execution_count": 1,
   "id": "cardiovascular-glenn",
   "metadata": {},
   "outputs": [],
   "source": [
    "def generate_cam(model,item):\n",
    "    cam_image = None"
   ]
  },
  {
   "cell_type": "markdown",
   "id": "double-bookmark",
   "metadata": {},
   "source": [
    "2) 위 함수를 통해 CAM이미지 생성하기"
   ]
  },
  {
   "cell_type": "code",
   "execution_count": null,
   "id": "flexible-highland",
   "metadata": {},
   "outputs": [],
   "source": [
    "cam_image = generate_cam(cam_model, item)\n",
    "plt.imshow(cam_image)"
   ]
  }
 ],
 "metadata": {
  "kernelspec": {
   "display_name": "Python 3",
   "language": "python",
   "name": "python3"
  },
  "language_info": {
   "codemirror_mode": {
    "name": "ipython",
    "version": 3
   },
   "file_extension": ".py",
   "mimetype": "text/x-python",
   "name": "python",
   "nbconvert_exporter": "python",
   "pygments_lexer": "ipython3",
   "version": "3.7.9"
  }
 },
 "nbformat": 4,
 "nbformat_minor": 5
}
