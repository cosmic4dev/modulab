{
 "cells": [
  {
   "cell_type": "markdown",
   "id": "promotional-money",
   "metadata": {},
   "source": [
    "# 프로젝트 : SRGAN 활용하기\n"
   ]
  },
  {
   "cell_type": "markdown",
   "id": "alleged-china",
   "metadata": {},
   "source": [
    "## 프로젝트 1 : 직접 고른 이미지로 SRGAN 실험하기"
   ]
  },
  {
   "cell_type": "markdown",
   "id": "amber-amplifier",
   "metadata": {},
   "source": [
    "### 프로젝트 1-1.\n",
    "1. (적당히) 높은 해상도를 가진 이미지를 검색해서 한 장 고른 후 저장하고 불러옵니다.\n",
    "2. 불러온 이미지에 bicubic interpolation을 적용해 가로 및 세로 픽셀 수를 1/4로 줄입니다. cv2.resize()를 사용해 봅시다.  \n",
    "3. 줄인 저해상도 이미지를 입력으로 SRGAN을 이용해 고해상도 이미지를 생성합니다. 이전에 사용한 apply_srgan 함수를 사용하면 쉽습니다.  \n",
    "4. 2.의 이미지에 bicubic interpolation을 적용해 가로 및 세로 픽셀 수를 다시 4배로 늘립니다. 마찬가지로 cv2.resize()를 사용해 봅시다.  \n",
    "5. 3개 이미지(4.의 Bicubic의 결과, 3.의 SRGAN의 결과, 1.의 원래 고해상도 이미지)를 나란히 시각화합니다. 각 이미지의 제목에 어떤 방법에 대한 결과인지 표시해 주세요. 이전 시각화에 사용했던 코드를 참고하면 어렵지 않습니다.  \n",
    "6. 선택한 이미지를 DIV2K 데이터셋에서 학습된 모델로 Super Resolution했을 때 어떠한 결과가 나왔으며, 왜 이러한 결과가 출력되었는지 설명해 봅시다. (정답은 없습니다)\n"
   ]
  },
  {
   "cell_type": "markdown",
   "id": "guilty-theater",
   "metadata": {},
   "source": [
    "1. (적당히) 높은 해상도를 가진 이미지를 검색해서 한 장 고른 후 저장하고 불러옵니다."
   ]
  },
  {
   "cell_type": "code",
   "execution_count": 1,
   "id": "protective-citizen",
   "metadata": {},
   "outputs": [
    {
     "name": "stdout",
     "output_type": "stream",
     "text": [
      "(585, 780, 3)\n"
     ]
    }
   ],
   "source": [
    "import cv2\n",
    "import os\n",
    "import matplotlib.pyplot as plt\n",
    "img_path = os.getenv('HOME')+'/aiffel/ranmyean.png'  \n",
    "hr = cv2.imread(img_path) \n",
    "print (hr.shape)"
   ]
  },
  {
   "cell_type": "markdown",
   "id": "detected-dance",
   "metadata": {},
   "source": [
    "2. 불러온 이미지에 bicubic interpolation을 적용해 가로 및 세로 픽셀 수를 1/4로 줄입니다. cv2.resize()를 사용해 봅시다. "
   ]
  },
  {
   "cell_type": "code",
   "execution_count": 2,
   "id": "assigned-closing",
   "metadata": {},
   "outputs": [],
   "source": [
    "lr_image = cv2.resize(hr, dsize=(150,100))\n",
    "\n",
    "bicubic_hr = cv2.resize(\n",
    "    lr_image,\n",
    "    dsize = (190, 130),\n",
    "    interpolation = cv2.INTER_CUBIC\n",
    ")"
   ]
  },
  {
   "cell_type": "markdown",
   "id": "collectible-administrator",
   "metadata": {},
   "source": [
    "3. 줄인 저해상도 이미지를 입력으로 SRGAN을 이용해 고해상도 이미지를 생성합니다. 이전에 사용한 apply_srgan 함수를 사용하면 쉽습니다."
   ]
  },
  {
   "cell_type": "code",
   "execution_count": 3,
   "id": "matched-collect",
   "metadata": {},
   "outputs": [
    {
     "name": "stdout",
     "output_type": "stream",
     "text": [
      "WARNING:tensorflow:No training configuration found in the save file, so the model was *not* compiled. Compile it manually.\n"
     ]
    }
   ],
   "source": [
    "import tensorflow as tf\n",
    "import os\n",
    "\n",
    "model_file = os.getenv('HOME')+'/aiffel/super_resolution/srgan_G.h5'\n",
    "srgan = tf.keras.models.load_model(model_file)"
   ]
  },
  {
   "cell_type": "code",
   "execution_count": 4,
   "id": "demographic-poland",
   "metadata": {},
   "outputs": [
    {
     "name": "stdout",
     "output_type": "stream",
     "text": [
      "✅\n"
     ]
    }
   ],
   "source": [
    "from tensorflow.keras import Input, Model, layers\n",
    "\n",
    "# 그림의 파란색 블록을 정의합니다.\n",
    "def gene_base_block(x):\n",
    "    out = layers.Conv2D(64, 3, 1, \"same\")(x)\n",
    "    out = layers.BatchNormalization()(out)\n",
    "    out = layers.PReLU(shared_axes=[1,2])(out)\n",
    "    out = layers.Conv2D(64, 3, 1, \"same\")(out)\n",
    "    out = layers.BatchNormalization()(out)\n",
    "    return layers.Add()([x, out])\n",
    "\n",
    "# 그림의 뒤쪽 연두색 블록을 정의합니다.\n",
    "def upsample_block(x):\n",
    "    out = layers.Conv2D(256, 3, 1, \"same\")(x)\n",
    "    # 그림의 PixelShuffler 라고 쓰여진 부분을 아래와 같이 구현합니다.\n",
    "    out = layers.Lambda(lambda x: tf.nn.depth_to_space(x, 2))(out)\n",
    "    return layers.PReLU(shared_axes=[1,2])(out)\n",
    "    \n",
    "# 전체 Generator를 정의합니다.\n",
    "def get_generator(input_shape=(None, None, 3)):\n",
    "    inputs = Input(input_shape)\n",
    "    \n",
    "    out = layers.Conv2D(64, 9, 1, \"same\")(inputs)\n",
    "    out = residual = layers.PReLU(shared_axes=[1,2])(out)\n",
    "    \n",
    "    for _ in range(5):\n",
    "        out = gene_base_block(out)\n",
    "    \n",
    "    out = layers.Conv2D(64, 3, 1, \"same\")(out)\n",
    "    out = layers.BatchNormalization()(out)\n",
    "    out = layers.Add()([residual, out])\n",
    "    \n",
    "    for _ in range(2):\n",
    "        out = upsample_block(out)\n",
    "        \n",
    "    out = layers.Conv2D(3, 9, 1, \"same\", activation=\"tanh\")(out)\n",
    "    return Model(inputs, out)\n",
    "\n",
    "print(\"✅\")"
   ]
  },
  {
   "cell_type": "code",
   "execution_count": 5,
   "id": "suffering-utility",
   "metadata": {},
   "outputs": [
    {
     "name": "stdout",
     "output_type": "stream",
     "text": [
      "✅\n"
     ]
    }
   ],
   "source": [
    "import numpy as np\n",
    "\n",
    "def apply_srgan(image):\n",
    "    image = tf.cast(image[np.newaxis, ...], tf.float32)\n",
    "    sr = srgan.predict(image)\n",
    "    sr = tf.clip_by_value(sr, 0, 255)\n",
    "    sr = tf.round(sr)\n",
    "    sr = tf.cast(sr, tf.uint8)\n",
    "    return np.array(sr)[0]\n",
    "\n",
    "\n",
    "srgan_hr = apply_srgan(bicubic_hr)\n",
    "print(\"✅\")"
   ]
  },
  {
   "cell_type": "code",
   "execution_count": 6,
   "id": "annoying-scratch",
   "metadata": {},
   "outputs": [
    {
     "ename": "NameError",
     "evalue": "name 'crop' is not defined",
     "output_type": "error",
     "traceback": [
      "\u001b[0;31m---------------------------------------------------------------------------\u001b[0m",
      "\u001b[0;31mNameError\u001b[0m                                 Traceback (most recent call last)",
      "\u001b[0;32m<ipython-input-6-b2a81255cb9f>\u001b[0m in \u001b[0;36m<module>\u001b[0;34m\u001b[0m\n\u001b[1;32m      5\u001b[0m \u001b[0mimages\u001b[0m \u001b[0;34m=\u001b[0m \u001b[0;34m[\u001b[0m\u001b[0;34m]\u001b[0m\u001b[0;34m\u001b[0m\u001b[0;34m\u001b[0m\u001b[0m\n\u001b[1;32m      6\u001b[0m \u001b[0;32mfor\u001b[0m \u001b[0mleft_top\u001b[0m \u001b[0;32min\u001b[0m \u001b[0mleft_tops\u001b[0m\u001b[0;34m:\u001b[0m\u001b[0;34m\u001b[0m\u001b[0;34m\u001b[0m\u001b[0m\n\u001b[0;32m----> 7\u001b[0;31m     \u001b[0mimg1\u001b[0m \u001b[0;34m=\u001b[0m \u001b[0mcrop\u001b[0m\u001b[0;34m(\u001b[0m\u001b[0mbicubic_hr\u001b[0m\u001b[0;34m,\u001b[0m \u001b[0mleft_top\u001b[0m\u001b[0;34m,\u001b[0m \u001b[0;36m200\u001b[0m\u001b[0;34m,\u001b[0m \u001b[0;36m200\u001b[0m\u001b[0;34m)\u001b[0m\u001b[0;34m\u001b[0m\u001b[0;34m\u001b[0m\u001b[0m\n\u001b[0m\u001b[1;32m      8\u001b[0m     \u001b[0mimg2\u001b[0m \u001b[0;34m=\u001b[0m \u001b[0mcrop\u001b[0m\u001b[0;34m(\u001b[0m\u001b[0msrgan_hr\u001b[0m \u001b[0;34m,\u001b[0m \u001b[0mleft_top\u001b[0m\u001b[0;34m,\u001b[0m \u001b[0;36m200\u001b[0m\u001b[0;34m,\u001b[0m \u001b[0;36m200\u001b[0m\u001b[0;34m)\u001b[0m\u001b[0;34m\u001b[0m\u001b[0;34m\u001b[0m\u001b[0m\n\u001b[1;32m      9\u001b[0m     \u001b[0mimg3\u001b[0m \u001b[0;34m=\u001b[0m \u001b[0mcrop\u001b[0m\u001b[0;34m(\u001b[0m\u001b[0mhr\u001b[0m\u001b[0;34m,\u001b[0m \u001b[0mleft_top\u001b[0m\u001b[0;34m,\u001b[0m \u001b[0;36m200\u001b[0m\u001b[0;34m,\u001b[0m \u001b[0;36m200\u001b[0m\u001b[0;34m)\u001b[0m\u001b[0;34m\u001b[0m\u001b[0;34m\u001b[0m\u001b[0m\n",
      "\u001b[0;31mNameError\u001b[0m: name 'crop' is not defined"
     ]
    }
   ],
   "source": [
    "# 자세히 시각화 하기 위해 3개 영역을 잘라냅니다.\n",
    "# 아래는 잘라낸 부분의 좌상단 좌표 3개 입니다.\n",
    "left_tops = [(400,500), (300,1200), (0,1000)]\n",
    "\n",
    "images = []\n",
    "for left_top in left_tops:\n",
    "    img1 = crop(bicubic_hr, left_top, 200, 200)\n",
    "    img2 = crop(srgan_hr , left_top, 200, 200)\n",
    "    img3 = crop(hr, left_top, 200, 200)\n",
    "    images.extend([img1, img2, img3])\n",
    "\n",
    "labels = [\"Bicubic\", \"SRGAN\", \"HR\"] * 3\n",
    "\n",
    "plt.figure(figsize=(18,18))\n",
    "for i in range(9):\n",
    "    plt.subplot(3,3,i+1) \n",
    "    plt.imshow(images[i])\n",
    "    plt.title(labels[i], fontsize=30)"
   ]
  },
  {
   "cell_type": "markdown",
   "id": "fifteen-stadium",
   "metadata": {},
   "source": [
    "5. 3개 이미지(4.의 Bicubic의 결과, 3.의 SRGAN의 결과, 1.의 원래 고해상도 이미지)를 나란히 시각화합니다. 각 이미지의 제목에 어떤 방법에 대한 결과인지 표시해 주세요. 이전 시각화에 사용했던 코드를 참고하면 어렵지 않습니다. "
   ]
  },
  {
   "cell_type": "code",
   "execution_count": null,
   "id": "challenging-racing",
   "metadata": {},
   "outputs": [],
   "source": [
    "# 이미지의 특정 부분을 잘라내는 함수를 정의합니다.\n",
    "def crop(image, left_top, x=200, y=200):\n",
    "    return image[left_top[0]:(left_top[0]+x), left_top[1]:(left_top[1]+y), :]\n",
    "\n",
    "# interpolation된 이미지와 고해상도 이미지의 동일한 부분을 각각 잘라냅니다.\n",
    "left_top = (400, 500)\n",
    "crop_bicubic_hr = crop(bicubic_hr, left_top)\n",
    "crop_hr = crop(hr, left_top)\n",
    "\n",
    "# 잘라낸 부분을 시각화 합니다.\n",
    "plt.figure(figsize=(15,25))\n",
    "plt.subplot(1,2,1); plt.imshow(crop_bicubic_hr); plt.title(\"Bicubic\", fontsize=30)\n",
    "plt.subplot(1,2,2); plt.imshow(crop_hr); plt.title(\"HR\", fontsize=30)"
   ]
  },
  {
   "cell_type": "code",
   "execution_count": null,
   "id": "embedded-reserve",
   "metadata": {},
   "outputs": [],
   "source": []
  }
 ],
 "metadata": {
  "kernelspec": {
   "display_name": "Python 3",
   "language": "python",
   "name": "python3"
  },
  "language_info": {
   "codemirror_mode": {
    "name": "ipython",
    "version": 3
   },
   "file_extension": ".py",
   "mimetype": "text/x-python",
   "name": "python",
   "nbconvert_exporter": "python",
   "pygments_lexer": "ipython3",
   "version": "3.7.9"
  }
 },
 "nbformat": 4,
 "nbformat_minor": 5
}
