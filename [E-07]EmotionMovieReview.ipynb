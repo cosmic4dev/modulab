{
 "cells": [
  {
   "cell_type": "markdown",
   "id": "aging-capital",
   "metadata": {},
   "source": [
    "# 네이버 영화리뷰 감성분석 \n",
    "\n",
    "## Data set = Movie reply from Naver\n",
    "\n",
    "## 루브릭\n",
    "\n",
    "1. 다양한 방법으로 Text Classification 태스크를 성공적으로 구현하였다.\n",
    "\n",
    "    3가지 이상의 모델이 성공적으로 시도됨\n",
    "\n",
    "2. gensim을 활용하여 자체학습된 혹은 사전학습된 임베딩 레이어를 분석하였다.\n",
    "\n",
    "    gensim의 유사단어 찾기를 활용하여 자체학습한 임베딩과 사전학습 임베딩을 적절히 분석함\n",
    "\n",
    "3. 한국어 Word2Vec을 활용하여 가시적인 성능향상을 달성했다.\n",
    "\n",
    "    네이버 영화리뷰 데이터 감성분석 정확도를 85% 이상 달성함\n"
   ]
  },
  {
   "cell_type": "code",
   "execution_count": 1,
   "id": "indirect-class",
   "metadata": {},
   "outputs": [
    {
     "data": {
      "text/html": [
       "<div>\n",
       "<style scoped>\n",
       "    .dataframe tbody tr th:only-of-type {\n",
       "        vertical-align: middle;\n",
       "    }\n",
       "\n",
       "    .dataframe tbody tr th {\n",
       "        vertical-align: top;\n",
       "    }\n",
       "\n",
       "    .dataframe thead th {\n",
       "        text-align: right;\n",
       "    }\n",
       "</style>\n",
       "<table border=\"1\" class=\"dataframe\">\n",
       "  <thead>\n",
       "    <tr style=\"text-align: right;\">\n",
       "      <th></th>\n",
       "      <th>id</th>\n",
       "      <th>document</th>\n",
       "      <th>label</th>\n",
       "    </tr>\n",
       "  </thead>\n",
       "  <tbody>\n",
       "    <tr>\n",
       "      <th>0</th>\n",
       "      <td>9976970</td>\n",
       "      <td>아 더빙.. 진짜 짜증나네요 목소리</td>\n",
       "      <td>0</td>\n",
       "    </tr>\n",
       "    <tr>\n",
       "      <th>1</th>\n",
       "      <td>3819312</td>\n",
       "      <td>흠...포스터보고 초딩영화줄....오버연기조차 가볍지 않구나</td>\n",
       "      <td>1</td>\n",
       "    </tr>\n",
       "    <tr>\n",
       "      <th>2</th>\n",
       "      <td>10265843</td>\n",
       "      <td>너무재밓었다그래서보는것을추천한다</td>\n",
       "      <td>0</td>\n",
       "    </tr>\n",
       "    <tr>\n",
       "      <th>3</th>\n",
       "      <td>9045019</td>\n",
       "      <td>교도소 이야기구먼 ..솔직히 재미는 없다..평점 조정</td>\n",
       "      <td>0</td>\n",
       "    </tr>\n",
       "    <tr>\n",
       "      <th>4</th>\n",
       "      <td>6483659</td>\n",
       "      <td>사이몬페그의 익살스런 연기가 돋보였던 영화!스파이더맨에서 늙어보이기만 했던 커스틴 ...</td>\n",
       "      <td>1</td>\n",
       "    </tr>\n",
       "  </tbody>\n",
       "</table>\n",
       "</div>"
      ],
      "text/plain": [
       "         id                                           document  label\n",
       "0   9976970                                아 더빙.. 진짜 짜증나네요 목소리      0\n",
       "1   3819312                  흠...포스터보고 초딩영화줄....오버연기조차 가볍지 않구나      1\n",
       "2  10265843                                  너무재밓었다그래서보는것을추천한다      0\n",
       "3   9045019                      교도소 이야기구먼 ..솔직히 재미는 없다..평점 조정      0\n",
       "4   6483659  사이몬페그의 익살스런 연기가 돋보였던 영화!스파이더맨에서 늙어보이기만 했던 커스틴 ...      1"
      ]
     },
     "execution_count": 1,
     "metadata": {},
     "output_type": "execute_result"
    }
   ],
   "source": [
    "#Data set \n",
    "import pandas as pd\n",
    "import urllib.request\n",
    "%matplotlib inline\n",
    "import matplotlib.pyplot as plt\n",
    "import re\n",
    "from konlpy.tag import Okt\n",
    "from tensorflow import keras\n",
    "from tensorflow.keras.preprocessing.text import Tokenizer\n",
    "import numpy as np\n",
    "from tensorflow.keras.preprocessing.sequence import pad_sequences\n",
    "from collections import Counter\n",
    "import os\n",
    "import gensim\n",
    "from tensorflow.keras.initializers import Constant\n",
    "from konlpy.tag import Mecab\n",
    " \n",
    "# 데이터를 읽어봅시다. \n",
    "train_data = pd.read_table('~/aiffel/sentiment_classification/data/ratings_train.txt')\n",
    "test_data = pd.read_table('~/aiffel/sentiment_classification/data/ratings_test.txt')\n",
    "\n",
    "train_data.head()"
   ]
  },
  {
   "cell_type": "markdown",
   "id": "tutorial-ability",
   "metadata": {},
   "source": [
    "## 전처리하기\n",
    "\n",
    "데이터의 중복 제거\n",
    "NaN 결측치 제거\n",
    "한국어 토크나이저로 토큰화\n",
    "불용어(Stopwords) 제거\n",
    "사전word_to_index 구성\n",
    "텍스트 스트링을 사전 인덱스 스트링으로 변환\n",
    "X_train, y_train, X_test, y_test, word_to_index 리턴\n"
   ]
  },
  {
   "cell_type": "code",
   "execution_count": 2,
   "id": "seventh-usage",
   "metadata": {},
   "outputs": [
    {
     "name": "stdout",
     "output_type": "stream",
     "text": [
      "훈련 샘플 개수: 146182, 테스트 개수: 49157\n"
     ]
    }
   ],
   "source": [
    "\n",
    "from konlpy.tag import Mecab\n",
    "tokenizer = Mecab()\n",
    "stopwords = ['의','가','이','은','들','는','좀','잘','걍','과','도','를','으로','자','에','와','한','하다']\n",
    "\n",
    "def load_data(train_data, test_data, num_words=10000):\n",
    "    train_data.drop_duplicates(subset=['document'],inplace=True)\n",
    "    train_data =  train_data.dropna(how = 'any')\n",
    "    test_data.drop_duplicates(subset=['document'], inplace=True)\n",
    "    test_data = test_data.dropna(how = 'any') \n",
    "    \n",
    "    X_train = []\n",
    "    for sentence in train_data['document']:\n",
    "        t_X = tokenizer.morphs(sentence)#토크나이저 적용\n",
    "        t_X = [word for word in t_X if not word in stopwords]#불용어 제거\n",
    "        X_train.append(t_X)\n",
    "        \n",
    "    X_test = []\n",
    "    for sentence in test_data['document']:\n",
    "        t_X = tokenizer.morphs(sentence)#토크나이저 적용\n",
    "        t_X = [word for word in t_X if not word in stopwords]#불용어 제거\n",
    "        X_test.append(t_X)\n",
    "        \n",
    "        \n",
    "    words = np.concatenate(X_train).tolist()\n",
    "    counter = Counter(words)\n",
    "    counter = counter.most_common(10000-4)\n",
    "    vocab = ['', '', '', ''] + [key for key, _ in counter]\n",
    "    word_to_index = {word:index for index, word in enumerate(vocab)}\n",
    "    \n",
    "    def wordlist_to_indexlist(wordlist):\n",
    "        return [word_to_index[word] if word in word_to_index else word_to_index[''] for word in wordlist]\n",
    "        \n",
    "    X_train = list(map(wordlist_to_indexlist, X_train))\n",
    "    X_test = list(map(wordlist_to_indexlist, X_test))\n",
    "    \n",
    "    return X_train, np.array(list(train_data['label'])), X_test, np.array(list(test_data['label'])), word_to_index\n",
    "    \n",
    "X_train, y_train, X_test, y_test, word_to_index = load_data(train_data, test_data)\n",
    "\n",
    "print(\"훈련 샘플 개수: {}, 테스트 개수: {}\".format(len(X_train), len(X_test)))\n"
   ]
  },
  {
   "cell_type": "code",
   "execution_count": 3,
   "id": "owned-short",
   "metadata": {},
   "outputs": [],
   "source": [
    "#text,index key value 딕셔너리 위치 변경\n",
    "index_to_word = {index:word for word, index in word_to_index.items()}\n"
   ]
  },
  {
   "cell_type": "code",
   "execution_count": 4,
   "id": "approved-rendering",
   "metadata": {},
   "outputs": [],
   "source": [
    "# 문장 1개를 활용할 딕셔너리와 함께 주면, 단어 인덱스 리스트 벡터로 변환해 주는 함수입니다. \n",
    "# 단, 모든 문장은 <BOS>로 시작하는 것으로 합니다. \n",
    "def get_encoded_sentence(sentence, word_to_index):\n",
    "    return [word_to_index['<BOS>']]+[word_to_index[word] if word in word_to_index else word_to_index['<UNK>'] for word in sentence.split()]\n",
    "\n",
    "# 여러 개의 문장 리스트를 한꺼번에 단어 인덱스 리스트 벡터로 encode해 주는 함수입니다. \n",
    "def get_encoded_sentences(sentences, word_to_index):\n",
    "    return [get_encoded_sentence(sentence, word_to_index) for sentence in sentences]\n",
    "\n",
    "# 숫자 벡터로 encode된 문장을 원래대로 decode하는 함수입니다. \n",
    "def get_decoded_sentence(encoded_sentence, index_to_word):\n",
    "    return ' '.join(index_to_word[index] if index in index_to_word else '<UNK>' for index in encoded_sentence[1:])  #[1:]를 통해 <BOS>를 제외\n",
    "\n",
    "# 여러 개의 숫자 벡터로 encode된 문장을 한꺼번에 원래대로 decode하는 함수입니다. \n",
    "def get_decoded_sentences(encoded_sentences, index_to_word):\n",
    "    return [get_decoded_sentence(encoded_sentence, index_to_word) for encoded_sentence in encoded_sentences]"
   ]
  },
  {
   "cell_type": "code",
   "execution_count": 5,
   "id": "chubby-technique",
   "metadata": {},
   "outputs": [
    {
     "name": "stdout",
     "output_type": "stream",
     "text": [
      "<BOS>\n"
     ]
    }
   ],
   "source": [
    "#실제 인코딩 인덱스는 제공된 word_to_index에서 index 기준으로 3씩 뒤로 밀려 있습니다.  \n",
    "word_to_index = {k:(v+1) for k,v in word_to_index.items()}\n",
    "\n",
    "# 처음 몇 개 인덱스는 사전에 정의되어 있습니다\n",
    "word_to_index[\"<PAD>\"] = 0\n",
    "word_to_index[\"<BOS>\"] = 1\n",
    "word_to_index[\"<UNK>\"] = 2  # unknown\n",
    "word_to_index[\"<UNUSED>\"] = 3\n",
    "\n",
    "index_to_word[0] = \"<PAD>\"\n",
    "index_to_word[1] = \"<BOS>\"\n",
    "index_to_word[2] = \"<UNK>\"\n",
    "index_to_word[3] = \"<UNUSED>\"\n",
    "\n",
    "index_to_word = {index:word for word, index in word_to_index.items()}\n",
    "\n",
    "print(index_to_word[1])     # '<BOS>' 가 출력됩니다."
   ]
  },
  {
   "cell_type": "markdown",
   "id": "rising-thesaurus",
   "metadata": {},
   "source": [
    "### 모델구성을 위한 데이터 분석 및 가공\n",
    "데이터셋 내 문장 길이 분포\n",
    "적절한 최대 문장 길이 지정\n",
    "keras.preprocessing.sequence.pad_sequences 을 활용한 패딩 추가"
   ]
  },
  {
   "cell_type": "code",
   "execution_count": 6,
   "id": "young-weather",
   "metadata": {},
   "outputs": [
    {
     "name": "stdout",
     "output_type": "stream",
     "text": [
      "문장길이 평균 :  15.96940191154864\n",
      "문장길이 최대 :  116\n",
      "문장길이 표준편차 :  12.843571191092\n"
     ]
    }
   ],
   "source": [
    "total_data_text = list(X_train) + list(X_test)\n",
    "# 텍스트데이터 문장길이의 리스트를 생성한 후\n",
    "num_tokens = [len(tokens) for tokens in total_data_text]\n",
    "num_tokens = np.array(num_tokens)\n",
    "# 문장길이의 평균값, 최대값, 표준편차를 계산해 본다. \n",
    "print('문장길이 평균 : ', np.mean(num_tokens))\n",
    "print('문장길이 최대 : ', np.max(num_tokens))\n",
    "print('문장길이 표준편차 : ', np.std(num_tokens))\n",
    "\n"
   ]
  },
  {
   "cell_type": "code",
   "execution_count": 7,
   "id": "white-nudist",
   "metadata": {},
   "outputs": [
    {
     "name": "stdout",
     "output_type": "stream",
     "text": [
      "pad_sequences maxlen :  41\n",
      "전체 문장의 0.9342988343341575%가 maxlen 설정값 이내에 포함됩니다. \n"
     ]
    }
   ],
   "source": [
    "# 예를들어, 최대 길이를 (평균 + 2*표준편차)로 한다면,  \n",
    "max_tokens = np.mean(num_tokens) + 2 * np.std(num_tokens)\n",
    "maxlen = int(max_tokens)\n",
    "print('pad_sequences maxlen : ', maxlen)\n",
    "print('전체 문장의 {}%가 maxlen 설정값 이내에 포함됩니다. '.format(np.sum(num_tokens < max_tokens) / len(num_tokens)))"
   ]
  },
  {
   "cell_type": "code",
   "execution_count": 8,
   "id": "documented-announcement",
   "metadata": {},
   "outputs": [
    {
     "name": "stdout",
     "output_type": "stream",
     "text": [
      "(146182, 41)\n",
      "(49157, 41)\n"
     ]
    },
    {
     "data": {
      "text/plain": [
       "array([  0,   0,   0,   0,   0,   0,   0,   0,   0,   0,   0,   0,   0,\n",
       "         0,   0,   0,   0,   0,   0,   0,   0,   0,   0,   0,   0,   0,\n",
       "         0,   0,   0,   0,   0,  32,  74, 919,   4,   4,  39, 228,  20,\n",
       "        33, 748], dtype=int32)"
      ]
     },
     "execution_count": 8,
     "metadata": {},
     "output_type": "execute_result"
    }
   ],
   "source": [
    "\n",
    "X_train = keras.preprocessing.sequence.pad_sequences(X_train,\n",
    "                                                        value=word_to_index['<PAD>'],\n",
    "                                                        padding='pre',\n",
    "                                                        maxlen=maxlen)\n",
    "\n",
    "X_test = keras.preprocessing.sequence.pad_sequences(X_test,\n",
    "                                                       value=word_to_index['<PAD>'],\n",
    "                                                       padding='pre',\n",
    "                                                       maxlen=maxlen)\n",
    "\n",
    "print(X_train.shape)\n",
    "print(X_test.shape)\n",
    "X_train[0]"
   ]
  },
  {
   "cell_type": "markdown",
   "id": "precious-suspect",
   "metadata": {},
   "source": [
    "## 모델설계 "
   ]
  },
  {
   "cell_type": "code",
   "execution_count": 9,
   "id": "altered-folks",
   "metadata": {},
   "outputs": [],
   "source": [
    "# 시험 \n",
    "from sklearn.model_selection import train_test_split\n",
    "X_train, X_val, y_train, y_val = train_test_split(X_train, y_train,\n",
    "                                                          test_size=0.2,\n",
    "                                                          shuffle=True, \n",
    "                                                          random_state=17)"
   ]
  },
  {
   "cell_type": "code",
   "execution_count": 10,
   "id": "headed-candidate",
   "metadata": {},
   "outputs": [
    {
     "name": "stdout",
     "output_type": "stream",
     "text": [
      "(86945, 41)\n",
      "(86945,)\n"
     ]
    }
   ],
   "source": [
    "# 데이터 축소\n",
    "# # validation set 20000건 분리 \n",
    "x_val = X_train[:30000]   \n",
    "y_val = y_train[:30000]\n",
    "\n",
    "# validation set을 제외한 나머지 50000건\n",
    "partial_x_train = X_train[30000:]  \n",
    "partial_y_train = y_train[30000:]\n",
    "\n",
    "print(partial_x_train.shape)\n",
    "print(partial_y_train.shape)"
   ]
  },
  {
   "cell_type": "markdown",
   "id": "musical-night",
   "metadata": {},
   "source": [
    "## simple GlobalMaxPooling1D Model"
   ]
  },
  {
   "cell_type": "code",
   "execution_count": 11,
   "id": "authorized-while",
   "metadata": {},
   "outputs": [
    {
     "name": "stdout",
     "output_type": "stream",
     "text": [
      "Model: \"sequential\"\n",
      "_________________________________________________________________\n",
      "Layer (type)                 Output Shape              Param #   \n",
      "=================================================================\n",
      "embedding (Embedding)        (None, None, 41)          410000    \n",
      "_________________________________________________________________\n",
      "global_max_pooling1d (Global (None, 41)                0         \n",
      "_________________________________________________________________\n",
      "dense (Dense)                (None, 8)                 336       \n",
      "_________________________________________________________________\n",
      "dense_1 (Dense)              (None, 1)                 9         \n",
      "=================================================================\n",
      "Total params: 410,345\n",
      "Trainable params: 410,345\n",
      "Non-trainable params: 0\n",
      "_________________________________________________________________\n"
     ]
    }
   ],
   "source": [
    "vocab_size = 10000   # 어휘 사전의 크기입니다(10,000개의 단어)\n",
    "word_vector_dim = 41  # 워드 벡터의 차원 수 (변경 가능한 하이퍼파라미터)\n",
    "\n",
    "# simple GlobalMaxPooling1D Model\n",
    "model1= keras.Sequential()\n",
    "model1.add(keras.layers.Embedding(vocab_size, word_vector_dim, input_shape=(None,)))\n",
    "model1.add(keras.layers.GlobalMaxPooling1D())\n",
    "model1.add(keras.layers.Dense(8, activation='relu'))\n",
    "model1.add(keras.layers.Dense(1, activation='sigmoid'))  # 최종 출력은 긍정/부정을 나타내는 1dim 입니다.\n",
    "\n",
    "model1.summary()"
   ]
  },
  {
   "cell_type": "code",
   "execution_count": 12,
   "id": "sonic-capital",
   "metadata": {},
   "outputs": [
    {
     "name": "stdout",
     "output_type": "stream",
     "text": [
      "Epoch 1/20\n",
      "170/170 [==============================] - 3s 10ms/step - loss: 0.6469 - accuracy: 0.7319 - val_loss: 0.4253 - val_accuracy: 0.8252\n",
      "Epoch 2/20\n",
      "170/170 [==============================] - 1s 7ms/step - loss: 0.3823 - accuracy: 0.8433 - val_loss: 0.3599 - val_accuracy: 0.8411\n",
      "Epoch 3/20\n",
      "170/170 [==============================] - 1s 7ms/step - loss: 0.3129 - accuracy: 0.8703 - val_loss: 0.3513 - val_accuracy: 0.8465\n",
      "Epoch 4/20\n",
      "170/170 [==============================] - 1s 7ms/step - loss: 0.2667 - accuracy: 0.8938 - val_loss: 0.3533 - val_accuracy: 0.8482\n",
      "Epoch 5/20\n",
      "170/170 [==============================] - 1s 7ms/step - loss: 0.2391 - accuracy: 0.9070 - val_loss: 0.3621 - val_accuracy: 0.8463\n",
      "Epoch 6/20\n",
      "170/170 [==============================] - 1s 7ms/step - loss: 0.2140 - accuracy: 0.9192 - val_loss: 0.3753 - val_accuracy: 0.8452\n",
      "Epoch 7/20\n",
      "170/170 [==============================] - 1s 7ms/step - loss: 0.1900 - accuracy: 0.9293 - val_loss: 0.3909 - val_accuracy: 0.8441\n",
      "Epoch 8/20\n",
      "170/170 [==============================] - 1s 7ms/step - loss: 0.1680 - accuracy: 0.9405 - val_loss: 0.4089 - val_accuracy: 0.8422\n"
     ]
    }
   ],
   "source": [
    "#epoch 효율을 위해 earlyStopping setting\n",
    "from keras.callbacks import EarlyStopping\n",
    "callbacks = [keras.callbacks.EarlyStopping(monitor='val_loss',\n",
    "                                           patience=5)]\n",
    "\n",
    "model1.compile(optimizer='adam',\n",
    "              loss='binary_crossentropy',\n",
    "              metrics=['accuracy'])\n",
    "              \n",
    "epochs=20 \n",
    "\n",
    "history = model1.fit(partial_x_train,\n",
    "                    partial_y_train,\n",
    "                    epochs=epochs,\n",
    "                    batch_size=512,\n",
    "                    callbacks= callbacks, \n",
    "                    validation_data=(x_val, y_val),\n",
    "                    verbose=1)"
   ]
  },
  {
   "cell_type": "code",
   "execution_count": 13,
   "id": "difficult-bleeding",
   "metadata": {},
   "outputs": [
    {
     "name": "stdout",
     "output_type": "stream",
     "text": [
      "1537/1537 - 2s - loss: 0.4181 - accuracy: 0.8393\n",
      "[0.41806164383888245, 0.8392701148986816]\n"
     ]
    }
   ],
   "source": [
    "#결과\n",
    "\n",
    "results = model1.evaluate(X_test,  y_test, verbose=2)\n",
    "\n",
    "print(results)"
   ]
  },
  {
   "cell_type": "code",
   "execution_count": 14,
   "id": "removed-wiring",
   "metadata": {},
   "outputs": [
    {
     "name": "stdout",
     "output_type": "stream",
     "text": [
      "dict_keys(['loss', 'accuracy', 'val_loss', 'val_accuracy'])\n"
     ]
    }
   ],
   "source": [
    "history_dict = history.history\n",
    "print(history_dict.keys()) # epoch에 따른 그래프를 그려볼 수 있는 항목들"
   ]
  },
  {
   "cell_type": "code",
   "execution_count": 15,
   "id": "familiar-anthony",
   "metadata": {},
   "outputs": [
    {
     "data": {
      "image/png": "[encoded data removed]",
      "text/plain": [
       "<Figure size 432x288 with 1 Axes>"
      ]
     },
     "metadata": {
      "needs_background": "light"
     },
     "output_type": "display_data"
    }
   ],
   "source": [
    "acc = history_dict['accuracy']\n",
    "val_acc = history_dict['val_accuracy']\n",
    "loss = history_dict['loss']\n",
    "val_loss = history_dict['val_loss']\n",
    "\n",
    "epochs = range(1, len(acc) + 1)\n",
    "\n",
    "# r은 \"빨간 실선\"입니다\n",
    "plt.plot(epochs, loss, 'r', label='Training loss')\n",
    "# b는 \"파란 실선\"입니다\n",
    "plt.plot(epochs, val_loss, 'b', label='Validation loss')\n",
    "plt.title('Training and validation loss')\n",
    "plt.xlabel('Epochs')\n",
    "plt.ylabel('Loss')\n",
    "plt.legend()\n",
    "\n",
    "plt.show()"
   ]
  },
  {
   "cell_type": "code",
   "execution_count": 16,
   "id": "trained-minimum",
   "metadata": {},
   "outputs": [
    {
     "data": {
      "image/png": "[encoded data removed]",
      "text/plain": [
       "<Figure size 432x288 with 1 Axes>"
      ]
     },
     "metadata": {
      "needs_background": "light"
     },
     "output_type": "display_data"
    }
   ],
   "source": [
    "plt.clf()   # 그림을 초기화합니다\n",
    "\n",
    "plt.plot(epochs, acc, 'r', label='Training acc')\n",
    "plt.plot(epochs, val_acc, 'b', label='Validation acc')\n",
    "plt.title('Training and validation accuracy')\n",
    "plt.xlabel('Epochs')\n",
    "plt.ylabel('Accuracy')\n",
    "plt.legend()\n",
    "\n",
    "plt.show()"
   ]
  },
  {
   "cell_type": "markdown",
   "id": "operating-chance",
   "metadata": {},
   "source": [
    "## conv1D+ CNN Model"
   ]
  },
  {
   "cell_type": "code",
   "execution_count": 17,
   "id": "mighty-mistake",
   "metadata": {},
   "outputs": [
    {
     "name": "stdout",
     "output_type": "stream",
     "text": [
      "Model: \"sequential_1\"\n",
      "_________________________________________________________________\n",
      "Layer (type)                 Output Shape              Param #   \n",
      "=================================================================\n",
      "embedding_1 (Embedding)      (None, None, 41)          410000    \n",
      "_________________________________________________________________\n",
      "conv1d (Conv1D)              (None, None, 16)          4608      \n",
      "_________________________________________________________________\n",
      "max_pooling1d (MaxPooling1D) (None, None, 16)          0         \n",
      "_________________________________________________________________\n",
      "conv1d_1 (Conv1D)            (None, None, 16)          1808      \n",
      "_________________________________________________________________\n",
      "global_max_pooling1d_1 (Glob (None, 16)                0         \n",
      "_________________________________________________________________\n",
      "dense_2 (Dense)              (None, 8)                 136       \n",
      "_________________________________________________________________\n",
      "dense_3 (Dense)              (None, 1)                 9         \n",
      "=================================================================\n",
      "Total params: 416,561\n",
      "Trainable params: 416,561\n",
      "Non-trainable params: 0\n",
      "_________________________________________________________________\n"
     ]
    }
   ],
   "source": [
    "# conv1D+ CNN Model\n",
    "\n",
    "model2 = keras.Sequential()\n",
    "model2.add(keras.layers.Embedding(vocab_size, word_vector_dim, input_shape=(None,)))\n",
    "model2.add(keras.layers.Conv1D(16, 7, activation='relu'))\n",
    "model2.add(keras.layers.MaxPooling1D(5))\n",
    "model2.add(keras.layers.Conv1D(16, 7, activation='relu'))\n",
    "model2.add(keras.layers.GlobalMaxPooling1D())\n",
    "model2.add(keras.layers.Dense(8, activation='relu'))\n",
    "model2.add(keras.layers.Dense(1, activation='sigmoid'))\n",
    "\n",
    "model2.summary()"
   ]
  },
  {
   "cell_type": "code",
   "execution_count": 18,
   "id": "executive-clear",
   "metadata": {},
   "outputs": [
    {
     "name": "stdout",
     "output_type": "stream",
     "text": [
      "Epoch 1/20\n",
      "170/170 [==============================] - 9s 29ms/step - loss: 0.6117 - accuracy: 0.6473 - val_loss: 0.3650 - val_accuracy: 0.8400\n",
      "Epoch 2/20\n",
      "170/170 [==============================] - 2s 11ms/step - loss: 0.3258 - accuracy: 0.8626 - val_loss: 0.3501 - val_accuracy: 0.8486\n",
      "Epoch 3/20\n",
      "170/170 [==============================] - 2s 11ms/step - loss: 0.2789 - accuracy: 0.8859 - val_loss: 0.3495 - val_accuracy: 0.8497\n",
      "Epoch 4/20\n",
      "170/170 [==============================] - 2s 11ms/step - loss: 0.2426 - accuracy: 0.9054 - val_loss: 0.3623 - val_accuracy: 0.8509\n",
      "Epoch 5/20\n",
      "170/170 [==============================] - 2s 11ms/step - loss: 0.2039 - accuracy: 0.9254 - val_loss: 0.3832 - val_accuracy: 0.8481\n",
      "Epoch 6/20\n",
      "170/170 [==============================] - 2s 11ms/step - loss: 0.1582 - accuracy: 0.9457 - val_loss: 0.4182 - val_accuracy: 0.8437\n",
      "Epoch 7/20\n",
      "170/170 [==============================] - 2s 11ms/step - loss: 0.1153 - accuracy: 0.9634 - val_loss: 0.4720 - val_accuracy: 0.8389\n",
      "Epoch 8/20\n",
      "170/170 [==============================] - 2s 11ms/step - loss: 0.0802 - accuracy: 0.9758 - val_loss: 0.5391 - val_accuracy: 0.8362\n",
      "1537/1537 - 4s - loss: 0.5512 - accuracy: 0.8304\n",
      "[0.5511896014213562, 0.8304412364959717]\n"
     ]
    }
   ],
   "source": [
    "\n",
    "model2.compile(optimizer='adam',\n",
    "              loss='binary_crossentropy',\n",
    "              metrics=['accuracy'])\n",
    "              \n",
    "epochs=20 \n",
    "\n",
    "history = model2.fit(partial_x_train,\n",
    "                    partial_y_train,\n",
    "                    epochs=epochs,\n",
    "                    batch_size=512,\n",
    "                    callbacks=callbacks, #epoch 효율을 위해 earlyStopping setting\n",
    "                    validation_data=(x_val, y_val),\n",
    "                    verbose=1)\n",
    "\n",
    "results = model2.evaluate(X_test,  y_test, verbose=2)\n",
    "\n",
    "print(results)"
   ]
  },
  {
   "cell_type": "code",
   "execution_count": 19,
   "id": "postal-chest",
   "metadata": {},
   "outputs": [
    {
     "name": "stdout",
     "output_type": "stream",
     "text": [
      "dict_keys(['loss', 'accuracy', 'val_loss', 'val_accuracy'])\n"
     ]
    }
   ],
   "source": [
    "history_dict = history.history\n",
    "print(history_dict.keys()) # epoch에 따른 그래프를 그려볼 수 있는 항목들"
   ]
  },
  {
   "cell_type": "code",
   "execution_count": 20,
   "id": "angry-virgin",
   "metadata": {},
   "outputs": [
    {
     "data": {
      "image/png": "[encoded data removed]",
      "text/plain": [
       "<Figure size 432x288 with 1 Axes>"
      ]
     },
     "metadata": {
      "needs_background": "light"
     },
     "output_type": "display_data"
    }
   ],
   "source": [
    "\n",
    "acc = history_dict['accuracy']\n",
    "val_acc = history_dict['val_accuracy']\n",
    "loss = history_dict['loss']\n",
    "val_loss = history_dict['val_loss']\n",
    "\n",
    "epochs = range(1, len(acc) + 1)\n",
    "\n",
    "# r은 \"빨간 실선\"입니다\n",
    "plt.plot(epochs, loss, 'r', label='Training loss')\n",
    "# b는 \"파란 실선\"입니다\n",
    "plt.plot(epochs, val_loss, 'b', label='Validation loss')\n",
    "plt.title('Training and validation loss')\n",
    "plt.xlabel('Epochs')\n",
    "plt.ylabel('Loss')\n",
    "plt.legend()\n",
    "\n",
    "plt.show()"
   ]
  },
  {
   "cell_type": "code",
   "execution_count": 21,
   "id": "subtle-coaching",
   "metadata": {},
   "outputs": [
    {
     "data": {
      "image/png": "[encoded data removed]",
      "text/plain": [
       "<Figure size 432x288 with 1 Axes>"
      ]
     },
     "metadata": {
      "needs_background": "light"
     },
     "output_type": "display_data"
    }
   ],
   "source": [
    "plt.clf()   # 그림을 초기화합니다\n",
    "\n",
    "plt.plot(epochs, acc, 'r', label='Training acc')\n",
    "plt.plot(epochs, val_acc, 'b', label='Validation acc')\n",
    "plt.title('Training and validation accuracy')\n",
    "plt.xlabel('Epochs')\n",
    "plt.ylabel('Accuracy')\n",
    "plt.legend()\n",
    "\n",
    "plt.show()"
   ]
  },
  {
   "cell_type": "markdown",
   "id": "comic-foundation",
   "metadata": {},
   "source": [
    "## RNN LSTM"
   ]
  },
  {
   "cell_type": "code",
   "execution_count": 22,
   "id": "atlantic-catholic",
   "metadata": {},
   "outputs": [
    {
     "name": "stdout",
     "output_type": "stream",
     "text": [
      "Model: \"sequential_2\"\n",
      "_________________________________________________________________\n",
      "Layer (type)                 Output Shape              Param #   \n",
      "=================================================================\n",
      "embedding_2 (Embedding)      (None, None, 41)          410000    \n",
      "_________________________________________________________________\n",
      "lstm (LSTM)                  (None, 8)                 1600      \n",
      "_________________________________________________________________\n",
      "dense_4 (Dense)              (None, 8)                 72        \n",
      "_________________________________________________________________\n",
      "dense_5 (Dense)              (None, 1)                 9         \n",
      "=================================================================\n",
      "Total params: 411,681\n",
      "Trainable params: 411,681\n",
      "Non-trainable params: 0\n",
      "_________________________________________________________________\n"
     ]
    }
   ],
   "source": [
    "# RNN LSTM\n",
    "\n",
    "vocab_size = 10000  # 어휘 사전의 크기입니다(10개의 단어)\n",
    "word_vector_dim = 41  # 단어 하나를 표현하는 임베딩 벡터의 차원수입니다. \n",
    "\n",
    "model3 = keras.Sequential()\n",
    "model3.add(keras.layers.Embedding(vocab_size, word_vector_dim, input_shape=(None,)))\n",
    "model3.add(keras.layers.LSTM(8))   \n",
    "model3.add(keras.layers.Dense(8, activation='relu'))\n",
    "model3.add(keras.layers.Dense(1, activation='sigmoid'))  # 최종 출력은 긍정/부정을 나타내는 1dim 입니다.\n",
    "\n",
    "model3.summary()"
   ]
  },
  {
   "cell_type": "code",
   "execution_count": 23,
   "id": "individual-paint",
   "metadata": {},
   "outputs": [
    {
     "name": "stdout",
     "output_type": "stream",
     "text": [
      "Epoch 1/20\n",
      "170/170 [==============================] - 4s 16ms/step - loss: 0.6116 - accuracy: 0.6988 - val_loss: 0.3799 - val_accuracy: 0.8396\n",
      "Epoch 2/20\n",
      "170/170 [==============================] - 2s 13ms/step - loss: 0.3460 - accuracy: 0.8573 - val_loss: 0.3626 - val_accuracy: 0.8434\n",
      "Epoch 3/20\n",
      "170/170 [==============================] - 2s 13ms/step - loss: 0.3093 - accuracy: 0.8745 - val_loss: 0.3593 - val_accuracy: 0.8466\n",
      "Epoch 4/20\n",
      "170/170 [==============================] - 2s 13ms/step - loss: 0.2929 - accuracy: 0.8831 - val_loss: 0.3631 - val_accuracy: 0.8441\n",
      "Epoch 5/20\n",
      "170/170 [==============================] - 2s 13ms/step - loss: 0.2760 - accuracy: 0.8905 - val_loss: 0.3686 - val_accuracy: 0.8436\n",
      "Epoch 6/20\n",
      "170/170 [==============================] - 2s 13ms/step - loss: 0.2680 - accuracy: 0.8932 - val_loss: 0.3712 - val_accuracy: 0.8440\n",
      "Epoch 7/20\n",
      "170/170 [==============================] - 2s 13ms/step - loss: 0.2578 - accuracy: 0.8981 - val_loss: 0.3713 - val_accuracy: 0.8456\n",
      "Epoch 8/20\n",
      "170/170 [==============================] - 2s 13ms/step - loss: 0.2469 - accuracy: 0.9046 - val_loss: 0.3811 - val_accuracy: 0.8449\n",
      "1537/1537 - 5s - loss: 0.3903 - accuracy: 0.8412\n",
      "[0.39025744795799255, 0.8411823511123657]\n"
     ]
    }
   ],
   "source": [
    "\n",
    "model3.compile(optimizer='adam',\n",
    "              loss='binary_crossentropy',\n",
    "              metrics=['accuracy'])\n",
    "              \n",
    "epochs=20 \n",
    "\n",
    "history = model3.fit(partial_x_train,\n",
    "                    partial_y_train,\n",
    "                    epochs=epochs,\n",
    "                    batch_size=512,\n",
    "                    callbacks=callbacks, #epoch 효율을 위해 earlyStopping setting\n",
    "                    validation_data=(x_val, y_val),\n",
    "                    verbose=1)\n",
    "\n",
    "results = model3.evaluate(X_test,  y_test, verbose=2)\n",
    "\n",
    "print(results)"
   ]
  },
  {
   "cell_type": "code",
   "execution_count": 24,
   "id": "terminal-senegal",
   "metadata": {},
   "outputs": [
    {
     "name": "stdout",
     "output_type": "stream",
     "text": [
      "dict_keys(['loss', 'accuracy', 'val_loss', 'val_accuracy'])\n"
     ]
    }
   ],
   "source": [
    "history_dict = history.history\n",
    "print(history_dict.keys()) # epoch에 따른 그래프를 그려볼 수 있는 항목들"
   ]
  },
  {
   "cell_type": "code",
   "execution_count": 25,
   "id": "unauthorized-organizer",
   "metadata": {},
   "outputs": [
    {
     "data": {
      "image/png": "[encoded data removed]",
      "text/plain": [
       "<Figure size 432x288 with 1 Axes>"
      ]
     },
     "metadata": {
      "needs_background": "light"
     },
     "output_type": "display_data"
    }
   ],
   "source": [
    "acc = history_dict['accuracy']\n",
    "val_acc = history_dict['val_accuracy']\n",
    "loss = history_dict['loss']\n",
    "val_loss = history_dict['val_loss']\n",
    "\n",
    "epochs = range(1, len(acc) + 1)\n",
    "\n",
    "# r은 \"빨간 실선\"입니다\n",
    "plt.plot(epochs, loss, 'r', label='Training loss')\n",
    "# b는 \"파란 실선\"입니다\n",
    "plt.plot(epochs, val_loss, 'b', label='Validation loss')\n",
    "plt.title('Training and validation loss')\n",
    "plt.xlabel('Epochs')\n",
    "plt.ylabel('Loss')\n",
    "plt.legend()\n",
    "\n",
    "plt.show()"
   ]
  },
  {
   "cell_type": "code",
   "execution_count": 26,
   "id": "working-input",
   "metadata": {},
   "outputs": [
    {
     "data": {
      "image/png": "[encoded data removed]",
      "text/plain": [
       "<Figure size 432x288 with 1 Axes>"
      ]
     },
     "metadata": {
      "needs_background": "light"
     },
     "output_type": "display_data"
    }
   ],
   "source": [
    "plt.clf()   # 그림을 초기화합니다\n",
    "\n",
    "plt.plot(epochs, acc, 'r', label='Training acc')\n",
    "plt.plot(epochs, val_acc, 'b', label='Validation acc')\n",
    "plt.title('Training and validation accuracy')\n",
    "plt.xlabel('Epochs')\n",
    "plt.ylabel('Accuracy')\n",
    "plt.legend()\n",
    "\n",
    "plt.show()"
   ]
  },
  {
   "cell_type": "markdown",
   "id": "bulgarian-place",
   "metadata": {},
   "source": [
    "### Embedding layer"
   ]
  },
  {
   "cell_type": "code",
   "execution_count": 27,
   "id": "roman-morris",
   "metadata": {},
   "outputs": [
    {
     "name": "stdout",
     "output_type": "stream",
     "text": [
      "(10000, 41)\n"
     ]
    }
   ],
   "source": [
    "embedding_layer = model1.layers[0]\n",
    "weights = embedding_layer.get_weights()[0]\n",
    "print(weights.shape)    # shape: (vocab_size, embedding_dim)"
   ]
  },
  {
   "cell_type": "code",
   "execution_count": 28,
   "id": "duplicate-medicare",
   "metadata": {},
   "outputs": [],
   "source": [
    "# 학습한 Embedding 파라미터를 파일에 써서 저장합니다. \n",
    "word2vec_file_path = os.getenv('HOME')+'/aiffel/sentiment_classification/data/word2vec.txt'\n",
    "f = open(word2vec_file_path, 'w')\n",
    "f.write('{} {}\\n'.format(vocab_size-4, word_vector_dim))  # 몇개의 벡터를 얼마 사이즈로 기재할지 타이틀을 씁니다.\n",
    "\n",
    "# 단어 개수(에서 특수문자 4개는 제외하고)만큼의 워드 벡터를 파일에 기록합니다. \n",
    "vectors = model1.get_weights()[0]\n",
    "for i in range(4,vocab_size):\n",
    "    f.write('{} {}\\n'.format(index_to_word[i], ' '.join(map(str, list(vectors[i, :])))))\n",
    "f.close()"
   ]
  },
  {
   "cell_type": "code",
   "execution_count": 29,
   "id": "acquired-harassment",
   "metadata": {},
   "outputs": [
    {
     "data": {
      "text/plain": [
       "array([-0.03558902,  0.02876546, -0.10477822, -0.02562265, -0.05104968,\n",
       "       -0.0454869 , -0.04664892, -0.06724794,  0.02329234,  0.11233747,\n",
       "       -0.0625319 ,  0.0688303 , -0.1124145 ,  0.06407826, -0.10976309,\n",
       "       -0.09513972, -0.0250829 , -0.12836036, -0.09522243, -0.03255121,\n",
       "       -0.10687636,  0.00762624, -0.05879157, -0.10091185,  0.0065286 ,\n",
       "       -0.11587658, -0.06989713, -0.04367779, -0.08418983, -0.08857691,\n",
       "       -0.10034151, -0.05973779, -0.01690262, -0.00338366, -0.08742443,\n",
       "       -0.08317483, -0.11109748, -0.01767917, -0.07934242, -0.09003107,\n",
       "       -0.07582008], dtype=float32)"
      ]
     },
     "execution_count": 29,
     "metadata": {},
     "output_type": "execute_result"
    }
   ],
   "source": [
    "from gensim.models.keyedvectors import Word2VecKeyedVectors\n",
    "\n",
    "word_vectors = Word2VecKeyedVectors.load_word2vec_format(word2vec_file_path, binary=False)\n",
    "vector = word_vectors['재미']\n",
    "vector"
   ]
  },
  {
   "cell_type": "code",
   "execution_count": 30,
   "id": "latin-recall",
   "metadata": {},
   "outputs": [
    {
     "data": {
      "text/plain": [
       "[('에서', 0.7843987941741943),\n",
       " ('타', 0.745458722114563),\n",
       " ('했', 0.7452518939971924),\n",
       " ('이거', 0.7426004409790039),\n",
       " ('뚝', 0.7409270405769348),\n",
       " ('몇', 0.7396203875541687),\n",
       " ('아닌', 0.7336767315864563),\n",
       " ('..', 0.7318112850189209),\n",
       " ('많', 0.7296087741851807),\n",
       " ('정말로', 0.7253357768058777)]"
      ]
     },
     "execution_count": 30,
     "metadata": {},
     "output_type": "execute_result"
    }
   ],
   "source": [
    "# '재미'와 유사한 단어 확인\n",
    "word_vectors.similar_by_word(\"재미\")"
   ]
  },
  {
   "cell_type": "markdown",
   "id": "ahead-delta",
   "metadata": {},
   "source": [
    "### Word2Vec 임베딩 활용하여 성능개선"
   ]
  },
  {
   "cell_type": "code",
   "execution_count": 31,
   "id": "julian-orange",
   "metadata": {},
   "outputs": [
    {
     "name": "stderr",
     "output_type": "stream",
     "text": [
      "/opt/conda/lib/python3.7/site-packages/ipykernel_launcher.py:5: DeprecationWarning: Call to deprecated `__getitem__` (Method will be removed in 4.0.0, use self.wv.__getitem__() instead).\n",
      "  \"\"\"\n"
     ]
    },
    {
     "data": {
      "text/plain": [
       "array([-1.3796269 , -0.37398475, -1.2154474 ,  1.639952  , -0.14050427,\n",
       "       -1.01211   , -1.0307423 ,  2.878987  ,  0.27843258, -0.761006  ,\n",
       "        0.5472557 , -1.1294783 , -0.08750254,  0.31699726, -3.3931959 ,\n",
       "       -0.70248127,  0.446383  ,  0.35330325, -1.7166852 ,  0.25102478,\n",
       "       -1.3903627 , -0.09533731,  1.2566968 ,  0.5688976 ,  0.44297022,\n",
       "       -0.97487795,  0.38161275,  0.16240513, -1.3098637 ,  0.6540781 ,\n",
       "        1.1373658 , -1.2157583 , -0.16933535,  1.8439229 , -1.6933241 ,\n",
       "        1.0440814 , -1.7979567 , -0.7233666 ,  1.8768268 ,  1.1397793 ,\n",
       "       -1.1344665 , -3.1387126 ,  1.1286664 , -1.703793  ,  0.06359997,\n",
       "        1.1868192 , -2.6793232 ,  0.12761039,  1.1400706 , -0.4587391 ,\n",
       "        0.3916111 ,  0.2515998 , -0.61260563, -2.445033  ,  0.6308604 ,\n",
       "        1.4974746 , -0.41639408,  0.43178192,  0.02070529, -1.2697713 ,\n",
       "       -0.91432554,  0.4695733 , -1.4464544 ,  1.5261189 , -0.8574424 ,\n",
       "        3.0626788 ,  0.4669899 ,  2.3038158 ,  0.9814439 , -3.251182  ,\n",
       "        2.3636477 , -0.7280793 , -1.6522444 ,  0.906554  ,  0.3974978 ,\n",
       "       -1.9181013 ,  0.37397477, -0.00760884,  0.78788716,  1.5832944 ,\n",
       "        0.04263692, -2.114564  ,  1.0904968 ,  0.47571507, -2.0709457 ,\n",
       "       -2.310951  , -0.05512144, -1.3626258 , -1.1342541 , -0.02681197,\n",
       "        0.2086789 , -1.3909202 ,  3.045589  ,  1.016664  ,  2.0780444 ,\n",
       "       -1.2514677 ,  1.6304839 , -1.7718645 , -0.24335623,  0.58435035,\n",
       "       -0.6855705 ,  1.1780828 , -1.0718423 , -0.61814475, -1.5208381 ,\n",
       "        0.72718   , -1.4761986 ,  0.82662183, -1.3267792 , -1.4787446 ,\n",
       "        2.2525046 , -0.15609615,  2.122101  ,  0.6783883 , -2.0578861 ,\n",
       "       -0.44897854,  0.23291767,  1.7039183 , -0.884705  ,  0.3713734 ,\n",
       "       -0.3779305 , -2.9354446 , -0.5832351 , -1.1950965 , -0.10300242,\n",
       "        1.8646008 ,  0.25196326, -1.4896399 ,  0.58141965, -0.72674274,\n",
       "        1.0555806 , -0.92186385,  0.661932  , -0.50937253, -3.0594969 ,\n",
       "       -1.3914695 ,  0.7478459 , -0.7710799 , -1.5510008 , -1.9150808 ,\n",
       "       -2.71411   , -0.23953144, -0.1420196 ,  3.027449  , -0.4646083 ,\n",
       "        0.63619703, -4.1008234 , -0.5251527 , -1.4472033 , -1.6839719 ,\n",
       "       -3.148014  , -2.3820841 ,  0.03472717,  0.6288511 , -0.43753818,\n",
       "       -1.0949943 , -0.79927623, -0.24070291,  0.1316242 , -2.240131  ,\n",
       "        1.8697343 , -2.5415976 ,  1.2786254 , -1.8385407 ,  2.8528612 ,\n",
       "       -1.2376759 , -2.68078   ,  0.7328052 , -1.8719467 ,  1.0863583 ,\n",
       "        0.7435732 , -2.0881214 , -1.0333807 ,  0.04096787,  2.0449905 ,\n",
       "        0.11099568,  0.50710344, -0.256269  ,  1.2375586 ,  0.12622139,\n",
       "        1.4306104 , -2.072135  ,  0.24215603,  1.2823433 ,  0.6572956 ,\n",
       "        1.3117079 , -0.98885924, -1.4609507 , -0.70843065, -0.22429937,\n",
       "       -0.8391045 ,  0.8442135 , -0.3096662 ,  0.52011126,  0.26375362,\n",
       "        1.9739214 ,  0.1409159 ,  1.8613857 , -1.770021  ,  0.6827914 ],\n",
       "      dtype=float32)"
      ]
     },
     "execution_count": 31,
     "metadata": {},
     "output_type": "execute_result"
    }
   ],
   "source": [
    "# 한국어 Word2Vec 사용\n",
    "from gensim.models import Word2Vec\n",
    "word2vec_path = os.getenv('HOME')+'/aiffel/sentiment_classification/data/ko.bin'\n",
    "word2vec = Word2Vec.load(word2vec_path)\n",
    "vector = word2vec['시간']\n",
    "vector\n"
   ]
  },
  {
   "cell_type": "code",
   "execution_count": 32,
   "id": "arctic-signature",
   "metadata": {},
   "outputs": [
    {
     "name": "stderr",
     "output_type": "stream",
     "text": [
      "/opt/conda/lib/python3.7/site-packages/ipykernel_launcher.py:2: DeprecationWarning: Call to deprecated `similar_by_word` (Method will be removed in 4.0.0, use self.wv.similar_by_word() instead).\n",
      "  \n"
     ]
    },
    {
     "data": {
      "text/plain": [
       "[('취미', 0.5857348442077637),\n",
       " ('유머', 0.5140613913536072),\n",
       " ('매력', 0.5105490684509277),\n",
       " ('흥미', 0.4988338351249695),\n",
       " ('공짜', 0.4960595667362213),\n",
       " ('일자리', 0.49294644594192505),\n",
       " ('즐거움', 0.48700767755508423),\n",
       " ('비애', 0.4836210310459137),\n",
       " ('관객', 0.48286449909210205),\n",
       " ('향수', 0.4823310971260071)]"
      ]
     },
     "execution_count": 32,
     "metadata": {},
     "output_type": "execute_result"
    }
   ],
   "source": [
    "# 향상된 개선모델\n",
    "word2vec.similar_by_word(\"재미\")"
   ]
  },
  {
   "cell_type": "markdown",
   "id": "bizarre-forestry",
   "metadata": {},
   "source": [
    "## 개선된 simple GlobalMaxPooling1D Model"
   ]
  },
  {
   "cell_type": "code",
   "execution_count": 33,
   "id": "reduced-sentence",
   "metadata": {},
   "outputs": [
    {
     "name": "stderr",
     "output_type": "stream",
     "text": [
      "/opt/conda/lib/python3.7/site-packages/ipykernel_launcher.py:7: DeprecationWarning: Call to deprecated `__contains__` (Method will be removed in 4.0.0, use self.wv.__contains__() instead).\n",
      "  import sys\n",
      "/opt/conda/lib/python3.7/site-packages/ipykernel_launcher.py:8: DeprecationWarning: Call to deprecated `__getitem__` (Method will be removed in 4.0.0, use self.wv.__getitem__() instead).\n",
      "  \n"
     ]
    },
    {
     "data": {
      "text/plain": [
       "(10000, 200)"
      ]
     },
     "execution_count": 33,
     "metadata": {},
     "output_type": "execute_result"
    }
   ],
   "source": [
    "\n",
    "vocab_size = 10000    # 어휘 사전의 크기입니다(10,000개의 단어)\n",
    "word_vector_dim = 200  # 한글에서는 200\n",
    "\n",
    "embedding_matrix = np.random.rand(vocab_size, word_vector_dim)\n",
    "\n",
    "for i in range(4,vocab_size):\n",
    "    if index_to_word[i] in word2vec:\n",
    "        embedding_matrix[i] = word2vec[index_to_word[i]]\n",
    "\n",
    "embedding_matrix.shape"
   ]
  },
  {
   "cell_type": "code",
   "execution_count": 34,
   "id": "essential-blake",
   "metadata": {},
   "outputs": [
    {
     "name": "stdout",
     "output_type": "stream",
     "text": [
      "Model: \"sequential_3\"\n",
      "_________________________________________________________________\n",
      "Layer (type)                 Output Shape              Param #   \n",
      "=================================================================\n",
      "embedding_3 (Embedding)      (None, 41, 200)           2000000   \n",
      "_________________________________________________________________\n",
      "lstm_1 (LSTM)                (None, 512)               1460224   \n",
      "_________________________________________________________________\n",
      "dense_6 (Dense)              (None, 16)                8208      \n",
      "_________________________________________________________________\n",
      "dense_7 (Dense)              (None, 1)                 17        \n",
      "=================================================================\n",
      "Total params: 3,468,449\n",
      "Trainable params: 3,468,449\n",
      "Non-trainable params: 0\n",
      "_________________________________________________________________\n"
     ]
    }
   ],
   "source": [
    "model4 = keras.Sequential()\n",
    "model4.add(keras.layers.Embedding(vocab_size, word_vector_dim,\n",
    "                                  embeddings_initializer=Constant(embedding_matrix),input_length=maxlen,trainable=True))   \n",
    "\n",
    "# model4.add(keras.layers.GlobalMaxPooling1D())\n",
    "# model4.add(keras.layers.Dense(8, activation='relu'))\n",
    "# model4.add(keras.layers.Dense(1, activation='sigmoid'))\n",
    "model4.add(keras.layers.LSTM(512))  \n",
    "model4.add(keras.layers.Dense(1, activation='sigmoid'))  \n",
    "\n",
    "model4.summary()"
   ]
  },
  {
   "cell_type": "code",
   "execution_count": 35,
   "id": "effective-guess",
   "metadata": {},
   "outputs": [
    {
     "name": "stdout",
     "output_type": "stream",
     "text": [
      "Epoch 1/5\n",
      "170/170 [==============================] - 30s 168ms/step - loss: 0.5621 - accuracy: 0.6919 - val_loss: 0.3921 - val_accuracy: 0.8229\n",
      "Epoch 2/5\n",
      "170/170 [==============================] - 28s 166ms/step - loss: 0.3598 - accuracy: 0.8412 - val_loss: 0.3519 - val_accuracy: 0.8493\n",
      "Epoch 3/5\n",
      "170/170 [==============================] - 28s 167ms/step - loss: 0.2945 - accuracy: 0.8748 - val_loss: 0.3298 - val_accuracy: 0.8554\n",
      "Epoch 4/5\n",
      "170/170 [==============================] - 29s 169ms/step - loss: 0.2522 - accuracy: 0.8964 - val_loss: 0.3373 - val_accuracy: 0.8548\n",
      "Epoch 5/5\n",
      "170/170 [==============================] - 29s 169ms/step - loss: 0.2095 - accuracy: 0.9160 - val_loss: 0.3741 - val_accuracy: 0.8552\n",
      "1537/1537 - 12s - loss: 0.3843 - accuracy: 0.8531\n",
      "[0.3843030631542206, 0.8531033396720886]\n"
     ]
    }
   ],
   "source": [
    "model4.compile(optimizer='adam',\n",
    "              loss='binary_crossentropy',\n",
    "              metrics=['accuracy'])\n",
    "              \n",
    "epochs=5\n",
    "\n",
    "history = model4.fit(partial_x_train,\n",
    "                    partial_y_train,\n",
    "                    epochs=epochs,\n",
    "                    batch_size=512,\n",
    "                    callbacks=callbacks, #epoch 효율을 위해 earlyStopping setting\n",
    "                    validation_data=(x_val, y_val),\n",
    "                    verbose=1)\n",
    "\n",
    "results = model4.evaluate(X_test,  y_test, verbose=2)\n",
    "\n",
    "print(results)"
   ]
  },
  {
   "cell_type": "code",
   "execution_count": 36,
   "id": "official-cardiff",
   "metadata": {},
   "outputs": [
    {
     "name": "stdout",
     "output_type": "stream",
     "text": [
      "dict_keys(['loss', 'accuracy', 'val_loss', 'val_accuracy'])\n"
     ]
    }
   ],
   "source": [
    "history_dict = history.history\n",
    "print(history_dict.keys()) # epoch에 따른 그래프를 그려볼 수 있는 항목들"
   ]
  },
  {
   "cell_type": "code",
   "execution_count": 37,
   "id": "fifteen-sequence",
   "metadata": {},
   "outputs": [
    {
     "data": {
      "image/png": "[encoded data removed]",
      "text/plain": [
       "<Figure size 432x288 with 1 Axes>"
      ]
     },
     "metadata": {
      "needs_background": "light"
     },
     "output_type": "display_data"
    }
   ],
   "source": [
    "acc = history_dict['accuracy']\n",
    "val_acc = history_dict['val_accuracy']\n",
    "loss = history_dict['loss']\n",
    "val_loss = history_dict['val_loss']\n",
    "\n",
    "epochs = range(1, len(acc) + 1)\n",
    "\n",
    "# r은 \"빨간 실선\"입니다\n",
    "plt.plot(epochs, loss, 'r', label='Training loss')\n",
    "# b는 \"파란 실선\"입니다\n",
    "plt.plot(epochs, val_loss, 'b', label='Validation loss')\n",
    "plt.title('Training and validation loss')\n",
    "plt.xlabel('Epochs')\n",
    "plt.ylabel('Loss')\n",
    "plt.legend()\n",
    "\n",
    "plt.show()"
   ]
  },
  {
   "cell_type": "code",
   "execution_count": 38,
   "id": "intended-greenhouse",
   "metadata": {},
   "outputs": [
    {
     "data": {
      "image/png": "[encoded data removed]",
      "text/plain": [
       "<Figure size 432x288 with 1 Axes>"
      ]
     },
     "metadata": {
      "needs_background": "light"
     },
     "output_type": "display_data"
    }
   ],
   "source": [
    "plt.clf()   # 그림을 초기화합니다\n",
    "\n",
    "plt.plot(epochs, acc, 'r', label='Training acc')\n",
    "plt.plot(epochs, val_acc, 'b', label='Validation acc')\n",
    "plt.title('Training and validation accuracy')\n",
    "plt.xlabel('Epochs')\n",
    "plt.ylabel('Accuracy')\n",
    "plt.legend()\n",
    "\n",
    "plt.show()"
   ]
  },
  {
   "cell_type": "markdown",
   "id": "eight-ground",
   "metadata": {},
   "source": [
    "### 정리\n",
    "\n",
    "세 가지 모델을 가지고 비교했는데 나의 경우는 LSTM Model이 가장 우수한 결과를 만들었다.  \n",
    "처리 속도도 가장 좋았다.  \n",
    "그래서 추가적으로 word2vec 적용한 개선 모델 설계와 테스트를 진행하였다.  \n",
    "그런데 이 테스트에서도 LSTM모델이 가장 우수한 결과를 보였다.  \n",
    "epoch은 20을 기본으로 세팅하고 실행하였는데, 그 중간에 가장 높은 스코어를 지나치는 경우가 있어 \n",
    " 최적 epoch를 설정하기위해 'early stopping'을 설정하였다. 그리고 validation data와 test data 밸런스를 조정하여 테스트 결과 목표치인 validation accruacy 85%를 넘을 수 있었다.  \n",
    " \n",
    "word_vectors.similar_by_word(\"재미\")에서는  \n",
    "('에서','탓','돼','이거','뚝','오프닝' 등)와 같은 '재미'와 다소 공감하기 힘든 단어들을 반환했다.  \n",
    "반면 word2vec.similar_by_word(\"재미\")에서는  \n",
    "('취미','유머','매력','흥미','즐거움','관객',향수' 등)와 같은 '재미'와 밀접한 단어들을 반환했다.  \n",
    "한국어에는 word2vec을 쓰는 것이 더 유의미한 결과를 만들어냈음을 알 수 있다.\n",
    "\n"
   ]
  },
  {
   "cell_type": "code",
   "execution_count": null,
   "id": "transsexual-dressing",
   "metadata": {},
   "outputs": [],
   "source": []
  }
 ],
 "metadata": {
  "kernelspec": {
   "display_name": "Python 3",
   "language": "python",
   "name": "python3"
  },
  "language_info": {
   "codemirror_mode": {
    "name": "ipython",
    "version": 3
   },
   "file_extension": ".py",
   "mimetype": "text/x-python",
   "name": "python",
   "nbconvert_exporter": "python",
   "pygments_lexer": "ipython3",
   "version": "3.7.9"
  }
 },
 "nbformat": 4,
 "nbformat_minor": 5
}
