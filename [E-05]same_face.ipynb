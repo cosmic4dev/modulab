{
 "cells": [
  {
   "cell_type": "markdown",
   "id": "dutch-dispute",
   "metadata": {},
   "source": [
    "# 닮은 꼴 연예인 찾기\n"
   ]
  },
  {
   "cell_type": "markdown",
   "id": "urban-presence",
   "metadata": {},
   "source": [
    "## 루브릭\n",
    "\n",
    "1.얼굴임베딩 벡터를 활용해 가장 닮은 연예인 best 5를 구할 수 있다.\n",
    " - 닮은 꼴 순위, 이름, 임베딩 거리를 포함한 top-5리스트가 출력되었다.\n",
    "\n",
    "2.충분한 수의 이미지에 대한 시도를 통해 매우 닮은 꼴의 연예인을 찾아냈다.\n",
    " - 다양한 탐색을 통해 본인과 임베딩 거리 0.5이내로 닮은 연예인을 찾아냈다.\n",
    " \n",
    "3.다양하고 재밌있는 결과 시각화를 시도하였다.\n",
    " - matplotlib 등 다양한 시각화 도구를 하나 이상 이용해 재밌있는 결과 시각화를 구현하였다.\n",
    " "
   ]
  },
  {
   "cell_type": "code",
   "execution_count": 278,
   "id": "educational-inventory",
   "metadata": {},
   "outputs": [
    {
     "name": "stdout",
     "output_type": "stream",
     "text": [
      "185\n"
     ]
    }
   ],
   "source": [
    "import os\n",
    "import matplotlib.pyplot as plt\n",
    "import matplotlib.image as img\n",
    "import face_recognition\n",
    "import numpy as np\n",
    "import pandas as pd\n",
    "\n",
    "\n",
    "dir_path = os.getenv('HOME')+'/aiffel/face_embedding/images2'\n",
    "file_list = os.listdir(dir_path)\n",
    "print(len(file_list))\n"
   ]
  },
  {
   "cell_type": "code",
   "execution_count": 279,
   "id": "certain-constraint",
   "metadata": {},
   "outputs": [],
   "source": [
    "#얼굴 사진 자르기 메소드 정의\n",
    "def get_cropped_face(image_file):\n",
    "    image = face_recognition.load_image_file(image_file)\n",
    "    face_locations = face_recognition.face_locations(image)\n",
    "    a, b, c, d = face_locations[0]\n",
    "    cropped_face = image[a:c,d:b,:]\n",
    "    \n",
    "    return cropped_face    "
   ]
  },
  {
   "cell_type": "code",
   "execution_count": 280,
   "id": "recovered-welding",
   "metadata": {},
   "outputs": [],
   "source": [
    "#얼굴 사진 잘라보기\n",
    "image_file = os.path.join(dir_path, 'me1.png')\n",
    "face = get_cropped_face(image_file)  "
   ]
  },
  {
   "cell_type": "code",
   "execution_count": 281,
   "id": "afraid-threat",
   "metadata": {},
   "outputs": [],
   "source": [
    "#얼굴 임베딩 벡터 구하는 메소드 정의\n",
    "def get_face_embedding(face):\n",
    "    return face_recognition.face_encodings(face)"
   ]
  },
  {
   "cell_type": "code",
   "execution_count": 282,
   "id": "genuine-industry",
   "metadata": {},
   "outputs": [],
   "source": [
    "#임베딩 벡터 메소드 실행 테스트\n",
    "image_file = os.path.join(dir_path, 'me1.png')\n",
    "face = get_cropped_face(image_file)   # 얼굴 영역을 구하는 함수(이전 스텝에서 구현)\n"
   ]
  },
  {
   "cell_type": "code",
   "execution_count": 283,
   "id": "convertible-christian",
   "metadata": {},
   "outputs": [],
   "source": [
    "# 얼굴 영역을 가지고 얼굴 임베딩 벡터를 구하는 함수\n",
    "def get_face_embedding(face):\n",
    "    return face_recognition.face_encodings(face)"
   ]
  },
  {
   "cell_type": "code",
   "execution_count": 284,
   "id": "disturbed-antigua",
   "metadata": {},
   "outputs": [
    {
     "data": {
      "text/plain": [
       "[array([-1.02319442e-01,  1.15813084e-01,  2.13384349e-02, -1.14209987e-02,\n",
       "        -9.67840105e-02,  1.55562069e-03, -5.73204458e-02, -1.39144361e-01,\n",
       "         9.83506888e-02, -1.26612142e-01,  2.08135322e-01, -8.24649632e-02,\n",
       "        -2.08371729e-01, -8.93107206e-02, -3.40029448e-02,  1.80139661e-01,\n",
       "        -1.16483413e-01, -1.45360768e-01, -3.27901319e-02,  4.36923355e-02,\n",
       "         1.78156480e-01,  2.16612034e-02, -2.43015937e-04,  5.19728176e-02,\n",
       "        -1.31715894e-01, -3.28723550e-01, -1.24603227e-01, -4.79905270e-02,\n",
       "        -2.64875293e-02, -4.79765199e-02, -9.57336426e-02,  2.02136654e-02,\n",
       "        -1.98594838e-01, -4.14377078e-02,  9.86390747e-04,  1.10383093e-01,\n",
       "        -8.38049129e-03, -7.30223581e-02,  1.31364331e-01, -3.34298871e-02,\n",
       "        -2.80992746e-01,  5.66749424e-02,  6.33878559e-02,  2.33376503e-01,\n",
       "         2.00802043e-01, -3.31065082e-03,  8.09626281e-03, -9.84936804e-02,\n",
       "         9.61028337e-02, -2.00385571e-01,  7.89596885e-02,  1.24187686e-01,\n",
       "         7.29740188e-02,  9.11783800e-02,  3.42346495e-03, -1.33379832e-01,\n",
       "         2.93251686e-03,  1.28225401e-01, -9.57621187e-02,  3.50867771e-02,\n",
       "         8.96499678e-02, -8.42042863e-02, -3.22024971e-02, -1.21516153e-01,\n",
       "         1.41211092e-01,  1.00272872e-01, -1.31335244e-01, -2.04026923e-01,\n",
       "         6.47601858e-02, -1.71725154e-01, -9.71416309e-02,  8.38863403e-02,\n",
       "        -1.87798947e-01, -1.93141609e-01, -3.78681868e-01,  1.39765125e-02,\n",
       "         3.57409447e-01,  1.13799602e-01, -2.19655782e-01,  8.47767480e-03,\n",
       "         2.27877889e-02,  6.39080629e-02,  1.49772361e-01,  1.64792702e-01,\n",
       "         5.75549901e-02,  3.83122414e-02, -1.23767883e-01,  4.72881533e-02,\n",
       "         2.42105544e-01, -7.17872530e-02, -6.53521642e-02,  2.63556242e-01,\n",
       "        -2.38256305e-02,  7.61403516e-02,  1.62401553e-02,  1.36930719e-01,\n",
       "        -9.23693273e-03, -3.09071131e-03, -1.13087736e-01,  4.68614027e-02,\n",
       "         6.42170012e-02, -5.41394874e-02, -8.07598531e-02,  1.48890764e-01,\n",
       "        -1.42087102e-01,  1.45237654e-01, -2.79979408e-02,  1.09550282e-01,\n",
       "        -1.37860933e-03, -6.06688857e-02, -1.22467704e-01,  1.87107436e-02,\n",
       "         1.25525102e-01, -1.88169166e-01,  1.82904527e-01,  1.80144444e-01,\n",
       "         9.33431555e-03,  7.30131418e-02,  1.19328260e-01,  6.86578378e-02,\n",
       "        -1.66076478e-02, -5.32619730e-02, -2.84512937e-01, -4.27079462e-02,\n",
       "         1.04440548e-01, -3.38450633e-02,  5.02863228e-02,  1.49450097e-02])]"
      ]
     },
     "execution_count": 284,
     "metadata": {},
     "output_type": "execute_result"
    }
   ],
   "source": [
    "#임베딩 계산 실행\n",
    "embedding = get_face_embedding(face)  \n",
    "embedding"
   ]
  },
  {
   "cell_type": "code",
   "execution_count": 285,
   "id": "bizarre-attendance",
   "metadata": {},
   "outputs": [],
   "source": [
    "#얼굴 임베딩 딕셔너리 저장 메소드\n",
    "def get_face_embedding_dict(dir_path):\n",
    "    file_list = os.listdir(dir_path)\n",
    "    embedding_dict = {}\n",
    "    \n",
    "    for file in file_list:\n",
    "        img_path = os.path.join(dir_path, file)\n",
    "        face = get_cropped_face(img_path)\n",
    "        embedding = get_face_embedding(face)\n",
    "        if len(embedding) > 0:  \n",
    "        # 얼굴영역 face가 제대로 detect되지 않으면  len(embedding)==0인 경우가 발생하므로 \n",
    "        # os.path.splitext(file)[0]에는 이미지파일명에서 확장자를 제거한 이름이 담깁니다. \n",
    "            embedding_dict[os.path.splitext(file)[0]] = embedding[0]\n",
    "            \n",
    "    print(len(embedding_dict))    \n",
    "    return embedding_dict"
   ]
  },
  {
   "cell_type": "code",
   "execution_count": 287,
   "id": "twenty-regulation",
   "metadata": {},
   "outputs": [
    {
     "name": "stdout",
     "output_type": "stream",
     "text": [
      "183\n"
     ]
    },
    {
     "data": {
      "text/plain": [
       "array([-1.02319442e-01,  1.15813084e-01,  2.13384349e-02, -1.14209987e-02,\n",
       "       -9.67840105e-02,  1.55562069e-03, -5.73204458e-02, -1.39144361e-01,\n",
       "        9.83506888e-02, -1.26612142e-01,  2.08135322e-01, -8.24649632e-02,\n",
       "       -2.08371729e-01, -8.93107206e-02, -3.40029448e-02,  1.80139661e-01,\n",
       "       -1.16483413e-01, -1.45360768e-01, -3.27901319e-02,  4.36923355e-02,\n",
       "        1.78156480e-01,  2.16612034e-02, -2.43015937e-04,  5.19728176e-02,\n",
       "       -1.31715894e-01, -3.28723550e-01, -1.24603227e-01, -4.79905270e-02,\n",
       "       -2.64875293e-02, -4.79765199e-02, -9.57336426e-02,  2.02136654e-02,\n",
       "       -1.98594838e-01, -4.14377078e-02,  9.86390747e-04,  1.10383093e-01,\n",
       "       -8.38049129e-03, -7.30223581e-02,  1.31364331e-01, -3.34298871e-02,\n",
       "       -2.80992746e-01,  5.66749424e-02,  6.33878559e-02,  2.33376503e-01,\n",
       "        2.00802043e-01, -3.31065082e-03,  8.09626281e-03, -9.84936804e-02,\n",
       "        9.61028337e-02, -2.00385571e-01,  7.89596885e-02,  1.24187686e-01,\n",
       "        7.29740188e-02,  9.11783800e-02,  3.42346495e-03, -1.33379832e-01,\n",
       "        2.93251686e-03,  1.28225401e-01, -9.57621187e-02,  3.50867771e-02,\n",
       "        8.96499678e-02, -8.42042863e-02, -3.22024971e-02, -1.21516153e-01,\n",
       "        1.41211092e-01,  1.00272872e-01, -1.31335244e-01, -2.04026923e-01,\n",
       "        6.47601858e-02, -1.71725154e-01, -9.71416309e-02,  8.38863403e-02,\n",
       "       -1.87798947e-01, -1.93141609e-01, -3.78681868e-01,  1.39765125e-02,\n",
       "        3.57409447e-01,  1.13799602e-01, -2.19655782e-01,  8.47767480e-03,\n",
       "        2.27877889e-02,  6.39080629e-02,  1.49772361e-01,  1.64792702e-01,\n",
       "        5.75549901e-02,  3.83122414e-02, -1.23767883e-01,  4.72881533e-02,\n",
       "        2.42105544e-01, -7.17872530e-02, -6.53521642e-02,  2.63556242e-01,\n",
       "       -2.38256305e-02,  7.61403516e-02,  1.62401553e-02,  1.36930719e-01,\n",
       "       -9.23693273e-03, -3.09071131e-03, -1.13087736e-01,  4.68614027e-02,\n",
       "        6.42170012e-02, -5.41394874e-02, -8.07598531e-02,  1.48890764e-01,\n",
       "       -1.42087102e-01,  1.45237654e-01, -2.79979408e-02,  1.09550282e-01,\n",
       "       -1.37860933e-03, -6.06688857e-02, -1.22467704e-01,  1.87107436e-02,\n",
       "        1.25525102e-01, -1.88169166e-01,  1.82904527e-01,  1.80144444e-01,\n",
       "        9.33431555e-03,  7.30131418e-02,  1.19328260e-01,  6.86578378e-02,\n",
       "       -1.66076478e-02, -5.32619730e-02, -2.84512937e-01, -4.27079462e-02,\n",
       "        1.04440548e-01, -3.38450633e-02,  5.02863228e-02,  1.49450097e-02])"
      ]
     },
     "execution_count": 287,
     "metadata": {},
     "output_type": "execute_result"
    }
   ],
   "source": [
    "#임베딩 저장 실행\n",
    "embedding_dict = get_face_embedding_dict(dir_path)\n",
    "embedding_dict['me1']"
   ]
  },
  {
   "cell_type": "code",
   "execution_count": 288,
   "id": "naked-burns",
   "metadata": {},
   "outputs": [
    {
     "data": {
      "text/plain": [
       "0.3372247521430368"
      ]
     },
     "execution_count": 288,
     "metadata": {},
     "output_type": "execute_result"
    }
   ],
   "source": [
    "#거리 구하는 메소드 L2로 정의\n",
    "def get_distance(name1, name2):\n",
    "    return np.linalg.norm(embedding_dict[name1]-embedding_dict[name2], ord=2)\n",
    "\n",
    "get_distance('me1','me2')#내 사진으로 비교"
   ]
  },
  {
   "cell_type": "code",
   "execution_count": 289,
   "id": "comprehensive-toddler",
   "metadata": {},
   "outputs": [],
   "source": [
    "#top5 선정하기 메소드 정의\n",
    "def get_nearest_face(name, top=5): \n",
    "    sort_key_func = get_sort_key_func(name)\n",
    "    sorted_faces = sorted(embedding_dict.items(), key=lambda x:sort_key_func(x[0]))\n",
    "    dic = dict()\n",
    "    for i in range(top+1):\n",
    "        \n",
    "        if i == 0 :   # 첫번째로 나오는 이름은 자기 자신일 것이므로 제외합시다. \n",
    "            continue\n",
    "        if sorted_faces[i]:\n",
    "            print('순위 {} : 이름({}), 거리({})'.format(i, sorted_faces[i][0], sort_key_func(sorted_faces[i][0])))\n",
    "            dic[sorted_faces[i][0]]= sort_key_func(sorted_faces[i][0])\n",
    "    return dic\n",
    "    "
   ]
  },
  {
   "cell_type": "code",
   "execution_count": 290,
   "id": "swiss-schema",
   "metadata": {},
   "outputs": [],
   "source": [
    "# # name1과 name2의 거리를 비교하는 함수를 생성하되, name1은 미리 지정하고, name2는 호출시에 인자로 받도록 합니다.\n",
    "def get_sort_key_func(name1):\n",
    "    def get_distance_from_name1(name2):\n",
    "        return get_distance(name1, name2)\n",
    "    return get_distance_from_name1"
   ]
  },
  {
   "cell_type": "code",
   "execution_count": 294,
   "id": "raising-above",
   "metadata": {},
   "outputs": [
    {
     "name": "stdout",
     "output_type": "stream",
     "text": [
      "순위 1 : 이름(me1), 거리(0.3372247521430368)\n",
      "순위 2 : 이름(이대형), 거리(0.40171453430962023)\n",
      "순위 3 : 이름(유지태), 거리(0.42622056742313963)\n",
      "순위 4 : 이름(김현수), 거리(0.43132338509773505)\n",
      "순위 5 : 이름(수호), 거리(0.43242682887881456)\n"
     ]
    }
   ],
   "source": [
    "#나와 닮은 이미지 top5\n",
    "top5=get_nearest_face('me2')"
   ]
  },
  {
   "cell_type": "code",
   "execution_count": 295,
   "id": "purple-phrase",
   "metadata": {},
   "outputs": [
    {
     "name": "stdout",
     "output_type": "stream",
     "text": [
      "{'me1': 0.3372247521430368, '이대형': 0.40171453430962023, '유지태': 0.42622056742313963, '김현수': 0.43132338509773505, '수호': 0.43242682887881456}\n"
     ]
    },
    {
     "data": {
      "image/png": "[encoded data removed]",
      "text/plain": [
       "<Figure size 432x288 with 1 Axes>"
      ]
     },
     "metadata": {
      "needs_background": "light"
     },
     "output_type": "display_data"
    }
   ],
   "source": [
    "# 한글 폰트 설정\n",
    "import matplotlib.pyplot as plt\n",
    "plt.rc('font', family = \"NanumGothic\")\n",
    "plt.rc('axes', unicode_minus=False)\n",
    "%matplotlib inline\n",
    "import warnings\n",
    "warnings.filterwarnings('ignore')\n",
    "\n",
    "print(top5)\n",
    "dict_df = pd.DataFrame(top5,index=[\"거리\"])\n",
    "dict_df\n",
    "\n",
    "x=top5.keys()\n",
    "y=top5.values()\n",
    "\n",
    "plt.figure().add_subplot().set_title('닮은 연예인 Plot')\n",
    "plt.xlabel('닮은 순서', fontsize=18)\n",
    "plt.ylabel('임베딩 벡터 거리', fontsize=18)\n",
    "plt.bar(x, y,color=['r','g','b','y'])\n",
    "plt.show()\n"
   ]
  },
  {
   "cell_type": "markdown",
   "id": "disabled-ceiling",
   "metadata": {},
   "source": [
    "**정리**\n",
    "이미지 간의 유사도는 임베딩 벡터의 차이에 반비례한다는 사실을 알았다.\n",
    "그 차이로 차이가 적은 순으로 나와 닮은 베스트5를 뽑았는데, 역시나 또 다른 나의 사진을 가장 닮은 꼴로 뽑았다. 나머지 값들은 데이터가 적어서 의외의 결과였지만, 다른 환경에서의 나의 사진을 우선으로 뽑았다는 것에 모델이 제대로 작동하고 있음을 확인했다. top5의 사진 모두 내 사진과 벡터 거리 0.5이내의 차이를 보였다."
   ]
  }
 ],
 "metadata": {
  "kernelspec": {
   "display_name": "Python 3",
   "language": "python",
   "name": "python3"
  }
 },
 "nbformat": 4,
 "nbformat_minor": 5
}
